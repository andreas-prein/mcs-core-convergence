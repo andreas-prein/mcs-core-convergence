{
 "cells": [
  {
   "cell_type": "code",
   "execution_count": 1,
   "metadata": {},
   "outputs": [],
   "source": [
    "#!/usr/bin/env python"
   ]
  },
  {
   "cell_type": "markdown",
   "metadata": {},
   "source": [
    "# Idaelized-double-core_example.ipynb"
   ]
  },
  {
   "cell_type": "code",
   "execution_count": 1,
   "metadata": {},
   "outputs": [],
   "source": [
    "from dateutil import rrule\n",
    "import datetime\n",
    "import glob\n",
    "from netCDF4 import Dataset\n",
    "import sys, traceback\n",
    "import dateutil.parser as dparser\n",
    "import string\n",
    "from pdb import set_trace as stop\n",
    "import numpy as np\n",
    "import numpy.ma as ma\n",
    "import os\n",
    "# from mpl_toolkits import basemap\n",
    "# import ESMF\n",
    "import pickle\n",
    "import subprocess\n",
    "import pandas as pd\n",
    "from scipy import stats\n",
    "import copy\n",
    "import matplotlib.pyplot as plt\n",
    "import matplotlib.colors as colors\n",
    "import matplotlib as mpl\n",
    "import pylab as plt\n",
    "import random\n",
    "import scipy.ndimage as ndimage\n",
    "import scipy\n",
    "import shapefile\n",
    "import matplotlib.path as mplPath\n",
    "from matplotlib.patches import Polygon as Polygon2\n",
    "# Cluster specific modules\n",
    "from scipy.cluster.hierarchy import dendrogram, linkage\n",
    "from scipy.cluster.hierarchy import cophenet\n",
    "from scipy.spatial.distance import pdist\n",
    "from scipy.cluster.hierarchy import fcluster\n",
    "from scipy.cluster.vq import kmeans2,vq, whiten\n",
    "from scipy.ndimage import gaussian_filter\n",
    "# import seaborn as sns\n",
    "# import metpy.calc as mpcalc\n",
    "import shapefile as shp\n",
    "import sys \n",
    "import matplotlib.gridspec as gridspec\n",
    "import seaborn\n",
    "# from mpl_toolkits.basemap import Basemap, cm\n",
    "\n",
    "from tqdm import tqdm"
   ]
  },
  {
   "cell_type": "code",
   "execution_count": 2,
   "metadata": {},
   "outputs": [],
   "source": [
    "def core_2d_properties(Objects,\n",
    "                      w_2D,\n",
    "                      cloudmask,\n",
    "                      heigt,\n",
    "                      lentgh):\n",
    "    # this function calculates properties of 2D cores\n",
    "    \n",
    "    gr_core = {}\n",
    "    for ob in range(len(Objects)):\n",
    "        gr_core_act = {}\n",
    "\n",
    "        w_core = np.copy(w_2D[Objects[ob]])\n",
    "        w_core[rgiObjectsUD[Objects[ob]] != ob+1] = np.nan\n",
    "        mask_core = w_core > 0\n",
    "        \n",
    "        cloudmask_act = cloudmask[Objects[ob]]\n",
    "        cloudmask_act[np.isnan(w_core)] = 0\n",
    "        # ignore core if it is partly outside of cloud or touching the boundarie\n",
    "        if np.sum(~np.isnan(cloudmask_act))/np.sum(np.isnan(cloudmask_act)) < 0.8:\n",
    "            continue\n",
    "        \n",
    "        heigt_core = height[Objects[ob][0]]\n",
    "        length_core = (lentgh)[Objects[ob][1]]\n",
    "        if len(heigt_core) <= 3:\n",
    "            # cores that are less than four cell deep are not assessed\n",
    "            continue\n",
    "\n",
    "        dz_core = heigt_core[1:] - heigt_core[:-1]\n",
    "        dz_core = np.append(dz_core, dz_core[-1])\n",
    "        \n",
    "        dx_core = lentgh[1:] - lentgh[:-1]\n",
    "        dx_core = np.append(dx_core, dx_core[-1])\n",
    "\n",
    "        # calculate slope of core\n",
    "        xx = np.array([np.mean(length_core[mask_core[ll]]) for ll in range(len(heigt_core))])\n",
    "        core_slope = scipy.stats.linregress(heigt_core,xx).slope\n",
    "\n",
    "        # plt.pcolormesh(length_core, heigt_core, w_core)\n",
    "        # plt.scatter(xx,heigt_core, c='k')\n",
    "\n",
    "        # calculate core width\n",
    "        core_width = np.array([np.sum(dx_core[Objects[ob][1]][mask_core[ll]] ) for ll in range(len(heigt_core))])\n",
    "        core_with_mean = np.mean(core_width)\n",
    "        core_with_max = np.max(core_width)\n",
    "\n",
    "        # core speed\n",
    "        core_speed_max = np.nanmax(w_core)\n",
    "        core_speed_mean = np.nanmean(w_core)\n",
    "\n",
    "        # core depth\n",
    "        core_height = np.array([np.sum(dz_core[mask_core[:,ll]]) for ll in range(len(length_core))])\n",
    "        core_height_mean = np.mean(core_height)\n",
    "        core_heigth_max = np.max(core_height)\n",
    "\n",
    "        mean_height = np.mean(np.array([np.mean(heigt_core[mask_core[:,ll]]) for ll in range(len(length_core))]))\n",
    "\n",
    "        gr_core_act['mean elevation'] = mean_height\n",
    "        gr_core_act['mean depth'] = core_height_mean\n",
    "        gr_core_act['max depth'] = core_heigth_max\n",
    "        gr_core_act['mean speed'] = core_speed_mean\n",
    "        gr_core_act['max speed'] = core_speed_max\n",
    "        gr_core_act['mean width'] = core_with_mean\n",
    "        gr_core_act['max width'] = core_with_max\n",
    "        gr_core_act['slope from vertical'] = core_slope\n",
    "\n",
    "        gr_core[str(ob+1)] = gr_core_act\n",
    "\n",
    "    return gr_core"
   ]
  },
  {
   "cell_type": "code",
   "execution_count": 3,
   "metadata": {},
   "outputs": [],
   "source": [
    "def core_3d_properties(w_3D,\n",
    "                      rgiObjectsUD,\n",
    "                      Objects,\n",
    "                      height,\n",
    "                      lat_m,\n",
    "                      lon_m):\n",
    "\n",
    "    dx = lon_m[1:] - lon_m[:-1]\n",
    "    dx = np.append(dx, dx[-1])\n",
    "    dy = lat_m[1:] - lat_m[:-1]\n",
    "    dy = np.append(dy, dy[-1])\n",
    "    dxy = np.meshgrid(dx,dy)[0]\n",
    "\n",
    "    dx_3d = np.repeat(dxy[np.newaxis, :, :], len(height), axis=0)\n",
    "\n",
    "    dz = height[1:] - height[:-1]\n",
    "    dz = np.append(dz, dz[-1])\n",
    "    dz_3d = np.repeat(dz[:,np.newaxis], len(lat_m), axis=1)\n",
    "    dz_3d = np.repeat(dz_3d[:,:,np.newaxis], len(lon_m), axis=2)\n",
    "\n",
    "    gr_core = {}\n",
    "    for ob in range(len(Objects)):\n",
    "        gr_core_act = {}\n",
    "\n",
    "        heigt_core = Objects[ob][0].stop - Objects[ob][0].start\n",
    "        if heigt_core <= 3:\n",
    "            # cores that are less than four grid cell deep are not assessed\n",
    "            continue\n",
    "\n",
    "        core_ouline_act = rgiObjectsUD[Objects[ob]] == (ob+1)\n",
    "        # plt.pcolormesh(core_ouline_act[10,:,:])\n",
    "\n",
    "        core_dx = dx_3d[Objects[ob]] * core_ouline_act\n",
    "        core_dx[core_dx == 0] = np.nan\n",
    "        width_x = np.nansum(core_dx, axis=1); width_x[width_x == 0] = np.nan\n",
    "        width_y = np.nansum(core_dx, axis=2); width_y[width_y == 0] = np.nan\n",
    "        core_mean_width = np.append(width_x, width_y)\n",
    "        core_mean_width = core_mean_width[~np.isnan(core_mean_width)]\n",
    "        core_max_width = np.nanmax([np.nanmax(np.nansum(core_dx, axis=1)) , np.nanmax(np.nansum(core_dx, axis=2))])\n",
    "        \n",
    "\n",
    "        area_profile = np.nancumsum(np.nansum(core_dx, axis=(1,2)))\n",
    "        try:\n",
    "            center_point = np.where(area_profile/np.nanmax(area_profile) > 0.5)[0][0]\n",
    "        except:\n",
    "            continue\n",
    "        core_mean_elevation = height[Objects[ob][0]][center_point]\n",
    "\n",
    "        core_dz = dz_3d[Objects[ob]] * core_ouline_act\n",
    "        core_dz[core_dz == 0] = np.nan\n",
    "        core_mean_depth = np.nanmean(np.nansum(core_dz, axis = 0))\n",
    "        core_max_depth = np.nanmax(np.nansum(core_dz, axis = 0))\n",
    "\n",
    "        core_w_act = np.copy(w_3D[Objects[ob]]) * core_ouline_act\n",
    "        core_w_act[core_w_act == 0] = np.nan\n",
    "        core_w_act[rgiObjectsUD[Objects[ob]] != (ob+1)] = np.nan\n",
    "        core_mean_speed = np.nanmean(core_w_act)\n",
    "        core_max_speed = np.nanmax(core_w_act)\n",
    "\n",
    "        gr_core_act['mean elevation'] = core_mean_elevation\n",
    "        gr_core_act['mean depth'] = core_mean_depth\n",
    "        gr_core_act['max depth'] = core_max_depth\n",
    "        gr_core_act['mean speed'] = core_mean_speed\n",
    "        gr_core_act['max speed'] = core_max_speed\n",
    "        gr_core_act['mean width'] = core_mean_width\n",
    "        gr_core_act['max width'] = core_max_width\n",
    "\n",
    "        gr_core[str(ob+1)] = gr_core_act\n",
    "        \n",
    "    return gr_core"
   ]
  },
  {
   "cell_type": "markdown",
   "metadata": {},
   "source": [
    "### SET IDEALIZED CORE PROPERTIES"
   ]
  },
  {
   "cell_type": "code",
   "execution_count": 4,
   "metadata": {},
   "outputs": [],
   "source": [
    "dx = 100 # m - grid spacing of domain\n",
    "ilon = 250 # grid cells in logitude direction\n",
    "ilat = 100 # grid cells in latitude direction\n",
    "top = 15000  # m - top of domain\n",
    "dt = 1 # s\n",
    "itime = 600 # time steps\n",
    "\n",
    "# cores\n",
    "radius = np.array([1000,1500])    # radius of drafts\n",
    "draft_corespeed = np.array([15,20]) # m/s\n",
    "horizontal_advection = 30 # m/s\n",
    "\n",
    "\n",
    "\n",
    "### derived settings\n",
    "ilev = int(top/dx)\n",
    "start_height = (radius/dx * 1.2).astype('int')\n",
    "start_lon = (radius/dx * 1.2).astype('int')\n",
    "start_lat = (np.array([ilat / 2, ilat / 2])).astype('int')\n",
    "\n",
    "center_heigt_time = np.linspace(start_height, start_height + (draft_corespeed * dt * itime)/dx, itime).astype(int)\n",
    "center_lon_time = np.linspace(start_lon, start_lon + (horizontal_advection * dt * itime)/dx, itime).astype(int)\n",
    "\n",
    "# create important matrizes\n",
    "data = np.zeros((itime, ilev, ilat, ilon))\n",
    "height = np.linspace(0,top,ilev+1)\n",
    "lon_m = np.linspace(0,dx*ilon,ilon+1)\n",
    "lat_m = np.linspace(0,dx*ilat,ilat+1)\n",
    "\n",
    "length = np.arange(0,itime,dt)[:] * horizontal_advection\n",
    "\n",
    "# create 3d coordinate arrays\n",
    "height3D = np.repeat(np.repeat(height[:-1,np.newaxis],ilat, axis=1)[:,:,np.newaxis]  ,ilon, axis=2)\n",
    "lat = np.repeat(np.repeat(lat_m[np.newaxis,:-1],len(height[:-1]), axis=0)[:,:,np.newaxis]  ,ilon, axis=2)\n",
    "lon = np.repeat(np.repeat(lon_m[np.newaxis,:-1],ilat, axis=0)[np.newaxis,:,:] ,len(height[:-1]), axis=0)"
   ]
  },
  {
   "cell_type": "markdown",
   "metadata": {},
   "source": [
    "### create draft in matrix"
   ]
  },
  {
   "cell_type": "code",
   "execution_count": 5,
   "metadata": {},
   "outputs": [
    {
     "name": "stderr",
     "output_type": "stream",
     "text": [
      "100%|██████████| 600/600 [01:01<00:00,  9.82it/s]\n",
      "100%|██████████| 600/600 [01:01<00:00,  9.80it/s]\n"
     ]
    }
   ],
   "source": [
    "for co in range(len(radius)):\n",
    "    for tt in tqdm(range(itime)):\n",
    "        z_cent = center_heigt_time[tt] * dx \n",
    "        lon_cent = center_lon_time[tt] * dx \n",
    "        lat_cent = int(ilat / 2) * dx\n",
    "\n",
    "        distance = ((height3D - z_cent[co])**2 + (lon - lon_cent[co])**2 + (lat - lat_cent)**2)**0.5\n",
    "        \n",
    "        norm_dist = np.copy(distance)\n",
    "        norm_dist[distance >= radius[co]] = np.nan\n",
    "        norm_dist = (norm_dist - np.nanmin(norm_dist)) / (np.nanmax(norm_dist) - np.nanmin(norm_dist))\n",
    "        norm_dist = np.abs(norm_dist - 1)\n",
    "        norm_dist = norm_dist * draft_corespeed[co]\n",
    "\n",
    "        data[tt, distance < radius[co]] = \\\n",
    "            np.nanmax(np.array([data[tt, distance < radius[co]], norm_dist[distance < radius[co]]]), axis=0)"
   ]
  },
  {
   "cell_type": "code",
   "execution_count": 6,
   "metadata": {},
   "outputs": [
    {
     "data": {
      "text/plain": [
       "<matplotlib.collections.QuadMesh at 0x14937bb63650>"
      ]
     },
     "execution_count": 6,
     "metadata": {},
     "output_type": "execute_result"
    },
    {
     "data": {
      "image/png": "[encoded data removed]",
      "text/plain": [
       "<Figure size 640x480 with 1 Axes>"
      ]
     },
     "metadata": {},
     "output_type": "display_data"
    }
   ],
   "source": [
    "plt.pcolormesh(lon_m, height, data[0,:,50,:], vmin=0, vmax=20, cmap='coolwarm')"
   ]
  },
  {
   "cell_type": "markdown",
   "metadata": {},
   "source": [
    "### Perform 3D Watershedding"
   ]
  },
  {
   "cell_type": "code",
   "execution_count": 31,
   "metadata": {
    "tags": []
   },
   "outputs": [],
   "source": [
    "import numpy as np\n",
    "from skimage.segmentation import watershed\n",
    "from skimage.feature import peak_local_max\n",
    "import matplotlib.pyplot as plt\n",
    "from scipy import ndimage\n",
    "\n",
    "import warnings\n",
    "warnings.filterwarnings(\"ignore\")\n",
    "\n",
    "draft_th = 3 # m/s\n",
    "tt_max = 300\n",
    "angle_moove = np.linspace(-120, -100, tt_max+1)\n",
    "\n",
    "import matplotlib.pyplot as plt\n",
    "import numpy as np\n",
    "sPlotFile = '/glade/campaign/mmm/c3we/prein/Papers/2023_ConvCores/plot/3D_idealized-cores/'\n",
    "\n",
    "\n",
    "\n",
    "\n",
    "for tt in [100]: #tqdm(range(tt_max)):\n",
    "    data_act = np.copy(data[tt,:,:,:])\n",
    "    image = data_act > draft_th\n",
    "    objects_id_bt, num_objects = ndimage.label(image, structure=np.ones((3, 3, 3)))\n",
    "\n",
    "\n",
    "\n",
    "    distance = ndimage.distance_transform_edt(objects_id_bt)\n",
    "    local_maxi = peak_local_max(\n",
    "        distance, indices=False, footprint=np.ones((3, 3, 3)), labels=objects_id_bt,\n",
    "        min_distance=int(1000/dx), threshold_abs=1)\n",
    "    markers = ndimage.label(local_maxi)[0]\n",
    "    labels = watershed(-distance, markers, mask=objects_id_bt)\n",
    "\n",
    "    num_objects = len(np.unique(labels))-1\n",
    "    if num_objects > 1:\n",
    "        size = np.array([np.sum(labels == ii+1) for ii in range(num_objects)])\n",
    "        color_rank = np.abs(np.argsort(size)-1)\n",
    "    else:\n",
    "        color_rank = [0]\n",
    "\n",
    "\n",
    "\n",
    "#     sPlotName = str(tt).zfill(3)+'_3D-idealized-cores.jpg'\n",
    "\n",
    "#     fig = plt.figure()\n",
    "#     ax = fig.add_subplot(projection='3d')\n",
    "\n",
    "#     colors = ['Reds', 'Blues']\n",
    "#     for dr in [1,2]:\n",
    "#         draft_act = np.array(np.where(labels == dr))\n",
    "\n",
    "#         for ii in range(draft_act.shape[1])[::3]:\n",
    "#             xs = draft_act[0,ii]/10\n",
    "#             ys = draft_act[1,ii]/10\n",
    "#             zs = draft_act[2,ii]/10\n",
    "#             speed = data_act[draft_act[0,ii], draft_act[1,ii], draft_act[2,ii]]\n",
    "#             ax.scatter(xs, ys, zs, marker='.', c = speed, cmap=colors[color_rank[dr-1]], alpha=0.1,\n",
    "#                       vmin = 3, vmax=20)\n",
    "\n",
    "#     ax.set_xlabel('longitude [km]')\n",
    "#     ax.set_ylabel('latitude [km]')\n",
    "#     ax.set_zlabel('heigth [km]')\n",
    "\n",
    "#     ax.set_xlim([0,10])\n",
    "#     ax.set_ylim([0,10])\n",
    "#     ax.set_zlim([0,10])\n",
    "\n",
    "\n",
    "#     elev = 20\n",
    "#     azim = angle_moove[tt]\n",
    "#     roll = 0\n",
    "#     ax.view_init(elev, azim, roll)\n",
    "\n",
    "#     plt.title('3D updraft identification '+str(tt)+' s after start')\n",
    "\n",
    "#     # fig.savefig(sPlotFile+sPlotName, dpi=200)\n",
    "#     plt.show()\n"
   ]
  },
  {
   "cell_type": "code",
   "execution_count": 32,
   "metadata": {},
   "outputs": [
    {
     "data": {
      "text/plain": [
       "<matplotlib.collections.QuadMesh at 0x2b7b5858fe20>"
      ]
     },
     "execution_count": 32,
     "metadata": {},
     "output_type": "execute_result"
    },
    {
     "data": {
      "image/png": "[encoded data removed]",
      "text/plain": [
       "<Figure size 640x480 with 1 Axes>"
      ]
     },
     "metadata": {},
     "output_type": "display_data"
    }
   ],
   "source": [
    "plt.pcolormesh(lon_m[::supsamp], height[::supsamp], labels[:,int(50/supsamp),:], vmin=0, vmax=3, cmap='coolwarm')"
   ]
  },
  {
   "cell_type": "code",
   "execution_count": 128,
   "metadata": {},
   "outputs": [],
   "source": [
    "def watersheding(label_matrix,  # 2D or 3D matrix with labeled objects [np.array]\n",
    "                   min_dist,      # minimum distance between two objects [int]\n",
    "                   threshold):    # minimum threshold difference between two objects [int]\n",
    "    \n",
    "    import numpy as np\n",
    "    from skimage.segmentation import watershed\n",
    "    from skimage.feature import peak_local_max\n",
    "    \n",
    "    if len(label_matrix.shape()) == 2:\n",
    "        conection = np.ones((3, 3))\n",
    "    elif len(label_matrix.shape()) == 3:\n",
    "        conection = np.ones((3, 3, 3))       \n",
    "    \n",
    "    distance = ndimage.distance_transform_edt(label_matrix)\n",
    "    local_maxi = peak_local_max(\n",
    "        distance, indices=False, footprint=np.ones((3, 3, 3)), labels=label_matrix,\n",
    "        min_distance=min_dist, threshold_abs=threshold)\n",
    "    markers = ndimage.label(local_maxi)[0]\n",
    "    labels = watershed(-distance, markers, mask=label_matrix)\n",
    "    \n",
    "    return labels"
   ]
  },
  {
   "cell_type": "code",
   "execution_count": 129,
   "metadata": {
    "tags": []
   },
   "outputs": [
    {
     "data": {
      "image/png": "[encoded data removed]",
      "text/plain": [
       "<Figure size 1000x400 with 2 Axes>"
      ]
     },
     "metadata": {},
     "output_type": "display_data"
    }
   ],
   "source": [
    "import numpy as np\n",
    "from skimage.segmentation import watershed\n",
    "from skimage.feature import peak_local_max\n",
    "import matplotlib.pyplot as plt\n",
    "from scipy import ndimage\n",
    "\n",
    "import warnings\n",
    "warnings.filterwarnings(\"ignore\")\n",
    "\n",
    "draft_th = 3 # m/s\n",
    "tt_max = 300\n",
    "angle_moove = np.linspace(-120, -100, tt_max+1)\n",
    "\n",
    "import matplotlib.pyplot as plt\n",
    "import numpy as np\n",
    "sPlotFile = '/glade/campaign/mmm/c3we/prein/Papers/2023_ConvCores/plot/2D_vis_3D-cores/'\n",
    "\n",
    "\n",
    "\n",
    "color_dr = ['#e41a1c','#377eb8']\n",
    "for tt in [100]: #tqdm(range(tt_max)):\n",
    "    \n",
    "    fig = plt.figure(figsize=(10,4))\n",
    "    # Histogram plots\n",
    "    gs1 = gridspec.GridSpec(1,2) \n",
    "    gs1.update(left=0.06, right=0.97,\n",
    "               bottom=0.13, top=0.97,\n",
    "               wspace=0.15, hspace=0.1)\n",
    "    \n",
    "    resolution = [1, 5]\n",
    "    grid_spacing = ['100 m', '500 m']\n",
    "    sPlotName = str(tt).zfill(3)+'_2D_of_3D-idealized-cores.jpg'\n",
    "    for re in range(len(resolution)):\n",
    "        ax = plt.subplot(gs1[0,re])\n",
    "        supsamp = resolution[re]\n",
    "        data_act = np.copy(data[tt,::supsamp,::supsamp,::supsamp])\n",
    "        image = data_act > draft_th\n",
    "        objects_id_bt, num_objects = ndimage.label(image, structure=np.ones((3, 3, 3)))\n",
    "\n",
    "        \n",
    "        labels = watersheding3d(objects_id_bt,\n",
    "                                int(1000/(dx*supsamp)),\n",
    "                                1)\n",
    "        \n",
    "        # distance = ndimage.distance_transform_edt(objects_id_bt)\n",
    "        # local_maxi = peak_local_max(\n",
    "        #     distance, indices=False, footprint=np.ones((3, 3, 3)), labels=objects_id_bt,\n",
    "        #     min_distance=int(1000/(dx*supsamp)), threshold_abs=1)\n",
    "        # markers = ndimage.label(local_maxi)[0]\n",
    "        # labels = watershed(-distance, markers, mask=objects_id_bt)\n",
    "\n",
    "\n",
    "        labels = np.array(labels, dtype='float')\n",
    "        labels[labels == 0] = np.nan\n",
    "\n",
    "        plt.pcolormesh(lon_m[:-1][::supsamp]/1000, height[:-1][::supsamp]/1000., labels[:,int(50/supsamp),:], \n",
    "                       vmin=0, vmax=3, cmap='coolwarm')\n",
    "        CS = plt.contour(lon_m[:-1][::supsamp]/1000, height[:-1][::supsamp]/1000., data_act[:,int(50/supsamp),:], \n",
    "                       levels = [5,10,15,20,25], colors='k',linewidths = 0.5, )\n",
    "        plt.clabel(CS, inline=1, fontsize=7)\n",
    "\n",
    "        ax.set_xlabel('longitude [km]')\n",
    "        ax.set_ylabel('height [km]')\n",
    "        plt.title('grid spacing ' + grid_spacing[re])\n",
    "        \n",
    "    fig.savefig(sPlotFile+sPlotName, dpi=200, bbox_inches='tight')\n"
   ]
  },
  {
   "cell_type": "code",
   "execution_count": 114,
   "metadata": {},
   "outputs": [
    {
     "data": {
      "text/plain": [
       "'/glade/campaign/mmm/c3we/prein/Papers/2023_ConvCores/plot/2D_vis_3D-cores000_2D_of_3D-idealized-cores.jpg'"
      ]
     },
     "execution_count": 114,
     "metadata": {},
     "output_type": "execute_result"
    }
   ],
   "source": [
    "sPlotFile+sPlotName"
   ]
  },
  {
   "cell_type": "code",
   "execution_count": 112,
   "metadata": {},
   "outputs": [
    {
     "data": {
      "text/plain": [
       "'063_2D_of_3D-idealized-cores.jpg'"
      ]
     },
     "execution_count": 112,
     "metadata": {},
     "output_type": "execute_result"
    }
   ],
   "source": [
    "sPlotName"
   ]
  },
  {
   "cell_type": "code",
   "execution_count": 74,
   "metadata": {},
   "outputs": [
    {
     "data": {
      "text/plain": [
       "<matplotlib.collections.QuadMesh at 0x2b7b5984fe20>"
      ]
     },
     "execution_count": 74,
     "metadata": {},
     "output_type": "execute_result"
    },
    {
     "data": {
      "image/png": "[encoded data removed]",
      "text/plain": [
       "<Figure size 640x480 with 1 Axes>"
      ]
     },
     "metadata": {},
     "output_type": "display_data"
    }
   ],
   "source": [
    "plt.pcolormesh(labels[:,int(50/supsamp),:]==2)"
   ]
  },
  {
   "cell_type": "code",
   "execution_count": 87,
   "metadata": {},
   "outputs": [
    {
     "data": {
      "text/plain": [
       "array([[[0, 0, 0, ..., 0, 0, 0],\n",
       "        [0, 0, 0, ..., 0, 0, 0],\n",
       "        [0, 0, 0, ..., 0, 0, 0],\n",
       "        ...,\n",
       "        [0, 0, 0, ..., 0, 0, 0],\n",
       "        [0, 0, 0, ..., 0, 0, 0],\n",
       "        [0, 0, 0, ..., 0, 0, 0]],\n",
       "\n",
       "       [[0, 0, 0, ..., 0, 0, 0],\n",
       "        [0, 0, 0, ..., 0, 0, 0],\n",
       "        [0, 0, 0, ..., 0, 0, 0],\n",
       "        ...,\n",
       "        [0, 0, 0, ..., 0, 0, 0],\n",
       "        [0, 0, 0, ..., 0, 0, 0],\n",
       "        [0, 0, 0, ..., 0, 0, 0]],\n",
       "\n",
       "       [[0, 0, 0, ..., 0, 0, 0],\n",
       "        [0, 0, 0, ..., 0, 0, 0],\n",
       "        [0, 0, 0, ..., 0, 0, 0],\n",
       "        ...,\n",
       "        [0, 0, 0, ..., 0, 0, 0],\n",
       "        [0, 0, 0, ..., 0, 0, 0],\n",
       "        [0, 0, 0, ..., 0, 0, 0]],\n",
       "\n",
       "       ...,\n",
       "\n",
       "       [[0, 0, 0, ..., 0, 0, 0],\n",
       "        [0, 0, 0, ..., 0, 0, 0],\n",
       "        [0, 0, 0, ..., 0, 0, 0],\n",
       "        ...,\n",
       "        [0, 0, 0, ..., 0, 0, 0],\n",
       "        [0, 0, 0, ..., 0, 0, 0],\n",
       "        [0, 0, 0, ..., 0, 0, 0]],\n",
       "\n",
       "       [[0, 0, 0, ..., 0, 0, 0],\n",
       "        [0, 0, 0, ..., 0, 0, 0],\n",
       "        [0, 0, 0, ..., 0, 0, 0],\n",
       "        ...,\n",
       "        [0, 0, 0, ..., 0, 0, 0],\n",
       "        [0, 0, 0, ..., 0, 0, 0],\n",
       "        [0, 0, 0, ..., 0, 0, 0]],\n",
       "\n",
       "       [[0, 0, 0, ..., 0, 0, 0],\n",
       "        [0, 0, 0, ..., 0, 0, 0],\n",
       "        [0, 0, 0, ..., 0, 0, 0],\n",
       "        ...,\n",
       "        [0, 0, 0, ..., 0, 0, 0],\n",
       "        [0, 0, 0, ..., 0, 0, 0],\n",
       "        [0, 0, 0, ..., 0, 0, 0]]])"
      ]
     },
     "execution_count": 87,
     "metadata": {},
     "output_type": "execute_result"
    }
   ],
   "source": [
    "labels"
   ]
  },
  {
   "cell_type": "code",
   "execution_count": 50,
   "metadata": {},
   "outputs": [
    {
     "data": {
      "text/plain": [
       "(150, 100, 250)"
      ]
     },
     "execution_count": 50,
     "metadata": {},
     "output_type": "execute_result"
    }
   ],
   "source": [
    "labels.shape"
   ]
  },
  {
   "cell_type": "code",
   "execution_count": null,
   "metadata": {},
   "outputs": [],
   "source": []
  },
  {
   "cell_type": "code",
   "execution_count": null,
   "metadata": {},
   "outputs": [],
   "source": []
  },
  {
   "cell_type": "code",
   "execution_count": 58,
   "metadata": {
    "tags": []
   },
   "outputs": [],
   "source": [
    "### Coarsen the data and repeat the watersheding\n",
    "supsamp = 5\n",
    "data_act = np.copy(data[tt,::supsamp,::supsamp,::supsamp])\n",
    "\n",
    "image = data_act > draft_th\n",
    "objects_id_bt, num_objects = ndimage.label(image, structure=np.ones((3, 3, 3)))\n",
    "\n",
    "\n",
    "distance = ndimage.distance_transform_edt(objects_id_bt)\n",
    "local_maxi = peak_local_max(\n",
    "    distance, indices=False, footprint=np.ones((3, 3, 3)), labels=objects_id_bt,\n",
    "    min_distance=int(1000/(dx*supsamp)), threshold_abs=1)\n",
    "markers = ndimage.label(local_maxi)[0]\n",
    "labels = watershed(-distance, markers, mask=objects_id_bt)"
   ]
  },
  {
   "cell_type": "code",
   "execution_count": 14,
   "metadata": {},
   "outputs": [
    {
     "data": {
      "text/plain": [
       "10"
      ]
     },
     "execution_count": 14,
     "metadata": {},
     "output_type": "execute_result"
    }
   ],
   "source": [
    "int(1000/(dx*supsamp))"
   ]
  },
  {
   "cell_type": "code",
   "execution_count": 51,
   "metadata": {},
   "outputs": [
    {
     "data": {
      "text/plain": [
       "<matplotlib.collections.QuadMesh at 0x2b4733722f10>"
      ]
     },
     "execution_count": 51,
     "metadata": {},
     "output_type": "execute_result"
    },
    {
     "data": {
      "image/png": "[encoded data removed]",
      "text/plain": [
       "<Figure size 640x480 with 1 Axes>"
      ]
     },
     "metadata": {},
     "output_type": "display_data"
    }
   ],
   "source": [
    "plt.pcolormesh(lon_m[::supsamp], height[::supsamp], objects_id_bt[:,int(50/supsamp),:], vmin=0, vmax=3, cmap='coolwarm')"
   ]
  },
  {
   "cell_type": "code",
   "execution_count": 50,
   "metadata": {},
   "outputs": [
    {
     "data": {
      "text/plain": [
       "0"
      ]
     },
     "execution_count": 50,
     "metadata": {},
     "output_type": "execute_result"
    }
   ],
   "source": [
    "objects_id_bt.min()"
   ]
  },
  {
   "cell_type": "code",
   "execution_count": 30,
   "metadata": {},
   "outputs": [
    {
     "data": {
      "text/plain": [
       "(30, 20, 50)"
      ]
     },
     "execution_count": 30,
     "metadata": {},
     "output_type": "execute_result"
    }
   ],
   "source": [
    "data[tt,::supsamp,::supsamp,::supsamp].shape"
   ]
  },
  {
   "cell_type": "code",
   "execution_count": 11,
   "metadata": {},
   "outputs": [
    {
     "data": {
      "image/png": "[encoded data removed]",
      "text/plain": [
       "<Figure size 640x480 with 1 Axes>"
      ]
     },
     "metadata": {},
     "output_type": "display_data"
    }
   ],
   "source": [
    "\n",
    "\n",
    "\n",
    "sPlotName = str(tt).zfill(3)+'_3D-idealized-cores.jpg'\n",
    "\n",
    "fig = plt.figure()\n",
    "ax = fig.add_subplot(projection='3d')\n",
    "\n",
    "colors = ['Reds', 'Blues']\n",
    "for dr in [1,2]:\n",
    "    draft_act = np.array(np.where(labels == dr))\n",
    "    \n",
    "    for ii in range(draft_act.shape[1])[::3]:\n",
    "        xs = draft_act[0,ii]/10\n",
    "        ys = draft_act[1,ii]/10\n",
    "        zs = draft_act[2,ii]/10\n",
    "        speed = data_act[draft_act[0,ii], draft_act[1,ii], draft_act[2,ii]]\n",
    "        ax.scatter(xs, ys, zs, marker='.', c = speed, cmap=colors[color_rank[dr-1]], alpha=0.1,\n",
    "                  vmin = 3, vmax=20)\n",
    "\n",
    "ax.set_xlabel('longitude [km]')\n",
    "ax.set_ylabel('latitude [km]')\n",
    "ax.set_zlabel('heigth [km]')\n",
    "\n",
    "ax.set_xlim([0,10])\n",
    "ax.set_ylim([0,10])\n",
    "ax.set_zlim([0,10])\n",
    "\n",
    "\n",
    "elev = 20\n",
    "azim = angle_moove[tt]\n",
    "roll = 0\n",
    "ax.view_init(elev, azim, roll)\n",
    "\n",
    "plt.title('3D updraft identification '+str(tt)+' s after start')\n",
    "\n",
    "fig.savefig(sPlotFile+sPlotName, dpi=200)\n"
   ]
  },
  {
   "cell_type": "code",
   "execution_count": 12,
   "metadata": {},
   "outputs": [
    {
     "data": {
      "text/plain": [
       "'/glade/campaign/mmm/c3we/prein/Papers/2023_ConvCores/plot/3D_idealized-cores/100_3D-idealized-cores.jpg'"
      ]
     },
     "execution_count": 12,
     "metadata": {},
     "output_type": "execute_result"
    }
   ],
   "source": [
    "sPlotFile+sPlotName"
   ]
  },
  {
   "cell_type": "code",
   "execution_count": 13,
   "metadata": {},
   "outputs": [
    {
     "data": {
      "text/plain": [
       "<matplotlib.collections.QuadMesh at 0x2b4731c6ad30>"
      ]
     },
     "execution_count": 13,
     "metadata": {},
     "output_type": "execute_result"
    },
    {
     "data": {
      "image/png": "[encoded data removed]",
      "text/plain": [
       "<Figure size 640x480 with 1 Axes>"
      ]
     },
     "metadata": {},
     "output_type": "display_data"
    }
   ],
   "source": [
    "plt.pcolormesh(lon_m, lat_m, data[50,20,:,:], vmin=0, vmax=20, cmap='coolwarm')"
   ]
  },
  {
   "cell_type": "code",
   "execution_count": null,
   "metadata": {},
   "outputs": [],
   "source": []
  },
  {
   "cell_type": "code",
   "execution_count": null,
   "metadata": {},
   "outputs": [],
   "source": []
  },
  {
   "cell_type": "code",
   "execution_count": null,
   "metadata": {},
   "outputs": [],
   "source": []
  },
  {
   "cell_type": "code",
   "execution_count": null,
   "metadata": {},
   "outputs": [],
   "source": []
  },
  {
   "cell_type": "code",
   "execution_count": null,
   "metadata": {},
   "outputs": [],
   "source": []
  },
  {
   "cell_type": "code",
   "execution_count": 14,
   "metadata": {},
   "outputs": [
    {
     "name": "stderr",
     "output_type": "stream",
     "text": [
      "100%|██████████| 1587/1587 [00:02<00:00, 597.83it/s]\n"
     ]
    }
   ],
   "source": [
    "height_lev = 50 # level\n",
    "intersect = np.where(np.sum(data[:,height_lev,:,:]>0, axis=0)>0)\n",
    "\n",
    "core_timeheight = {}\n",
    "for loc in tqdm(range(len(intersect[0]))):\n",
    "    la = intersect[0][loc]\n",
    "    lo = intersect[1][loc]\n",
    "\n",
    "    rgiObj_Struct=np.zeros((3,3,3)); rgiObj_Struct[:,:,:]=1\n",
    "    draft_th = 10\n",
    "    updrafts = data[:,:,la,lo].T > draft_th\n",
    "    rgiObjectsUD, nr_objectsUD = ndimage.label(updrafts,structure=rgiObj_Struct[0,:,:])\n",
    "    # sort the objects according to their size\n",
    "    Objects=ndimage.find_objects(rgiObjectsUD)\n",
    "\n",
    "    cloudmask = np.copy(updrafts); cloudmask[:] = 1\n",
    "\n",
    "    # core properties according to time-heigt observations\n",
    "    core_timeheight[str(loc).zfill(3)] = core_2d_properties(Objects,\n",
    "                      data[:,:,la,lo].T,\n",
    "                      cloudmask,\n",
    "                      height,\n",
    "                      length)"
   ]
  },
  {
   "cell_type": "code",
   "execution_count": 15,
   "metadata": {},
   "outputs": [
    {
     "name": "stderr",
     "output_type": "stream",
     "text": [
      "100%|██████████| 697/697 [00:00<00:00, 1342.60it/s]\n"
     ]
    }
   ],
   "source": [
    "rgiObj_Struct=np.zeros((3,3,3)); rgiObj_Struct[:,:,:]=1\n",
    "draft_th = 10\n",
    "tt = 200 # time steps after start\n",
    "max_h = int(np.argmax(np.sum(data[tt,:,:,:], axis = (1,2))))\n",
    "intersect = np.where(data[tt,max_h,:,:] > 0)\n",
    "\n",
    "core_latlonheight = {}\n",
    "for loc in tqdm(range(len(intersect[0]))):\n",
    "    la = intersect[0][loc]\n",
    "    lo = intersect[1][loc]\n",
    "\n",
    "    updrafts = data[tt,:,la,:].T   > draft_th\n",
    "    rgiObjectsUD, nr_objectsUD = ndimage.label(updrafts,structure=rgiObj_Struct[0,:,:])\n",
    "    # sort the objects according to their size\n",
    "    Objects=ndimage.find_objects(rgiObjectsUD)\n",
    "\n",
    "    cloudmask = np.copy(updrafts); cloudmask[:] = 1\n",
    "\n",
    "    # core properties according to lon, height time slize\n",
    "    core_latlonheight[str(loc).zfill(3)] = core_2d_properties(Objects,\n",
    "                          data[tt,:,la,:].T,\n",
    "                          cloudmask,\n",
    "                          height,\n",
    "                          lon_m)"
   ]
  },
  {
   "cell_type": "code",
   "execution_count": 16,
   "metadata": {},
   "outputs": [],
   "source": [
    "#  WORK ON 3D CORES\n",
    "tt = 202\n",
    "\n",
    "updrafts = data[tt,:,:,:] >1\n",
    "rgiObjectsUD, nr_objectsUD = ndimage.label(updrafts,structure=rgiObj_Struct[:,:,:])\n",
    "# sort the objects according to their size\n",
    "Objects=ndimage.find_objects(rgiObjectsUD)\n",
    "\n",
    "w_3D = np.copy(updrafts[:,:,:])\n",
    "# w_3D[np.isnan(cloudmask_3d)] = np.nan\n",
    "rgiObjectsUD = rgiObjectsUD.astype(float)\n",
    "# rgiObjectsUD[np.isnan(cloudmask_3d)] = np.nan\n",
    "\n",
    "cores_3d = core_3d_properties(w_3D,\n",
    "                  rgiObjectsUD,\n",
    "                  Objects,\n",
    "                  height,\n",
    "                  lat_m,\n",
    "                  lon_m)"
   ]
  },
  {
   "cell_type": "code",
   "execution_count": 17,
   "metadata": {},
   "outputs": [
    {
     "data": {
      "text/plain": [
       "{'1': {'mean elevation': 5600.0,\n",
       "  'mean depth': 1701.6091954022988,\n",
       "  'max depth': 3900.0,\n",
       "  'mean speed': 1.0,\n",
       "  'max speed': True,\n",
       "  'mean width': array([300., 500., 500., ..., 500., 500., 300.]),\n",
       "  'max width': 2900.0}}"
      ]
     },
     "execution_count": 17,
     "metadata": {},
     "output_type": "execute_result"
    }
   ],
   "source": [
    "cores_3d"
   ]
  },
  {
   "cell_type": "code",
   "execution_count": 18,
   "metadata": {},
   "outputs": [],
   "source": [
    "# gr_core_act['mean elevation'] = mean_height\n",
    "# gr_core_act['mean depth'] = core_height_mean\n",
    "# gr_core_act['max depth'] = core_heigth_max\n",
    "# gr_core_act['mean speed'] = core_speed_mean\n",
    "# gr_core_act['max speed'] = core_speed_max\n",
    "# gr_core_act['mean width'] = core_with_mean\n",
    "# gr_core_act['max width'] = core_with_max\n",
    "# gr_core_act['slope from vertical'] = core_slope\n",
    "\n",
    "stat = 'mean width'\n",
    "th = '1' # [1.5,3.0,6.0,10.0]\n",
    "cores_2d = core_latlonheight\n",
    "cores_vp = core_timeheight\n",
    "# cores_3d = cores_3d_up\n",
    "\n",
    "\n",
    "\n",
    "mean_width_2d = np.array( [\n",
    "                            [\n",
    "                                cores_2d[ii][jj][stat]\n",
    "                                for jj in cores_2d[ii].keys()\n",
    "                            ]\n",
    "                            for ii in [s for s in list(cores_2d.keys()) if th in s]\n",
    "                        ])\n",
    "mean_width_2d = np.array([item for sublist in mean_width_2d for item in sublist])\n",
    "\n",
    "mean_width_vp = np.array( [\n",
    "                            [\n",
    "                                cores_vp[ii][jj][stat]\n",
    "                                for jj in cores_vp[ii].keys()\n",
    "                            ]\n",
    "                            for ii in [s for s in list(cores_vp.keys()) if th in s]\n",
    "                        ])\n",
    "mean_width_vp = np.array([item for sublist in mean_width_vp for item in sublist])\n",
    "\n",
    "# mean_width_3d = np.array( [\n",
    "#                             [\n",
    "#                                 cores_3d[ii][jj][stat]\n",
    "#                                 for jj in cores_3d[ii].keys()\n",
    "#                             ]\n",
    "#                             for ii in [s for s in list(cores_3d.keys()) if th in s]\n",
    "#                         ])\n",
    "# mean_width_3d = np.array([item for sublist in mean_width_3d for item in sublist])"
   ]
  },
  {
   "cell_type": "code",
   "execution_count": 19,
   "metadata": {},
   "outputs": [
    {
     "ename": "ValueError",
     "evalue": "The truth value of an array with more than one element is ambiguous. Use a.any() or a.all()",
     "output_type": "error",
     "traceback": [
      "\u001b[0;31m---------------------------------------------------------------------------\u001b[0m",
      "\u001b[0;31mValueError\u001b[0m                                Traceback (most recent call last)",
      "Cell \u001b[0;32mIn[19], line 7\u001b[0m\n\u001b[1;32m      4\u001b[0m fig \u001b[38;5;241m=\u001b[39m sns\u001b[38;5;241m.\u001b[39mkdeplot(cores_3d[\u001b[38;5;124m'\u001b[39m\u001b[38;5;124m1\u001b[39m\u001b[38;5;124m'\u001b[39m][stat], shade\u001b[38;5;241m=\u001b[39m\u001b[38;5;28;01mTrue\u001b[39;00m, color\u001b[38;5;241m=\u001b[39m\u001b[38;5;124m\"\u001b[39m\u001b[38;5;124mb\u001b[39m\u001b[38;5;124m\"\u001b[39m, clip\u001b[38;5;241m=\u001b[39m[\u001b[38;5;241m0\u001b[39m, \u001b[38;5;241m100000\u001b[39m], label \u001b[38;5;241m=\u001b[39m \u001b[38;5;124m'\u001b[39m\u001b[38;5;124m3D slize\u001b[39m\u001b[38;5;124m'\u001b[39m)\n\u001b[1;32m      5\u001b[0m \u001b[38;5;66;03m# fig = sns.kdeplot(mean_width_3d, shade=True, color=\"b\", clip=[0, 100000])\u001b[39;00m\n\u001b[0;32m----> 7\u001b[0m \u001b[43mplt\u001b[49m\u001b[38;5;241;43m.\u001b[39;49m\u001b[43maxvline\u001b[49m\u001b[43m(\u001b[49m\u001b[43mx\u001b[49m\u001b[38;5;241;43m=\u001b[39;49m\u001b[43m(\u001b[49m\u001b[43m(\u001b[49m\u001b[43mnp\u001b[49m\u001b[38;5;241;43m.\u001b[39;49m\u001b[43mpi\u001b[49m\u001b[38;5;241;43m*\u001b[39;49m\u001b[43mradius\u001b[49m\u001b[43m)\u001b[49m\u001b[38;5;241;43m/\u001b[39;49m\u001b[38;5;241;43m2\u001b[39;49m\u001b[43m)\u001b[49m\u001b[43m,\u001b[49m\u001b[43m \u001b[49m\u001b[43mc\u001b[49m\u001b[38;5;241;43m=\u001b[39;49m\u001b[38;5;124;43m'\u001b[39;49m\u001b[38;5;124;43mk\u001b[39;49m\u001b[38;5;124;43m'\u001b[39;49m\u001b[43m,\u001b[49m\u001b[43m \u001b[49m\u001b[43mlabel\u001b[49m\u001b[38;5;241;43m=\u001b[39;49m\u001b[38;5;124;43m'\u001b[39;49m\u001b[38;5;124;43mtheoretical average width 2D\u001b[39;49m\u001b[38;5;124;43m'\u001b[39;49m\u001b[43m)\u001b[49m\n\u001b[1;32m      8\u001b[0m \u001b[38;5;66;03m# plt.axvline(x=cores_3d['1'][stat], c='b', label='3D core')\u001b[39;00m\n\u001b[1;32m     11\u001b[0m plt\u001b[38;5;241m.\u001b[39mlegend()\n",
      "File \u001b[0;32m/glade/u/apps/opt/conda/envs/npl-2023a/lib/python3.9/site-packages/matplotlib/pyplot.py:2361\u001b[0m, in \u001b[0;36maxvline\u001b[0;34m(x, ymin, ymax, **kwargs)\u001b[0m\n\u001b[1;32m   2359\u001b[0m \u001b[38;5;129m@_copy_docstring_and_deprecators\u001b[39m(Axes\u001b[38;5;241m.\u001b[39maxvline)\n\u001b[1;32m   2360\u001b[0m \u001b[38;5;28;01mdef\u001b[39;00m \u001b[38;5;21maxvline\u001b[39m(x\u001b[38;5;241m=\u001b[39m\u001b[38;5;241m0\u001b[39m, ymin\u001b[38;5;241m=\u001b[39m\u001b[38;5;241m0\u001b[39m, ymax\u001b[38;5;241m=\u001b[39m\u001b[38;5;241m1\u001b[39m, \u001b[38;5;241m*\u001b[39m\u001b[38;5;241m*\u001b[39mkwargs):\n\u001b[0;32m-> 2361\u001b[0m     \u001b[38;5;28;01mreturn\u001b[39;00m \u001b[43mgca\u001b[49m\u001b[43m(\u001b[49m\u001b[43m)\u001b[49m\u001b[38;5;241;43m.\u001b[39;49m\u001b[43maxvline\u001b[49m\u001b[43m(\u001b[49m\u001b[43mx\u001b[49m\u001b[38;5;241;43m=\u001b[39;49m\u001b[43mx\u001b[49m\u001b[43m,\u001b[49m\u001b[43m \u001b[49m\u001b[43mymin\u001b[49m\u001b[38;5;241;43m=\u001b[39;49m\u001b[43mymin\u001b[49m\u001b[43m,\u001b[49m\u001b[43m \u001b[49m\u001b[43mymax\u001b[49m\u001b[38;5;241;43m=\u001b[39;49m\u001b[43mymax\u001b[49m\u001b[43m,\u001b[49m\u001b[43m \u001b[49m\u001b[38;5;241;43m*\u001b[39;49m\u001b[38;5;241;43m*\u001b[39;49m\u001b[43mkwargs\u001b[49m\u001b[43m)\u001b[49m\n",
      "File \u001b[0;32m/glade/u/apps/opt/conda/envs/npl-2023a/lib/python3.9/site-packages/matplotlib/axes/_axes.py:832\u001b[0m, in \u001b[0;36mAxes.axvline\u001b[0;34m(self, x, ymin, ymax, **kwargs)\u001b[0m\n\u001b[1;32m    830\u001b[0m \u001b[38;5;66;03m# Strip away the units for comparison with non-unitized bounds.\u001b[39;00m\n\u001b[1;32m    831\u001b[0m xx, \u001b[38;5;241m=\u001b[39m \u001b[38;5;28mself\u001b[39m\u001b[38;5;241m.\u001b[39m_process_unit_info([(\u001b[38;5;124m\"\u001b[39m\u001b[38;5;124mx\u001b[39m\u001b[38;5;124m\"\u001b[39m, x)], kwargs)\n\u001b[0;32m--> 832\u001b[0m scalex \u001b[38;5;241m=\u001b[39m (xx \u001b[38;5;241m<\u001b[39m xmin) \u001b[38;5;129;01mor\u001b[39;00m (xx \u001b[38;5;241m>\u001b[39m xmax)\n\u001b[1;32m    834\u001b[0m trans \u001b[38;5;241m=\u001b[39m \u001b[38;5;28mself\u001b[39m\u001b[38;5;241m.\u001b[39mget_xaxis_transform(which\u001b[38;5;241m=\u001b[39m\u001b[38;5;124m'\u001b[39m\u001b[38;5;124mgrid\u001b[39m\u001b[38;5;124m'\u001b[39m)\n\u001b[1;32m    835\u001b[0m l \u001b[38;5;241m=\u001b[39m mlines\u001b[38;5;241m.\u001b[39mLine2D([x, x], [ymin, ymax], transform\u001b[38;5;241m=\u001b[39mtrans, \u001b[38;5;241m*\u001b[39m\u001b[38;5;241m*\u001b[39mkwargs)\n",
      "\u001b[0;31mValueError\u001b[0m: The truth value of an array with more than one element is ambiguous. Use a.any() or a.all()"
     ]
    },
    {
     "data": {
      "image/png": "[encoded data removed]",
      "text/plain": [
       "<Figure size 640x480 with 1 Axes>"
      ]
     },
     "metadata": {},
     "output_type": "display_data"
    }
   ],
   "source": [
    "import seaborn as sns\n",
    "fig = sns.kdeplot(mean_width_2d, shade=True, color=\"k\", clip=[0, 100000], label='cross-section')\n",
    "fig = sns.kdeplot(mean_width_vp, shade=True, color=\"r\", clip=[0, 100000], label = 'time-height')\n",
    "fig = sns.kdeplot(cores_3d['1'][stat], shade=True, color=\"b\", clip=[0, 100000], label = '3D slize')\n",
    "# fig = sns.kdeplot(mean_width_3d, shade=True, color=\"b\", clip=[0, 100000])\n",
    "\n",
    "plt.axvline(x=((np.pi*radius)/2), c='k', label='theoretical average width 2D')\n",
    "# plt.axvline(x=cores_3d['1'][stat], c='b', label='3D core')\n",
    "\n",
    "\n",
    "plt.legend()\n",
    "\n",
    "plt.show()"
   ]
  },
  {
   "cell_type": "code",
   "execution_count": null,
   "metadata": {},
   "outputs": [],
   "source": [
    "np.median(cores_3d['1'][stat])"
   ]
  },
  {
   "cell_type": "code",
   "execution_count": null,
   "metadata": {},
   "outputs": [],
   "source": [
    "import numpy as np\n",
    "from skimage.segmentation import watershed\n",
    "from skimage.feature import peak_local_max\n",
    "import matplotlib.pyplot as plt\n",
    "from scipy import ndimage\n",
    "\n",
    "# Generate an initial image with two overlapping circles\n",
    "x, y = np.indices((80, 80))\n",
    "x1, y1, x2, y2 = 28, 28, 44, 52\n",
    "r1, r2 = 16, 20\n",
    "mask_circle1 = (x - x1) ** 2 + (y - y1) ** 2 < r1 ** 2\n",
    "mask_circle2 = (x - x2) ** 2 + (y - y2) ** 2 < r2 ** 2\n",
    "image = np.logical_or(mask_circle1, mask_circle2)\n",
    "# Now we want to separate the two objects in image\n",
    "# Generate the markers as local maxima of the distance\n",
    "# to the background\n",
    "distance = ndimage.distance_transform_edt(image)\n",
    "local_maxi = peak_local_max(\n",
    "    distance, indices=False, footprint=np.ones((3, 3)), labels=image)\n",
    "markers = ndimage.label(local_maxi)[0]\n",
    "labels = watershed(-distance, markers, mask=image)\n",
    "\n",
    "plt.figure(figsize=(9, 3.5))\n",
    "plt.subplot(131)\n",
    "plt.imshow(image, cmap='gray', interpolation='nearest')\n",
    "plt.axis('off')\n",
    "plt.subplot(132)\n",
    "plt.imshow(-distance, interpolation='nearest')\n",
    "plt.axis('off')\n",
    "plt.subplot(133)\n",
    "plt.imshow(labels, cmap='nipy_spectral', interpolation='nearest')\n",
    "plt.axis('off')\n",
    "\n",
    "plt.subplots_adjust(hspace=0.01, wspace=0.01, top=1, bottom=0, left=0,\n",
    "                    right=1)\n",
    "plt.show()"
   ]
  },
  {
   "cell_type": "code",
   "execution_count": null,
   "metadata": {},
   "outputs": [],
   "source": [
    "np.mean(np.nansum(core_dx[:,:,10], axis=1))"
   ]
  },
  {
   "cell_type": "code",
   "execution_count": null,
   "metadata": {},
   "outputs": [],
   "source": [
    "plt.pcolormesh(updrafts[49,:,:])"
   ]
  },
  {
   "cell_type": "code",
   "execution_count": null,
   "metadata": {},
   "outputs": [],
   "source": [
    "stop()"
   ]
  },
  {
   "cell_type": "code",
   "execution_count": null,
   "metadata": {},
   "outputs": [],
   "source": [
    "# def core_3d_properties(w_3D,\n",
    "#                       rgiObjectsUD,\n",
    "#                       Objects,\n",
    "#                       height,\n",
    "#                       lat_m,\n",
    "#                       lon_m):\n",
    "\n",
    "dx = lon_m[1:] - lon_m[:-1]\n",
    "dx = np.append(dx, dx[-1])\n",
    "dy = lat_m[1:] - lat_m[:-1]\n",
    "dy = np.append(dy, dy[-1])\n",
    "dxy = np.meshgrid(dx,dy)[0]\n",
    "\n",
    "dx_3d = np.repeat(dxy[np.newaxis, :, :], len(height), axis=0)\n",
    "\n",
    "dz = height[1:] - height[:-1]\n",
    "dz = np.append(dz, dz[-1])\n",
    "dz_3d = np.repeat(dz[:,np.newaxis], len(lat_m), axis=1)\n",
    "dz_3d = np.repeat(dz_3d[:,:,np.newaxis], len(lon_m), axis=2)\n",
    "\n",
    "gr_core = {}\n",
    "for ob in range(len(Objects)):\n",
    "    gr_core_act = {}\n",
    "\n",
    "    heigt_core = Objects[ob][0].stop - Objects[ob][0].start\n",
    "    if heigt_core <= 3:\n",
    "        # cores that are less than four grid cell deep are not assessed\n",
    "        continue\n",
    "\n",
    "    core_ouline_act = rgiObjectsUD[Objects[ob]] == (ob+1)\n",
    "    # plt.pcolormesh(core_ouline_act[10,:,:])\n",
    "\n",
    "    core_dx = dx_3d[Objects[ob]] * core_ouline_act\n",
    "    core_dx[core_dx == 0] = np.nan\n",
    "    width_x = np.nansum(core_dx, axis=1); width_x[width_x == 0] = np.nan\n",
    "    width_y = np.nansum(core_dx, axis=2); width_y[width_y == 0] = np.nan\n",
    "    core_mean_width = np.append(width_x, width_y)\n",
    "    core_max_width = np.nanmax([np.nanmax(np.nansum(core_dx, axis=1)) , np.nanmax(np.nansum(core_dx, axis=2))])\n",
    "\n",
    "    area_profile = np.nancumsum(np.nansum(core_dx, axis=(1,2)))\n",
    "    try:\n",
    "        center_point = np.where(area_profile/np.nanmax(area_profile) > 0.5)[0][0]\n",
    "    except:\n",
    "        continue\n",
    "    core_mean_elevation = height[Objects[ob][0]][center_point]\n",
    "\n",
    "    core_dz = dz_3d[Objects[ob]] * core_ouline_act\n",
    "    core_dz[core_dz == 0] = np.nan\n",
    "    core_mean_depth = np.nanmean(np.nansum(core_dz, axis = 0))\n",
    "    core_max_depth = np.nanmax(np.nansum(core_dz, axis = 0))\n",
    "\n",
    "    core_w_act = np.copy(w_3D[Objects[ob]]) * core_ouline_act\n",
    "    core_w_act[core_w_act == 0] = np.nan\n",
    "    core_w_act[rgiObjectsUD[Objects[ob]] != (ob+1)] = np.nan\n",
    "    core_mean_speed = np.nanmean(core_w_act)\n",
    "    core_max_speed = np.nanmax(core_w_act)\n",
    "\n",
    "    gr_core_act['mean elevation'] = core_mean_elevation\n",
    "    gr_core_act['mean depth'] = core_mean_depth\n",
    "    gr_core_act['max depth'] = core_max_depth\n",
    "    gr_core_act['mean speed'] = core_mean_speed\n",
    "    gr_core_act['max speed'] = core_max_speed\n",
    "    gr_core_act['mean width'] = core_mean_width\n",
    "    gr_core_act['max width'] = core_max_width\n",
    "\n",
    "    gr_core[str(ob+1)] = gr_core_act\n",
    "        \n"
   ]
  },
  {
   "cell_type": "code",
   "execution_count": null,
   "metadata": {},
   "outputs": [],
   "source": [
    "gr_core"
   ]
  },
  {
   "cell_type": "code",
   "execution_count": null,
   "metadata": {},
   "outputs": [],
   "source": [
    "core_mean_width"
   ]
  },
  {
   "cell_type": "code",
   "execution_count": null,
   "metadata": {},
   "outputs": [],
   "source": [
    "stop()"
   ]
  },
  {
   "cell_type": "code",
   "execution_count": null,
   "metadata": {},
   "outputs": [],
   "source": []
  },
  {
   "cell_type": "code",
   "execution_count": null,
   "metadata": {},
   "outputs": [],
   "source": []
  },
  {
   "cell_type": "code",
   "execution_count": null,
   "metadata": {},
   "outputs": [],
   "source": []
  },
  {
   "cell_type": "code",
   "execution_count": null,
   "metadata": {},
   "outputs": [],
   "source": []
  },
  {
   "cell_type": "code",
   "execution_count": null,
   "metadata": {
    "tags": []
   },
   "outputs": [],
   "source": [
    "grDATA = {}\n",
    "for dx in range(len(DX)):\n",
    "    vwp_file = vwp_dir + SIM_All[si][:-1] + '/' + DX[dx] + '/'+ SIM_All[si]+ '_'+ DX[dx] +'_Loc01.nc'\n",
    "    ncfile = Dataset(vwp_file)\n",
    "    height = np.squeeze(ncfile.variables[\"Height\"])\n",
    "    time = np.squeeze(ncfile.variables['Time'])\n",
    "    ncfile.close()\n",
    "    \n",
    "    # from datetime import timedelta\n",
    "    from datetime import datetime, timedelta\n",
    "    StartDay = datetime(int(SIM[4:8]), int(SIM[8:10]), int(SIM[10:12]), int(SIM[13:15])) - timedelta(hours=6)\n",
    "    StopDay = StartDay  + timedelta(hours=12)\n",
    "    rgdTimeMCS = pd.date_range(StartDay, end=StopDay, freq=str(DT[dx])+'s') #'500ms')\n",
    "    rgdTimeMCS = rgdTimeMCS[:len(time)]\n",
    "\n",
    "    DATA = np.zeros((len(time),len(height), 20, len(VARS))); DATA[:] = np.nan\n",
    "    lat_vs = np.zeros((20)); lat_vs[:] = np.nan\n",
    "    lon_vs = np.copy(lat_vs)\n",
    "\n",
    "    for lo in tqdm(range(20)):  \n",
    "        loc = str(lo+1).zfill(2)\n",
    "        vwp_file = vwp_dir + SIM_All[si][:-1] + '/' + DX[dx] + '/'+ SIM_All[si]+ '_'+ DX[dx] +'_Loc' + loc + '.nc'\n",
    "        ncfile = Dataset(vwp_file)\n",
    "        \n",
    "        lat_vs[lo] = ncfile.getncattr('profiler latitude')\n",
    "        lon_vs[lo] = ncfile.getncattr('profiler longitude')\n",
    "        for va in range(len(VARS)):\n",
    "            # print('    '+VARS[va])\n",
    "            DATA[:,:,lo,va] = np.squeeze(ncfile.variables[VARS[va]])\n",
    "        grDATA[DX[dx]] = DATA"
   ]
  },
  {
   "cell_type": "code",
   "execution_count": null,
   "metadata": {},
   "outputs": [],
   "source": []
  },
  {
   "cell_type": "code",
   "execution_count": null,
   "metadata": {},
   "outputs": [],
   "source": [
    "np.where(np.max(DATA[:,:,:,0]) == DATA[:,:,:,0])"
   ]
  },
  {
   "cell_type": "code",
   "execution_count": null,
   "metadata": {},
   "outputs": [],
   "source": [
    "rgdTimeMCS[6918]"
   ]
  },
  {
   "cell_type": "code",
   "execution_count": null,
   "metadata": {},
   "outputs": [],
   "source": [
    "rgdTimeMCS.shape"
   ]
  },
  {
   "cell_type": "code",
   "execution_count": null,
   "metadata": {},
   "outputs": [],
   "source": [
    "t0 = 0\n",
    "t1 = 42000\n",
    "loc = 8\n",
    "plt.pcolormesh(rgdTimeMCS[t0:t1], height, DATA[t0:t1,:,loc,0].T, vmin=-25, vmax=25, cmap='coolwarm')"
   ]
  },
  {
   "cell_type": "code",
   "execution_count": null,
   "metadata": {},
   "outputs": [],
   "source": [
    "plt.pcolormesh(rgdTimeMCS[t0:t1], height, DATA[t0:t1,:,11,0].T, vmin=-25, vmax=25, cmap='coolwarm')"
   ]
  },
  {
   "cell_type": "markdown",
   "metadata": {},
   "source": [
    "### Read in dBZ at 20th model leve"
   ]
  },
  {
   "cell_type": "code",
   "execution_count": null,
   "metadata": {},
   "outputs": [],
   "source": []
  },
  {
   "cell_type": "code",
   "execution_count": null,
   "metadata": {},
   "outputs": [],
   "source": [
    "wrfout_files = np.sort(glob.glob(wrfout_dir+DX[dx]+'/Thomson_YSU/'+SIM+DX[dx]+'/wrfout_d02*'))\n",
    "ncfile = Dataset(wrfout_files[0])\n",
    "lat = np.squeeze(ncfile.variables[\"XLAT\"])\n",
    "lon = np.squeeze(ncfile.variables['XLONG'])\n",
    "ncfile.close()"
   ]
  },
  {
   "cell_type": "code",
   "execution_count": null,
   "metadata": {},
   "outputs": [],
   "source": [
    "dbz = np.zeros((len(wrfout_files), lat.shape[0], lat.shape[1])); dbz[:] = np.nan\n",
    "for tt in tqdm(range(len(wrfout_files))):\n",
    "    ncfile = Dataset(wrfout_files[tt])\n",
    "    dbz[tt,:,:] = np.squeeze(ncfile.variables[\"REFL_10CM\"][0,20,:,:])\n",
    "    ncfile.close()"
   ]
  },
  {
   "cell_type": "code",
   "execution_count": null,
   "metadata": {},
   "outputs": [],
   "source": [
    "# create time vector for wrfout files\n",
    "import wrf\n",
    "ncfile = Dataset(wrfout_files[0])\n",
    "start_wrfout = wrf.extract_times(ncfile,0)\n",
    "ncfile = Dataset(wrfout_files[-1])\n",
    "stop_wrfout = wrf.extract_times(ncfile,0)\n",
    "\n",
    "time_wrfout = pd.date_range(start_wrfout, end=stop_wrfout, freq='10min') #'500ms')"
   ]
  },
  {
   "cell_type": "markdown",
   "metadata": {},
   "source": [
    "### Track high-reflectivity areas and determine their speed"
   ]
  },
  {
   "cell_type": "code",
   "execution_count": null,
   "metadata": {},
   "outputs": [],
   "source": [
    "idbz_threshold = 40\n",
    "MinObjVolume = 4000000 # m2\n",
    "iSmooth = 16000\n",
    "rgiObj_Struct=np.zeros((3,3,3)); rgiObj_Struct[:,:,:]=1\n",
    "\n",
    "iSmoothGC=int(iSmooth/dx_m[dx])\n",
    "dbz_smooth=scipy.ndimage.uniform_filter(dbz[:,:,:],[1,iSmoothGC,iSmoothGC])\n",
    "\n",
    "# threshold the dbz\n",
    "rgiTH_dbz=(dbz_smooth >= idbz_threshold)\n",
    "rgrdbz_thresholded=np.copy(dbz)\n",
    "rgrdbz_thresholded[rgiTH_dbz == False]=0\n",
    "rgiObjectsUD, nr_objectsUD = ndimage.label(rgiTH_dbz,structure=rgiObj_Struct)\n",
    "\n",
    "# sort the objects according to their size\n",
    "Objects=ndimage.find_objects(rgiObjectsUD)\n",
    "rgiVolObj=np.array([np.sum(rgiObjectsUD[Objects[ob]] == ob+1) for ob in range(nr_objectsUD)])\n",
    "rgiObBySize=np.array([np.where(np.sort(rgiVolObj)[::-1][ob] == rgiVolObj)[0][0] for ob in range(nr_objectsUD)])\n",
    "rgiObBySize=rgiObBySize[rgiVolObj[rgiObBySize] >= MinObjVolume]\n",
    "\n",
    "# create final object array\n",
    "dbz_objects=np.copy(rgiObjectsUD); dbz_objects[:]=0\n",
    "for ob in range(len(rgiObBySize)):\n",
    "    dbz_objects[rgiObjectsUD == (rgiObBySize[ob]+1)] = ob+1\n",
    "    \n"
   ]
  },
  {
   "cell_type": "code",
   "execution_count": null,
   "metadata": {},
   "outputs": [],
   "source": [
    "print('        break up long living cores')\n",
    "from Tracking_Functions import BreakupObjects\n",
    "MS_objects, object_split = BreakupObjects(dbz_objects,\n",
    "                            3/6.,\n",
    "                            1/6.)"
   ]
  },
  {
   "cell_type": "code",
   "execution_count": null,
   "metadata": {},
   "outputs": [],
   "source": [
    "from Tracking_Functions import calc_grid_distance_area\n",
    "from Tracking_Functions import calc_object_characteristics\n",
    "_,_,Area,Gridspacing = calc_grid_distance_area(lon,lat)\n",
    "\n",
    "cell_obj_characteristics = calc_object_characteristics(MS_objects.astype('int'), # feature object file\n",
    "                                     dbz,         # original file used for feature detection\n",
    "                                     'tmp/cell_stats.pkl',\n",
    "                                     rgdTimeMCS,            # timesteps of the data\n",
    "                                     lat,             # 2D latidudes\n",
    "                                     lon,             # 2D Longitudes\n",
    "                                     Gridspacing,\n",
    "                                     Area,\n",
    "                                     min_tsteps=3,\n",
    "                                     split_merge = 0)"
   ]
  },
  {
   "cell_type": "code",
   "execution_count": null,
   "metadata": {},
   "outputs": [],
   "source": [
    "# get cores that intersect with virtual sounding locations\n",
    "\n",
    "# get location of vs in grid\n",
    "from Tracking_Functions import radialdistance\n",
    "lat_vs_id = np.copy(lat_vs); lat_vs_id[:] = np.nan\n",
    "lon_vs_id = np.copy(lat_vs_id)\n",
    "for ii in tqdm(range(len(lat_vs))):\n",
    "    mindist = radialdistance(lat,lon,lat_vs[ii],lon_vs[ii])\n",
    "    min_loc = np.argwhere(mindist == np.min(mindist))[0]\n",
    "    lat_vs_id[ii] = min_loc[0]\n",
    "    lon_vs_id[ii] = min_loc[1]\n",
    "\n",
    "lat_vs_id = lat_vs_id.astype('int')\n",
    "lon_vs_id = lon_vs_id.astype('int')"
   ]
  },
  {
   "cell_type": "code",
   "execution_count": null,
   "metadata": {
    "tags": []
   },
   "outputs": [],
   "source": [
    "dist = 60000 # m -- distance to extract arround the station\n",
    "timewindow = 40 # minutes arround 2D obs\n",
    "dx_dist = int(dist/dx_m[dx])\n",
    "\n",
    "cores_vp_up = {}\n",
    "cores_2d_up = {}\n",
    "cores_3d_up = {}\n",
    "cores_vp_down = {}\n",
    "cores_2d_down = {}\n",
    "cores_3d_down = {}\n",
    "\n",
    "ud_min = 1.5\n",
    "dd_min = 1.5\n",
    "draft_th = [1.5,3.0,6.0,10.0]\n",
    "\n",
    "direction = ['up', 'down']  # [ up - updraft; down - downdraft]\n",
    "                \n",
    "for ii in tqdm(range(len(lat_vs))):\n",
    "    conv_inters = np.unique(MS_objects[:,lat_vs_id[ii],lon_vs_id[ii]])[1:]\n",
    "    la_start = lat_vs_id[ii] - dx_dist\n",
    "    la_stop = lat_vs_id[ii] + dx_dist + 1\n",
    "    lo_start = lon_vs_id[ii] - dx_dist\n",
    "    lo_stop = lon_vs_id[ii] + dx_dist +1\n",
    "\n",
    "    location = 'loc-'+str(ii).zfill(2)\n",
    "\n",
    "    # virtual profiler data\n",
    "    data_vp = grDATA[DX[dx]][:,:,ii,:]\n",
    "\n",
    "    for ca in range(len(conv_inters)):\n",
    "        conv_element = 'conv-'+str(ca).zfill(3)\n",
    "        files_int = wrfout_files[conv_inters[ca] == (MS_objects[:,lat_vs_id[ii],lon_vs_id[ii]])]\n",
    "        speed_ca_median = np.median(cell_obj_characteristics[str(conv_inters[ca])]['speed'])\n",
    "\n",
    "        for fi in [0]: #range(len(files_int)):\n",
    "            file_act = 'output-'+str(fi).zfill(2)\n",
    "            ncfile = Dataset(files_int[fi])\n",
    "            dbz_ca = np.squeeze(ncfile.variables[\"REFL_10CM\"][0,:,la_start:la_stop,lo_start:lo_stop])\n",
    "            w_ca = np.squeeze(ncfile.variables[\"W\"][0,:,la_start:la_stop,lo_start:lo_stop])\n",
    "            z_ca_stag = (np.squeeze(ncfile.variables[\"PHB\"][0,:,la_start:la_stop,lo_start:lo_stop]) + \\\n",
    "                    np.squeeze(ncfile.variables[\"PH\"][0,:,la_start:la_stop,lo_start:lo_stop])) / 9.81 - \\\n",
    "                    np.squeeze(ncfile.variables[\"HGT\"][0,la_start:la_stop,lo_start:lo_stop])\n",
    "            z_ca = (z_ca_stag[1:,:] + z_ca_stag[:-1,:])/2\n",
    "            # brind 3D data to common grid\n",
    "            dbz_ca_comz = wrf.interpz3d(dbz_ca, z_ca, height, missing = np.nan)\n",
    "            w_ca_comz = wrf.interpz3d(w_ca, z_ca_stag, height, missing = np.nan)\n",
    "            ncfile.close()\n",
    "\n",
    "            # degrees to meters\n",
    "            lon_m = np.linspace(0,Gridspacing*w_ca.shape[1], w_ca.shape[1]); lon_m = lon_m - np.mean(lon_m)\n",
    "            lat_m = np.copy(lon_m)\n",
    "\n",
    "            cloudmask = np.copy(dbz_ca_comz[:,dx_dist,:]); cloudmask[:] = 1\n",
    "            cloudmask[0,:] = np.nan\n",
    "            cloudmask[-1,:] = np.nan\n",
    "            cloudmask[dbz_ca_comz[:,dx_dist,:] <= -30] = np.nan\n",
    "            \n",
    "            cloudmask_3d = np.copy(dbz_ca_comz[:,:,:]); cloudmask_3d[:] = 1\n",
    "            cloudmask_3d[dbz_ca_comz[:,:,:] <= -30] = np.nan\n",
    "\n",
    "\n",
    "#             plt.pcolormesh(lon_m/1000., height, w_ca_comz[:,dx_dist,:], vmin=-25, vmax=25, cmap='coolwarm')\n",
    "#             plt.contour(lon_m/1000., height, w_ca_comz[:,dx_dist,:] > 5, colors = 'r')\n",
    "#             plt.contour(lon_m/1000., height, w_ca_comz[:,dx_dist,:] < -5, colors = 'b')\n",
    "#             plt.contour(lon_m/1000., height, \n",
    "#                            cloudmask > 0,\n",
    "#                         colors='k')\n",
    "#             plt.show()\n",
    "            \n",
    "#             stop()\n",
    "\n",
    "            for di in range(len(direction)):\n",
    "                if direction[di] == 'up':\n",
    "                    dire_sign = 1\n",
    "                elif direction[di] == 'down':\n",
    "                    dire_sign = -1\n",
    "\n",
    "                for th in range(len(draft_th)):\n",
    "                    # virtual profiler draft characteristics\n",
    "                    updrafts = w_ca_comz[:,dx_dist,:]  * dire_sign > draft_th[th]\n",
    "                    rgiObjectsUD, nr_objectsUD = ndimage.label(updrafts,structure=rgiObj_Struct[0,:,:])\n",
    "                    # sort the objects according to their size\n",
    "                    Objects=ndimage.find_objects(rgiObjectsUD)\n",
    "\n",
    "                    w_2D = np.copy(w_ca_comz[:,dx_dist,:]) * dire_sign\n",
    "                    if direction[di] == 'up':\n",
    "                        cores_2d_up[str(draft_th[th]).zfill(2)+'_'+location+'_'+conv_element+'_'+file_act] = core_2d_properties(Objects,\n",
    "                                      w_2D,\n",
    "                                      cloudmask,\n",
    "                                      height,\n",
    "                                      lon_m)\n",
    "                    elif direction[di] == 'down':\n",
    "                        cores_2d_down[str(draft_th[th]).zfill(2)+'_'+location+'_'+conv_element+'_'+file_act] = core_2d_properties(Objects,\n",
    "                                      w_2D,\n",
    "                                      cloudmask,\n",
    "                                      height,\n",
    "                                      lon_m)\n",
    "\n",
    "                        \n",
    "                    #  WORK ON 3D CORES\n",
    "                    updrafts = w_ca_comz[:,:,:]  * dire_sign > draft_th[th]\n",
    "                    rgiObjectsUD, nr_objectsUD = ndimage.label(updrafts,structure=rgiObj_Struct[:,:,:])\n",
    "                    # sort the objects according to their size\n",
    "                    Objects=ndimage.find_objects(rgiObjectsUD)\n",
    "\n",
    "                    w_3D = np.copy(w_ca_comz[:,:,:]) * dire_sign\n",
    "                    w_3D[np.isnan(cloudmask_3d)] = np.nan\n",
    "                    rgiObjectsUD = rgiObjectsUD.astype(float)\n",
    "                    rgiObjectsUD[np.isnan(cloudmask_3d)] = np.nan\n",
    "\n",
    "                    if direction[di] == 'up':\n",
    "                        cores_3d_up[str(draft_th[th]).zfill(2)+'_'+location+'_'+conv_element+'_'+file_act] = core_3d_properties(w_3D,\n",
    "                                          rgiObjectsUD,\n",
    "                                          Objects,\n",
    "                                          height,\n",
    "                                          lat_m,\n",
    "                                          lon_m)\n",
    "                    elif direction[di] == 'down':\n",
    "                        cores_3d_down[str(draft_th[th]).zfill(2)+'_'+location+'_'+conv_element+'_'+file_act] = core_3d_properties(w_3D,\n",
    "                                          rgiObjectsUD,\n",
    "                                          Objects,\n",
    "                                          height,\n",
    "                                          lat_m,\n",
    "                                          lon_m)\n",
    "\n",
    "                    \n",
    "                        \n",
    "        # ---------------------------------------------\n",
    "        # calculate properties from virtual profiler\n",
    "        time_ca = time_wrfout[conv_inters[ca] == (MS_objects[:,lat_vs_id[ii],lon_vs_id[ii]])]\n",
    "        time_vp = (rgdTimeMCS <= (time_ca + timedelta(minutes=timewindow))[0]) & (rgdTimeMCS >= (time_ca - timedelta(minutes=timewindow))[0])  \n",
    "        time_to_length = range(0,sum(time_vp), DT[dx]) * speed_ca_median\n",
    "\n",
    "        wrf_dbz_column = wrf.dbz(data_vp[time_vp,:,VARS.index('P')][None,:], \n",
    "                        data_vp[time_vp,:,VARS.index('TK')][None,:], \n",
    "                        data_vp[time_vp,:,VARS.index('QV')][None,:], \n",
    "                        data_vp[time_vp,:,VARS.index('QR')][None,:], \n",
    "                        qs=data_vp[time_vp,:,VARS.index('QS')][None,:], \n",
    "                        qg=data_vp[time_vp,:,VARS.index('QG')][None,:],\n",
    "                        use_varint = True,\n",
    "                        use_liqskin=True)\n",
    "\n",
    "        cloudmask = np.copy(DATA[time_vp,:,ii,VARS.index('WW')]); cloudmask[:] = 1\n",
    "        cloudmask[0,:] = np.nan\n",
    "        cloudmask[-1,:] = np.nan\n",
    "        cloudmask[wrf_dbz_column[0] <= -30] = np.nan\n",
    "\n",
    "        # plt.pcolormesh(time_to_length/1000., height, data_vp[time_vp,:,VARS.index('WW')].T, vmin=-25, vmax=25, cmap='coolwarm')\n",
    "        # plt.contour(time_to_length/1000., height, data_vp[time_vp,:,VARS.index('WW')].T > draft_min, colors = 'r')\n",
    "        # plt.contour(time_to_length/1000., height, data_vp[time_vp,:,VARS.index('WW')].T < -draft_min, colors = 'b')\n",
    "        # plt.contour(time_to_length/1000., height, \n",
    "        #                cloudmask[:,:].T > 0, \n",
    "        #             colors='k')\n",
    "        # plt.show()\n",
    "\n",
    "        for th in range(len(draft_th)):\n",
    "            for di in range(len(direction)):\n",
    "                if direction[di] == 'up':\n",
    "                    dire_sign = 1\n",
    "                elif direction[di] == 'down':\n",
    "                    dire_sign = -1\n",
    "\n",
    "                # virtual profiler draft characteristics\n",
    "                updrafts = data_vp[time_vp,:,VARS.index('WW')].T * dire_sign > draft_th[th]\n",
    "                rgiObjectsUD, nr_objectsUD = ndimage.label(updrafts,structure=rgiObj_Struct[0,:,:])\n",
    "                # sort the objects according to their size\n",
    "                Objects=ndimage.find_objects(rgiObjectsUD)\n",
    "\n",
    "                w_2D = np.copy(data_vp[time_vp,:,VARS.index('WW')].T)* dire_sign\n",
    "                if direction[di] == 'up':\n",
    "                    cores_vp_up[str(draft_th[th]).zfill(2)+'_'+location+'_'+conv_element] = core_2d_properties(Objects,\n",
    "                                  w_2D,\n",
    "                                  cloudmask.T,\n",
    "                                  height,\n",
    "                                  time_to_length)\n",
    "                elif direction[di] == 'down':\n",
    "                    cores_vp_down[str(draft_th[th]).zfill(2)+'_'+location+'_'+conv_element] = core_2d_properties(Objects,\n",
    "                                  w_2D,\n",
    "                                  cloudmask.T,\n",
    "                                  height,\n",
    "                                  time_to_length)\n",
    "                    \n",
    "\n",
    "                    "
   ]
  },
  {
   "cell_type": "code",
   "execution_count": null,
   "metadata": {},
   "outputs": [],
   "source": [
    "plt.pcolormesh(lon_m/1000., height, w_ca_comz[:,dx_dist,:], vmin=-25, vmax=25, cmap='coolwarm')\n",
    "plt.contour(lon_m/1000., height, w_ca_comz[:,dx_dist,:] > 3, colors = 'r')\n",
    "plt.contour(lon_m/1000., height, w_ca_comz[:,dx_dist,:] < -3, colors = 'b')\n",
    "# plt.contour(lon_m/1000., height, \n",
    "#                cloudmask > 0,\n",
    "#             colors='k')\n",
    "plt.axhline(y=height[40], color='k', linestyle='-')"
   ]
  },
  {
   "cell_type": "code",
   "execution_count": null,
   "metadata": {},
   "outputs": [],
   "source": [
    "hh = 30\n",
    "plt.pcolormesh(lat_m/1000., lon_m/1000., w_ca_comz[hh,:,:], vmin=-25, vmax=25, cmap='coolwarm')\n",
    "plt.contour(lat_m/1000., lon_m/1000., w_ca_comz[hh,:,:] > 3, colors = 'r')\n",
    "plt.contour(lat_m/1000., lon_m/1000., w_ca_comz[hh,:,:] < -3, colors = 'b')\n",
    "plt.axhline(y=0, color='k', linestyle='-')"
   ]
  },
  {
   "cell_type": "code",
   "execution_count": null,
   "metadata": {},
   "outputs": [],
   "source": [
    "dx_dist"
   ]
  },
  {
   "cell_type": "code",
   "execution_count": null,
   "metadata": {},
   "outputs": [],
   "source": [
    "dxx = lon_m[1:] - lon_m[:-1]\n",
    "dxx = np.append(dxx, dxx[-1])\n",
    "dy = lat_m[1:] - lat_m[:-1]\n",
    "dy = np.append(dy, dy[-1])\n",
    "dxy = np.meshgrid(dxx,dy)[0]\n",
    "\n",
    "dx_3d = np.repeat(dxy[np.newaxis, :, :], len(height), axis=0)\n",
    "\n",
    "dz = height[1:] - height[:-1]\n",
    "dz = np.append(dz, dz[-1])\n",
    "dz_3d = np.repeat(dz[:,np.newaxis], len(lat_m), axis=1)\n",
    "dz_3d = np.repeat(dz_3d[:,:,np.newaxis], len(lon_m), axis=2)\n",
    "\n",
    "gr_core = {}\n",
    "for ob in range(len(Objects)):\n",
    "    gr_core_act = {}\n",
    "\n",
    "    heigt_core = Objects[ob][0].stop - Objects[ob][0].start\n",
    "    if heigt_core <= 3:\n",
    "        # cores that are only one grid cell deep are not assessed\n",
    "        continue\n",
    "\n",
    "    core_ouline_act = rgiObjectsUD[Objects[ob]] == (ob+1)\n",
    "    # plt.pcolormesh(core_ouline_act[10,:,:])\n",
    "\n",
    "    core_dx = dx_3d[Objects[ob]] * core_ouline_act\n",
    "    core_dx[core_dx == 0] = np.nan\n",
    "    core_mean_width = np.nanmean(np.nansum(core_dx, axis=1)) + np.nanmean(np.nansum(core_dx, axis=2))\n",
    "    core_max_width = np.nanmax([np.nanmax(np.nansum(core_dx, axis=1)) , np.nanmax(np.nansum(core_dx, axis=2))])\n",
    "    stop()\n",
    "    \n",
    "    area_profile = np.nancumsum(np.nansum(core_dx, axis=(1,2)))\n",
    "    try:\n",
    "        center_point = np.where(area_profile/np.nanmax(area_profile) >= 0.5)[0][0]\n",
    "    except:\n",
    "        continue\n",
    "    core_mean_elevation = height[Objects[ob][0]][center_point]\n",
    "\n",
    "    core_dz = dz_3d[Objects[ob]] * core_ouline_act\n",
    "    core_mean_depth = np.nanmean(np.nansum(core_dz, axis = 0))\n",
    "    core_max_depth = np.nanmax(np.nansum(core_dz, axis = 0))\n",
    "\n",
    "    core_w_act = np.copy(w_3D[Objects[ob]])\n",
    "    core_w_act[rgiObjectsUD[Objects[ob]] != (ob+1)] = np.nan\n",
    "    core_mean_speed = np.nanmean(core_w_act)\n",
    "    core_max_speed = np.nanmax(core_w_act)\n",
    "\n",
    "    gr_core_act['mean elevation'] = core_mean_elevation\n",
    "    gr_core_act['mean depth'] = core_mean_depth\n",
    "    gr_core_act['max depth'] = core_max_depth\n",
    "    gr_core_act['mean speed'] = core_mean_speed\n",
    "    gr_core_act['max speed'] = core_max_speed\n",
    "    gr_core_act['mean width'] = core_mean_width\n",
    "    gr_core_act['max width'] = core_max_width\n",
    "\n",
    "    gr_core[str(ob+1)] = gr_core_act"
   ]
  },
  {
   "cell_type": "code",
   "execution_count": null,
   "metadata": {},
   "outputs": [],
   "source": [
    "core_mean_width"
   ]
  },
  {
   "cell_type": "code",
   "execution_count": null,
   "metadata": {},
   "outputs": [],
   "source": [
    "np.nanmean(np.nansum(core_dx, axis=1)) + np.nanmean(np.nansum(core_dx, axis=2))"
   ]
  },
  {
   "cell_type": "code",
   "execution_count": null,
   "metadata": {},
   "outputs": [],
   "source": [
    "np.nansum(core_dx, axis=1).shape"
   ]
  },
  {
   "cell_type": "code",
   "execution_count": null,
   "metadata": {},
   "outputs": [],
   "source": [
    "core_ouline_act"
   ]
  },
  {
   "cell_type": "code",
   "execution_count": null,
   "metadata": {},
   "outputs": [],
   "source": [
    "# # 3D core properties\n",
    "# th = 3\n",
    "# updrafts = w_ca_comz[:,:,:]  * dire_sign > 3 #draft_th[th]\n",
    "# rgiObjectsUD, nr_objectsUD = ndimage.label(updrafts,structure=rgiObj_Struct[:,:,:])\n",
    "# # sort the objects according to their size\n",
    "# Objects=ndimage.find_objects(rgiObjectsUD)\n",
    "\n",
    "# w_3D = np.copy(w_ca_comz[:,:,:])* dire_sign\n",
    "# if direction[di] == 'up':\n",
    "#     cores_3d_up = core_3d_properties(w_3D,\n",
    "#                       rgiObjectsUD,\n",
    "#                       Objects,\n",
    "#                       height,\n",
    "#                       lat_m,\n",
    "#                       lon_m)\n",
    "# elif direction[di] == 'down':\n",
    "#     cores_3d_down = core_3d_properties(w_3D,\n",
    "#                       rgiObjectsUD,\n",
    "#                       Objects,\n",
    "#                       height,\n",
    "#                       lat_m,\n",
    "#                       lon_m)\n"
   ]
  },
  {
   "cell_type": "code",
   "execution_count": null,
   "metadata": {},
   "outputs": [],
   "source": [
    "\n"
   ]
  },
  {
   "cell_type": "code",
   "execution_count": null,
   "metadata": {},
   "outputs": [],
   "source": []
  },
  {
   "cell_type": "code",
   "execution_count": null,
   "metadata": {},
   "outputs": [],
   "source": [
    "# cores_vp[location+'_'+conv_element] = core_2d_properties(Objects,\n",
    "#                           w_2D,\n",
    "#                           cloudmask.T,\n",
    "#                           height,\n",
    "#                           time_to_length)"
   ]
  },
  {
   "cell_type": "code",
   "execution_count": null,
   "metadata": {},
   "outputs": [],
   "source": [
    "# gr_core_act['mean elevation'] = mean_height\n",
    "# gr_core_act['mean depth'] = core_height_mean\n",
    "# gr_core_act['max depth'] = core_heigth_max\n",
    "# gr_core_act['mean speed'] = core_speed_mean\n",
    "# gr_core_act['max speed'] = core_speed_max\n",
    "# gr_core_act['mean width'] = core_with_mean\n",
    "# gr_core_act['max width'] = core_with_max\n",
    "# gr_core_act['slope from vertical'] = core_slope\n",
    "\n",
    "stat = 'mean width'\n",
    "th = '10.0' # [1.5,3.0,6.0,10.0]\n",
    "cores_2d = cores_2d_up\n",
    "cores_vp = cores_vp_up\n",
    "cores_3d = cores_3d_up\n",
    "\n",
    "\n",
    "\n",
    "mean_width_2d = np.array( [\n",
    "                            [\n",
    "                                cores_2d[ii][jj][stat]\n",
    "                                for jj in cores_2d[ii].keys()\n",
    "                            ]\n",
    "                            for ii in [s for s in list(cores_2d.keys()) if th in s]\n",
    "                        ])\n",
    "mean_width_2d = np.array([item for sublist in mean_width_2d for item in sublist])\n",
    "\n",
    "mean_width_vp = np.array( [\n",
    "                            [\n",
    "                                cores_vp[ii][jj][stat]\n",
    "                                for jj in cores_vp[ii].keys()\n",
    "                            ]\n",
    "                            for ii in [s for s in list(cores_vp.keys()) if th in s]\n",
    "                        ])\n",
    "mean_width_vp = np.array([item for sublist in mean_width_vp for item in sublist])\n",
    "\n",
    "mean_width_3d = np.array( [\n",
    "                            [\n",
    "                                cores_3d[ii][jj][stat]\n",
    "                                for jj in cores_3d[ii].keys()\n",
    "                            ]\n",
    "                            for ii in [s for s in list(cores_3d.keys()) if th in s]\n",
    "                        ])\n",
    "mean_width_3d = np.array([item for sublist in mean_width_3d for item in sublist])"
   ]
  },
  {
   "cell_type": "code",
   "execution_count": null,
   "metadata": {},
   "outputs": [],
   "source": [
    "import seaborn as sns\n",
    "fig = sns.kdeplot(mean_width_2d, shade=True, color=\"k\", clip=[0, 100000])\n",
    "fig = sns.kdeplot(mean_width_vp, shade=True, color=\"r\", clip=[0, 100000])\n",
    "fig = sns.kdeplot(mean_width_3d, shade=True, color=\"b\", clip=[0, 100000])\n",
    "plt.show()"
   ]
  },
  {
   "cell_type": "code",
   "execution_count": null,
   "metadata": {},
   "outputs": [],
   "source": [
    "cores_3d"
   ]
  },
  {
   "cell_type": "code",
   "execution_count": null,
   "metadata": {},
   "outputs": [],
   "source": []
  },
  {
   "cell_type": "code",
   "execution_count": null,
   "metadata": {},
   "outputs": [],
   "source": [
    "mean_width_vp"
   ]
  },
  {
   "cell_type": "code",
   "execution_count": null,
   "metadata": {},
   "outputs": [],
   "source": [
    "# virtual profiler draft characteristics\n",
    "updrafts = DATA[time_vp,:,loc,VARS.index('WW')].T > 10\n",
    "rgiObjectsUD, nr_objectsUD = ndimage.label(updrafts,structure=rgiObj_Struct[0,:,:])\n",
    "\n",
    "# sort the objects according to their size\n",
    "Objects=ndimage.find_objects(rgiObjectsUD)\n",
    "# rgiVolObj=np.array([np.sum(rgiObjectsUD[Objects[ob]] == ob+1) for ob in range(nr_objectsUD)])"
   ]
  },
  {
   "cell_type": "code",
   "execution_count": null,
   "metadata": {
    "tags": []
   },
   "outputs": [],
   "source": [
    "\n",
    "w_2D = np.copy(DATA[time_vp,:,loc,VARS.index('WW')].T)\n",
    "gr_core = core_2d_properties(Objects,\n",
    "                  w_2D,\n",
    "                  cloudmask.T,\n",
    "                  height,\n",
    "                  time_to_length)"
   ]
  },
  {
   "cell_type": "code",
   "execution_count": null,
   "metadata": {},
   "outputs": [],
   "source": [
    "gr_core"
   ]
  },
  {
   "cell_type": "code",
   "execution_count": null,
   "metadata": {},
   "outputs": [],
   "source": []
  },
  {
   "cell_type": "code",
   "execution_count": null,
   "metadata": {},
   "outputs": [],
   "source": []
  },
  {
   "cell_type": "code",
   "execution_count": null,
   "metadata": {},
   "outputs": [],
   "source": []
  },
  {
   "cell_type": "code",
   "execution_count": null,
   "metadata": {},
   "outputs": [],
   "source": []
  },
  {
   "cell_type": "code",
   "execution_count": null,
   "metadata": {},
   "outputs": [],
   "source": [
    "plt.pcolormesh(lat_m / 1000., height,\n",
    "               dbz_ca[:,dx_dist,:], vmin=0, vmax=60, cmap='coolwarm')\n",
    "# plt.axvline(x=lon_vs_id[ii], c='k')"
   ]
  },
  {
   "cell_type": "code",
   "execution_count": null,
   "metadata": {},
   "outputs": [],
   "source": [
    "plt.pcolormesh(lat_m / 1000., height,\n",
    "               w_ca_comz[:,dx_dist,:], vmin=-25, vmax=25, cmap='coolwarm')\n",
    "# plt.axvline(x=lon_vs_id[ii], c='k')"
   ]
  },
  {
   "cell_type": "code",
   "execution_count": null,
   "metadata": {},
   "outputs": [],
   "source": [
    "plt.pcolormesh(lat_m / 1000.,\n",
    "               lon_m / 1000.,\n",
    "               w_ca[35,:,:], vmin=-25, vmax=25, cmap='coolwarm')\n",
    "plt.plot(0, 0, 'ok')"
   ]
  },
  {
   "cell_type": "code",
   "execution_count": null,
   "metadata": {},
   "outputs": [],
   "source": [
    "plt.pcolormesh(lat_m / 1000.,\n",
    "               lon_m / 1000.,\n",
    "               dbz_ca[35,:,:], vmin=0, vmax=60, cmap='coolwarm')\n",
    "plt.plot(0, 0, 'ok')"
   ]
  },
  {
   "cell_type": "code",
   "execution_count": null,
   "metadata": {},
   "outputs": [],
   "source": []
  },
  {
   "cell_type": "code",
   "execution_count": null,
   "metadata": {},
   "outputs": [],
   "source": [
    "files_int[fi]"
   ]
  },
  {
   "cell_type": "code",
   "execution_count": null,
   "metadata": {},
   "outputs": [],
   "source": [
    "plt.pcolormesh(lon,lat,dbz[10,:,:]>42, vmin=0, vmax=1, cmap = 'coolwarm')\n",
    "for ii in tqdm(range(len(lat_vs))):\n",
    "    plt.plot(lon_vs[ii], lat_vs[ii], 'ok')"
   ]
  },
  {
   "cell_type": "code",
   "execution_count": null,
   "metadata": {},
   "outputs": [],
   "source": [
    "plt.pcolormesh(lon,lat,dbz_smooth[15,:,:]>42, vmin=0, vmax=1, cmap = 'coolwarm')\n",
    "plt.plot(lon_vs[8], lat_vs[8], 'ok')"
   ]
  },
  {
   "cell_type": "code",
   "execution_count": null,
   "metadata": {},
   "outputs": [],
   "source": [
    "plt.pcolormesh(lon,lat,MS_objects[14,:,:], vmin=0, vmax=25, cmap = 'coolwarm')\n",
    "plt.plot(lon_vs[8], lat_vs[8], 'ok')"
   ]
  },
  {
   "cell_type": "code",
   "execution_count": null,
   "metadata": {},
   "outputs": [],
   "source": [
    "plt.pcolormesh(lon,lat,MS_objects[19,:,:], vmin=0, vmax=10, cmap = 'coolwarm')\n",
    "plt.plot(lon_vs[8], lat_vs[8], 'ok')"
   ]
  },
  {
   "cell_type": "code",
   "execution_count": null,
   "metadata": {},
   "outputs": [],
   "source": []
  },
  {
   "cell_type": "code",
   "execution_count": null,
   "metadata": {},
   "outputs": [],
   "source": []
  }
 ],
 "metadata": {
  "kernelspec": {
   "display_name": "Python 3 (ipykernel)",
   "language": "python",
   "name": "python3"
  },
  "language_info": {
   "codemirror_mode": {
    "name": "ipython",
    "version": 3
   },
   "file_extension": ".py",
   "mimetype": "text/x-python",
   "name": "python",
   "nbconvert_exporter": "python",
   "pygments_lexer": "ipython3",
   "version": "3.11.6"
  }
 },
 "nbformat": 4,
 "nbformat_minor": 4
}
