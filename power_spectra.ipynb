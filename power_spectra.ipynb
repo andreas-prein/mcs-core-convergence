{
 "cells": [
  {
   "cell_type": "markdown",
   "metadata": {},
   "source": [
    "# Power spectra of precipitation and kinetic energy for MCS case\n",
    "\n",
    "This notebook shows step by step how to get power spectra for 2D atmospheric fields using the Discrete Cosine Transformation. \n",
    "\n",
    "Contact: julia.kukulies@gu.se "
   ]
  },
  {
   "cell_type": "code",
   "execution_count": 1,
   "metadata": {},
   "outputs": [],
   "source": [
    "from pathlib import Path\n",
    "import numpy as np \n",
    "import xarray as xr\n",
    "from scipy import fft # package for transformation\n",
    "from scipy import signal\n",
    "\n",
    "# plotting \n",
    "import matplotlib\n",
    "import matplotlib.pyplot as plt\n",
    "import matplotlib.colors as colors\n",
    "from matplotlib.colors import LogNorm\n",
    "\n",
    "import warnings\n",
    "warnings.filterwarnings('ignore')"
   ]
  },
  {
   "cell_type": "code",
   "execution_count": 2,
   "metadata": {},
   "outputs": [],
   "source": [
    "# my data analysis functions \n",
    "from dct_functions import k_to_lambda, get_variances, get_power_spectrum, lambda_to_k\n",
    "from dct_functions import calculate_vorticity, subset_domain"
   ]
  },
  {
   "cell_type": "code",
   "execution_count": 3,
   "metadata": {},
   "outputs": [],
   "source": [
    "from pathlib import Path\n",
    "import numpy as np \n",
    "import xarray as xr\n",
    "from scipy import fft # package for transformation\n",
    "from scipy import signal\n",
    "import sys\n",
    "# sys.path.insert(1, '../analysis/')\n",
    "# from cptp import analysis, plotting\n",
    "# import seaborn as sns\n",
    "# sns.set()\n",
    "\n",
    "# plotting \n",
    "import matplotlib\n",
    "import matplotlib.pyplot as plt\n",
    "import matplotlib.colors as colors\n",
    "from matplotlib.colors import LogNorm\n",
    "%matplotlib inline\n",
    "\n",
    "# my data analysis functions \n",
    "from dct_functions import k_to_lambda, get_variances, get_power_spectrum, lambda_to_k\n",
    "from dct_functions import calculate_vorticity, subset_domain\n",
    "\n",
    "import warnings\n",
    "warnings.filterwarnings('ignore')\n",
    "import os\n",
    "import glob\n",
    "from netCDF4 import Dataset\n",
    "from tqdm import tqdm\n",
    "from pdb import set_trace as stop\n",
    "import matplotlib.gridspec as gridspec\n",
    "import string\n",
    "abc_list = list(string.ascii_lowercase)"
   ]
  },
  {
   "cell_type": "code",
   "execution_count": 4,
   "metadata": {
    "tags": []
   },
   "outputs": [
    {
     "name": "stdout",
     "output_type": "stream",
     "text": [
      "work on vertical\n",
      "    process 0-mao_20140401_15:00:00_\n"
     ]
    },
    {
     "name": "stderr",
     "output_type": "stream",
     "text": [
      " 29%|██▊       | 2/7 [00:00<00:00, 17.03it/s]"
     ]
    },
    {
     "name": "stdout",
     "output_type": "stream",
     "text": [
      "    load 0-mao_20140401_15:00:00_\n",
      "    load 0-mao_20140401_15:00:00_\n",
      "    load 0-mao_20140401_15:00:00_\n",
      "    load 0-mao_20140401_15:00:00_\n",
      "    load 0-mao_20140401_15:00:00_\n"
     ]
    },
    {
     "name": "stderr",
     "output_type": "stream",
     "text": [
      "100%|██████████| 7/7 [00:00<00:00, 10.45it/s]\n"
     ]
    },
    {
     "name": "stdout",
     "output_type": "stream",
     "text": [
      "    load 0-mao_20140401_15:00:00_\n",
      "    load 0-mao_20140401_15:00:00_\n",
      "    process 1-mao_20140917_17:00:00_\n"
     ]
    },
    {
     "name": "stderr",
     "output_type": "stream",
     "text": [
      "  0%|          | 0/7 [00:00<?, ?it/s]"
     ]
    },
    {
     "name": "stdout",
     "output_type": "stream",
     "text": [
      "    load 1-mao_20140917_17:00:00_\n",
      "    load 1-mao_20140917_17:00:00_\n"
     ]
    },
    {
     "name": "stderr",
     "output_type": "stream",
     "text": [
      " 29%|██▊       | 2/7 [00:00<00:01,  4.82it/s]"
     ]
    },
    {
     "name": "stdout",
     "output_type": "stream",
     "text": [
      "    load 1-mao_20140917_17:00:00_\n",
      "    load 1-mao_20140917_17:00:00_\n"
     ]
    },
    {
     "name": "stderr",
     "output_type": "stream",
     "text": [
      " 57%|█████▋    | 4/7 [00:00<00:00,  4.97it/s]"
     ]
    },
    {
     "name": "stdout",
     "output_type": "stream",
     "text": [
      "    load 1-mao_20140917_17:00:00_\n",
      "    load 1-mao_20140917_17:00:00_\n"
     ]
    },
    {
     "name": "stderr",
     "output_type": "stream",
     "text": [
      "100%|██████████| 7/7 [00:01<00:00,  6.84it/s]\n"
     ]
    },
    {
     "name": "stdout",
     "output_type": "stream",
     "text": [
      "    process 2-mao_20141004_13:00:00_\n"
     ]
    },
    {
     "name": "stderr",
     "output_type": "stream",
     "text": [
      " 57%|█████▋    | 4/7 [00:00<00:00, 34.68it/s]"
     ]
    },
    {
     "name": "stdout",
     "output_type": "stream",
     "text": [
      "    load 2-mao_20141004_13:00:00_\n",
      "    load 2-mao_20141004_13:00:00_\n",
      "    load 2-mao_20141004_13:00:00_\n",
      "    load 2-mao_20141004_13:00:00_\n",
      "    load 2-mao_20141004_13:00:00_\n",
      "    load 2-mao_20141004_13:00:00_\n"
     ]
    },
    {
     "name": "stderr",
     "output_type": "stream",
     "text": [
      "100%|██████████| 7/7 [00:00<00:00, 34.79it/s]\n"
     ]
    },
    {
     "name": "stdout",
     "output_type": "stream",
     "text": [
      "    process 3-mao_20141018_14:00:00_\n"
     ]
    },
    {
     "name": "stderr",
     "output_type": "stream",
     "text": [
      " 43%|████▎     | 3/7 [00:00<00:00, 17.98it/s]"
     ]
    },
    {
     "name": "stdout",
     "output_type": "stream",
     "text": [
      "    load 3-mao_20141018_14:00:00_\n",
      "    load 3-mao_20141018_14:00:00_\n",
      "    load 3-mao_20141018_14:00:00_\n",
      "    load 3-mao_20141018_14:00:00_\n"
     ]
    },
    {
     "name": "stderr",
     "output_type": "stream",
     "text": [
      "100%|██████████| 7/7 [00:00<00:00, 21.63it/s]\n"
     ]
    },
    {
     "name": "stdout",
     "output_type": "stream",
     "text": [
      "    load 3-mao_20141018_14:00:00_\n",
      "    load 3-mao_20141018_14:00:00_\n",
      "    process 4-mao_20141117_18:00:00_\n"
     ]
    },
    {
     "name": "stderr",
     "output_type": "stream",
     "text": [
      "  0%|          | 0/7 [00:00<?, ?it/s]"
     ]
    },
    {
     "name": "stdout",
     "output_type": "stream",
     "text": [
      "    load 4-mao_20141117_18:00:00_\n",
      "    load 4-mao_20141117_18:00:00_\n"
     ]
    },
    {
     "name": "stderr",
     "output_type": "stream",
     "text": [
      " 43%|████▎     | 3/7 [00:00<00:00, 24.43it/s]"
     ]
    },
    {
     "name": "stdout",
     "output_type": "stream",
     "text": [
      "    load 4-mao_20141117_18:00:00_\n",
      "    load 4-mao_20141117_18:00:00_\n",
      "    load 4-mao_20141117_18:00:00_\n",
      "    load 4-mao_20141117_18:00:00_\n"
     ]
    },
    {
     "name": "stderr",
     "output_type": "stream",
     "text": [
      "100%|██████████| 7/7 [00:00<00:00, 29.60it/s]\n"
     ]
    },
    {
     "name": "stdout",
     "output_type": "stream",
     "text": [
      "    process 5-mao_20141210_14:00:00_\n"
     ]
    },
    {
     "name": "stderr",
     "output_type": "stream",
     "text": [
      "  0%|          | 0/7 [00:00<?, ?it/s]"
     ]
    },
    {
     "name": "stdout",
     "output_type": "stream",
     "text": [
      "    load 5-mao_20141210_14:00:00_\n"
     ]
    },
    {
     "name": "stderr",
     "output_type": "stream",
     "text": [
      "100%|██████████| 7/7 [00:00<00:00, 15.79it/s]\n"
     ]
    },
    {
     "name": "stdout",
     "output_type": "stream",
     "text": [
      "    load 5-mao_20141210_14:00:00_\n",
      "    load 5-mao_20141210_14:00:00_\n",
      "    load 5-mao_20141210_14:00:00_\n",
      "    load 5-mao_20141210_14:00:00_\n",
      "    load 5-mao_20141210_14:00:00_\n",
      "    process 6-mao_20150328_15:00:00_\n"
     ]
    },
    {
     "name": "stderr",
     "output_type": "stream",
     "text": [
      "100%|██████████| 7/7 [00:00<00:00, 34.14it/s]\n"
     ]
    },
    {
     "name": "stdout",
     "output_type": "stream",
     "text": [
      "    load 6-mao_20150328_15:00:00_\n",
      "    load 6-mao_20150328_15:00:00_\n",
      "    load 6-mao_20150328_15:00:00_\n",
      "    load 6-mao_20150328_15:00:00_\n",
      "    load 6-mao_20150328_15:00:00_\n",
      "    load 6-mao_20150328_15:00:00_\n",
      "    process 7-mao_20150412_12:00:00_\n"
     ]
    },
    {
     "name": "stderr",
     "output_type": "stream",
     "text": [
      " 57%|█████▋    | 4/7 [00:00<00:00, 20.18it/s]"
     ]
    },
    {
     "name": "stdout",
     "output_type": "stream",
     "text": [
      "    load 7-mao_20150412_12:00:00_\n",
      "    load 7-mao_20150412_12:00:00_\n",
      "    load 7-mao_20150412_12:00:00_\n",
      "    load 7-mao_20150412_12:00:00_\n",
      "    load 7-mao_20150412_12:00:00_\n"
     ]
    },
    {
     "name": "stderr",
     "output_type": "stream",
     "text": [
      "100%|██████████| 7/7 [00:00<00:00, 22.84it/s]\n"
     ]
    },
    {
     "name": "stdout",
     "output_type": "stream",
     "text": [
      "    load 7-mao_20150412_12:00:00_\n",
      "    process 8-mao_20150621_14:00:00_\n"
     ]
    },
    {
     "name": "stderr",
     "output_type": "stream",
     "text": [
      "  0%|          | 0/7 [00:00<?, ?it/s]"
     ]
    },
    {
     "name": "stdout",
     "output_type": "stream",
     "text": [
      "    load 8-mao_20150621_14:00:00_\n",
      "    load 8-mao_20150621_14:00:00_\n",
      "    load 8-mao_20150621_14:00:00_\n"
     ]
    },
    {
     "name": "stderr",
     "output_type": "stream",
     "text": [
      " 43%|████▎     | 3/7 [00:00<00:00, 19.19it/s]"
     ]
    },
    {
     "name": "stdout",
     "output_type": "stream",
     "text": [
      "    load 8-mao_20150621_14:00:00_\n"
     ]
    },
    {
     "name": "stderr",
     "output_type": "stream",
     "text": [
      "100%|██████████| 7/7 [00:00<00:00, 21.22it/s]\n"
     ]
    },
    {
     "name": "stdout",
     "output_type": "stream",
     "text": [
      "    load 8-mao_20150621_14:00:00_\n",
      "    load 8-mao_20150621_14:00:00_\n",
      "    process 9-mao_20151106_12:00:00_\n"
     ]
    },
    {
     "name": "stderr",
     "output_type": "stream",
     "text": [
      "  0%|          | 0/7 [00:00<?, ?it/s]"
     ]
    },
    {
     "name": "stdout",
     "output_type": "stream",
     "text": [
      "    load 9-mao_20151106_12:00:00_\n",
      "    load 9-mao_20151106_12:00:00_\n"
     ]
    },
    {
     "name": "stderr",
     "output_type": "stream",
     "text": [
      " 43%|████▎     | 3/7 [00:00<00:00, 24.37it/s]"
     ]
    },
    {
     "name": "stdout",
     "output_type": "stream",
     "text": [
      "    load 9-mao_20151106_12:00:00_\n",
      "    load 9-mao_20151106_12:00:00_\n",
      "    load 9-mao_20151106_12:00:00_\n",
      "    load 9-mao_20151106_12:00:00_\n"
     ]
    },
    {
     "name": "stderr",
     "output_type": "stream",
     "text": [
      "100%|██████████| 7/7 [00:00<00:00, 20.17it/s]\n"
     ]
    },
    {
     "name": "stdout",
     "output_type": "stream",
     "text": [
      "    load 9-mao_20151106_12:00:00_\n",
      "    process 10-sgp_20120531_04:00:00_\n"
     ]
    },
    {
     "name": "stderr",
     "output_type": "stream",
     "text": [
      "  0%|          | 0/7 [00:00<?, ?it/s]"
     ]
    },
    {
     "name": "stdout",
     "output_type": "stream",
     "text": [
      "    load 10-sgp_20120531_04:00:00_\n",
      "    load 10-sgp_20120531_04:00:00_\n"
     ]
    },
    {
     "name": "stderr",
     "output_type": "stream",
     "text": [
      "100%|██████████| 7/7 [00:00<00:00, 17.11it/s]\n"
     ]
    },
    {
     "name": "stdout",
     "output_type": "stream",
     "text": [
      "    load 10-sgp_20120531_04:00:00_\n",
      "    load 10-sgp_20120531_04:00:00_\n",
      "    load 10-sgp_20120531_04:00:00_\n",
      "    load 10-sgp_20120531_04:00:00_\n",
      "    process 11-sgp_20120615_07:00:00_\n"
     ]
    },
    {
     "name": "stderr",
     "output_type": "stream",
     "text": [
      "  0%|          | 0/7 [00:00<?, ?it/s]"
     ]
    },
    {
     "name": "stdout",
     "output_type": "stream",
     "text": [
      "    load 11-sgp_20120615_07:00:00_\n"
     ]
    },
    {
     "name": "stderr",
     "output_type": "stream",
     "text": [
      " 57%|█████▋    | 4/7 [00:00<00:00, 33.69it/s]"
     ]
    },
    {
     "name": "stdout",
     "output_type": "stream",
     "text": [
      "    load 11-sgp_20120615_07:00:00_\n",
      "    load 11-sgp_20120615_07:00:00_\n",
      "    load 11-sgp_20120615_07:00:00_\n",
      "    load 11-sgp_20120615_07:00:00_\n",
      "    load 11-sgp_20120615_07:00:00_\n",
      "    load 11-sgp_20120615_07:00:00_\n"
     ]
    },
    {
     "name": "stderr",
     "output_type": "stream",
     "text": [
      "100%|██████████| 7/7 [00:00<00:00, 25.63it/s]\n"
     ]
    },
    {
     "name": "stdout",
     "output_type": "stream",
     "text": [
      "    process 12-sgp_20130509_07:00:00_\n"
     ]
    },
    {
     "name": "stderr",
     "output_type": "stream",
     "text": [
      " 43%|████▎     | 3/7 [00:00<00:00, 16.97it/s]"
     ]
    },
    {
     "name": "stdout",
     "output_type": "stream",
     "text": [
      "    load 12-sgp_20130509_07:00:00_\n",
      "    load 12-sgp_20130509_07:00:00_\n",
      "    load 12-sgp_20130509_07:00:00_\n",
      "    load 12-sgp_20130509_07:00:00_\n"
     ]
    },
    {
     "name": "stderr",
     "output_type": "stream",
     "text": [
      " 71%|███████▏  | 5/7 [00:00<00:00, 13.72it/s]"
     ]
    },
    {
     "name": "stdout",
     "output_type": "stream",
     "text": [
      "    load 12-sgp_20130509_07:00:00_\n",
      "    load 12-sgp_20130509_07:00:00_\n"
     ]
    },
    {
     "name": "stderr",
     "output_type": "stream",
     "text": [
      "100%|██████████| 7/7 [00:00<00:00, 16.99it/s]\n"
     ]
    },
    {
     "name": "stdout",
     "output_type": "stream",
     "text": [
      "    process 13-sgp_20130605_09:00:00_\n"
     ]
    },
    {
     "name": "stderr",
     "output_type": "stream",
     "text": [
      "  0%|          | 0/7 [00:00<?, ?it/s]"
     ]
    },
    {
     "name": "stdout",
     "output_type": "stream",
     "text": [
      "    load 13-sgp_20130605_09:00:00_\n"
     ]
    },
    {
     "name": "stderr",
     "output_type": "stream",
     "text": [
      " 57%|█████▋    | 4/7 [00:00<00:00, 38.38it/s]"
     ]
    },
    {
     "name": "stdout",
     "output_type": "stream",
     "text": [
      "    load 13-sgp_20130605_09:00:00_\n",
      "    load 13-sgp_20130605_09:00:00_\n",
      "    load 13-sgp_20130605_09:00:00_\n",
      "    load 13-sgp_20130605_09:00:00_\n",
      "    load 13-sgp_20130605_09:00:00_\n"
     ]
    },
    {
     "name": "stderr",
     "output_type": "stream",
     "text": [
      "100%|██████████| 7/7 [00:00<00:00, 22.23it/s]\n"
     ]
    },
    {
     "name": "stdout",
     "output_type": "stream",
     "text": [
      "    process 14-sgp_20130617_07:00:00_\n"
     ]
    },
    {
     "name": "stderr",
     "output_type": "stream",
     "text": [
      " 57%|█████▋    | 4/7 [00:00<00:00, 35.78it/s]"
     ]
    },
    {
     "name": "stdout",
     "output_type": "stream",
     "text": [
      "    load 14-sgp_20130617_07:00:00_\n",
      "    load 14-sgp_20130617_07:00:00_\n",
      "    load 14-sgp_20130617_07:00:00_\n",
      "    load 14-sgp_20130617_07:00:00_\n",
      "    load 14-sgp_20130617_07:00:00_\n",
      "    load 14-sgp_20130617_07:00:00_\n"
     ]
    },
    {
     "name": "stderr",
     "output_type": "stream",
     "text": [
      "100%|██████████| 7/7 [00:00<00:00, 33.69it/s]\n"
     ]
    },
    {
     "name": "stdout",
     "output_type": "stream",
     "text": [
      "    process 15-sgp_20140602_04:00:00_\n"
     ]
    },
    {
     "name": "stderr",
     "output_type": "stream",
     "text": [
      " 43%|████▎     | 3/7 [00:00<00:00, 22.65it/s]"
     ]
    },
    {
     "name": "stdout",
     "output_type": "stream",
     "text": [
      "    load 15-sgp_20140602_04:00:00_\n",
      "    load 15-sgp_20140602_04:00:00_\n",
      "    load 15-sgp_20140602_04:00:00_\n",
      "    load 15-sgp_20140602_04:00:00_\n",
      "    load 15-sgp_20140602_04:00:00_\n"
     ]
    },
    {
     "name": "stderr",
     "output_type": "stream",
     "text": [
      "100%|██████████| 7/7 [00:00<00:00, 21.56it/s]\n"
     ]
    },
    {
     "name": "stdout",
     "output_type": "stream",
     "text": [
      "    load 15-sgp_20140602_04:00:00_\n",
      "    process 16-sgp_20140605_12:00:00_\n"
     ]
    },
    {
     "name": "stderr",
     "output_type": "stream",
     "text": [
      "  0%|          | 0/7 [00:00<?, ?it/s]"
     ]
    },
    {
     "name": "stdout",
     "output_type": "stream",
     "text": [
      "    load 16-sgp_20140605_12:00:00_\n",
      "    load 16-sgp_20140605_12:00:00_\n",
      "    load 16-sgp_20140605_12:00:00_\n"
     ]
    },
    {
     "name": "stderr",
     "output_type": "stream",
     "text": [
      " 43%|████▎     | 3/7 [00:00<00:00, 23.66it/s]"
     ]
    },
    {
     "name": "stdout",
     "output_type": "stream",
     "text": [
      "    load 16-sgp_20140605_12:00:00_\n",
      "    load 16-sgp_20140605_12:00:00_\n"
     ]
    },
    {
     "name": "stderr",
     "output_type": "stream",
     "text": [
      "100%|██████████| 7/7 [00:00<00:00, 23.99it/s]\n"
     ]
    },
    {
     "name": "stdout",
     "output_type": "stream",
     "text": [
      "    load 16-sgp_20140605_12:00:00_\n",
      "    process 17-sgp_20140612_06:00:00_\n"
     ]
    },
    {
     "name": "stderr",
     "output_type": "stream",
     "text": [
      "  0%|          | 0/7 [00:00<?, ?it/s]"
     ]
    },
    {
     "name": "stdout",
     "output_type": "stream",
     "text": [
      "    load 17-sgp_20140612_06:00:00_\n",
      "    load 17-sgp_20140612_06:00:00_\n"
     ]
    },
    {
     "name": "stderr",
     "output_type": "stream",
     "text": [
      " 57%|█████▋    | 4/7 [00:00<00:00, 29.54it/s]"
     ]
    },
    {
     "name": "stdout",
     "output_type": "stream",
     "text": [
      "    load 17-sgp_20140612_06:00:00_\n",
      "    load 17-sgp_20140612_06:00:00_\n",
      "    load 17-sgp_20140612_06:00:00_\n",
      "    load 17-sgp_20140612_06:00:00_\n"
     ]
    },
    {
     "name": "stderr",
     "output_type": "stream",
     "text": [
      "100%|██████████| 7/7 [00:00<00:00, 26.46it/s]\n"
     ]
    },
    {
     "name": "stdout",
     "output_type": "stream",
     "text": [
      "    load 17-sgp_20140612_06:00:00_\n",
      "    process 18-sgp_20140628_16:00:00_\n"
     ]
    },
    {
     "name": "stderr",
     "output_type": "stream",
     "text": [
      "  0%|          | 0/7 [00:00<?, ?it/s]"
     ]
    },
    {
     "name": "stdout",
     "output_type": "stream",
     "text": [
      "    load 18-sgp_20140628_16:00:00_\n",
      "    load 18-sgp_20140628_16:00:00_\n",
      "    load 18-sgp_20140628_16:00:00_\n",
      "    load 18-sgp_20140628_16:00:00_\n"
     ]
    },
    {
     "name": "stderr",
     "output_type": "stream",
     "text": [
      " 71%|███████▏  | 5/7 [00:00<00:00, 40.47it/s]"
     ]
    },
    {
     "name": "stdout",
     "output_type": "stream",
     "text": [
      "    load 18-sgp_20140628_16:00:00_\n",
      "    load 18-sgp_20140628_16:00:00_\n"
     ]
    },
    {
     "name": "stderr",
     "output_type": "stream",
     "text": [
      "100%|██████████| 7/7 [00:00<00:00, 41.93it/s]\n"
     ]
    },
    {
     "name": "stdout",
     "output_type": "stream",
     "text": [
      "    process 19-sgp_20140710_10:00:00_\n"
     ]
    },
    {
     "name": "stderr",
     "output_type": "stream",
     "text": [
      "  0%|          | 0/7 [00:00<?, ?it/s]"
     ]
    },
    {
     "name": "stdout",
     "output_type": "stream",
     "text": [
      "    load 19-sgp_20140710_10:00:00_\n"
     ]
    },
    {
     "name": "stderr",
     "output_type": "stream",
     "text": [
      " 29%|██▊       | 2/7 [00:00<00:00, 18.19it/s]"
     ]
    },
    {
     "name": "stdout",
     "output_type": "stream",
     "text": [
      "    load 19-sgp_20140710_10:00:00_\n",
      "    load 19-sgp_20140710_10:00:00_\n",
      "    load 19-sgp_20140710_10:00:00_\n",
      "    load 19-sgp_20140710_10:00:00_\n"
     ]
    },
    {
     "name": "stderr",
     "output_type": "stream",
     "text": [
      " 71%|███████▏  | 5/7 [00:00<00:00, 21.80it/s]"
     ]
    },
    {
     "name": "stdout",
     "output_type": "stream",
     "text": [
      "    load 19-sgp_20140710_10:00:00_\n"
     ]
    },
    {
     "name": "stderr",
     "output_type": "stream",
     "text": [
      "100%|██████████| 7/7 [00:00<00:00, 21.86it/s]\n"
     ]
    },
    {
     "name": "stdout",
     "output_type": "stream",
     "text": [
      "work on horizontal\n",
      "    process 0-mao_20140401_15:00:00_\n"
     ]
    },
    {
     "name": "stderr",
     "output_type": "stream",
     "text": [
      "  0%|          | 0/7 [00:00<?, ?it/s]"
     ]
    },
    {
     "name": "stdout",
     "output_type": "stream",
     "text": [
      "    load 0-mao_20140401_15:00:00_\n",
      "    load 0-mao_20140401_15:00:00_\n"
     ]
    },
    {
     "name": "stderr",
     "output_type": "stream",
     "text": [
      " 71%|███████▏  | 5/7 [00:00<00:00, 15.49it/s]"
     ]
    },
    {
     "name": "stdout",
     "output_type": "stream",
     "text": [
      "    load 0-mao_20140401_15:00:00_\n",
      "    load 0-mao_20140401_15:00:00_\n",
      "    load 0-mao_20140401_15:00:00_\n",
      "    load 0-mao_20140401_15:00:00_\n",
      "    load 0-mao_20140401_15:00:00_\n"
     ]
    },
    {
     "name": "stderr",
     "output_type": "stream",
     "text": [
      "100%|██████████| 7/7 [00:00<00:00, 14.74it/s]\n"
     ]
    },
    {
     "name": "stdout",
     "output_type": "stream",
     "text": [
      "    process 1-mao_20140917_17:00:00_\n"
     ]
    },
    {
     "name": "stderr",
     "output_type": "stream",
     "text": [
      " 43%|████▎     | 3/7 [00:00<00:00, 26.33it/s]"
     ]
    },
    {
     "name": "stdout",
     "output_type": "stream",
     "text": [
      "    load 1-mao_20140917_17:00:00_\n",
      "    load 1-mao_20140917_17:00:00_\n",
      "    load 1-mao_20140917_17:00:00_\n",
      "    load 1-mao_20140917_17:00:00_\n",
      "    load 1-mao_20140917_17:00:00_\n",
      "    load 1-mao_20140917_17:00:00_\n"
     ]
    },
    {
     "name": "stderr",
     "output_type": "stream",
     "text": [
      "100%|██████████| 7/7 [00:00<00:00, 28.36it/s]\n"
     ]
    },
    {
     "name": "stdout",
     "output_type": "stream",
     "text": [
      "    process 2-mao_20141004_13:00:00_\n"
     ]
    },
    {
     "name": "stderr",
     "output_type": "stream",
     "text": [
      " 43%|████▎     | 3/7 [00:00<00:00, 28.56it/s]"
     ]
    },
    {
     "name": "stdout",
     "output_type": "stream",
     "text": [
      "    load 2-mao_20141004_13:00:00_\n",
      "    load 2-mao_20141004_13:00:00_\n",
      "    load 2-mao_20141004_13:00:00_\n",
      "    load 2-mao_20141004_13:00:00_\n",
      "    load 2-mao_20141004_13:00:00_\n",
      "    load 2-mao_20141004_13:00:00_\n"
     ]
    },
    {
     "name": "stderr",
     "output_type": "stream",
     "text": [
      "100%|██████████| 7/7 [00:00<00:00, 31.49it/s]\n"
     ]
    },
    {
     "name": "stdout",
     "output_type": "stream",
     "text": [
      "    process 3-mao_20141018_14:00:00_\n"
     ]
    },
    {
     "name": "stderr",
     "output_type": "stream",
     "text": [
      " 57%|█████▋    | 4/7 [00:00<00:00, 30.86it/s]"
     ]
    },
    {
     "name": "stdout",
     "output_type": "stream",
     "text": [
      "    load 3-mao_20141018_14:00:00_\n",
      "    load 3-mao_20141018_14:00:00_\n",
      "    load 3-mao_20141018_14:00:00_\n",
      "    load 3-mao_20141018_14:00:00_\n",
      "    load 3-mao_20141018_14:00:00_\n",
      "    load 3-mao_20141018_14:00:00_\n"
     ]
    },
    {
     "name": "stderr",
     "output_type": "stream",
     "text": [
      "100%|██████████| 7/7 [00:00<00:00, 28.55it/s]\n"
     ]
    },
    {
     "name": "stdout",
     "output_type": "stream",
     "text": [
      "    process 4-mao_20141117_18:00:00_\n"
     ]
    },
    {
     "name": "stderr",
     "output_type": "stream",
     "text": [
      "  0%|          | 0/7 [00:00<?, ?it/s]"
     ]
    },
    {
     "name": "stdout",
     "output_type": "stream",
     "text": [
      "    load 4-mao_20141117_18:00:00_\n",
      "    load 4-mao_20141117_18:00:00_\n",
      "    load 4-mao_20141117_18:00:00_\n"
     ]
    },
    {
     "name": "stderr",
     "output_type": "stream",
     "text": [
      " 43%|████▎     | 3/7 [00:00<00:00, 22.19it/s]"
     ]
    },
    {
     "name": "stdout",
     "output_type": "stream",
     "text": [
      "    load 4-mao_20141117_18:00:00_\n",
      "    load 4-mao_20141117_18:00:00_\n"
     ]
    },
    {
     "name": "stderr",
     "output_type": "stream",
     "text": [
      "100%|██████████| 7/7 [00:00<00:00, 29.01it/s]\n"
     ]
    },
    {
     "name": "stdout",
     "output_type": "stream",
     "text": [
      "    load 4-mao_20141117_18:00:00_\n",
      "    process 5-mao_20141210_14:00:00_\n"
     ]
    },
    {
     "name": "stderr",
     "output_type": "stream",
     "text": [
      "  0%|          | 0/7 [00:00<?, ?it/s]"
     ]
    },
    {
     "name": "stdout",
     "output_type": "stream",
     "text": [
      "    load 5-mao_20141210_14:00:00_\n",
      "    load 5-mao_20141210_14:00:00_\n",
      "    load 5-mao_20141210_14:00:00_\n"
     ]
    },
    {
     "name": "stderr",
     "output_type": "stream",
     "text": [
      " 43%|████▎     | 3/7 [00:00<00:00, 28.93it/s]"
     ]
    },
    {
     "name": "stdout",
     "output_type": "stream",
     "text": [
      "    load 5-mao_20141210_14:00:00_\n",
      "    load 5-mao_20141210_14:00:00_\n"
     ]
    },
    {
     "name": "stderr",
     "output_type": "stream",
     "text": [
      " 86%|████████▌ | 6/7 [00:00<00:00, 27.84it/s]"
     ]
    },
    {
     "name": "stdout",
     "output_type": "stream",
     "text": [
      "    load 5-mao_20141210_14:00:00_\n"
     ]
    },
    {
     "name": "stderr",
     "output_type": "stream",
     "text": [
      "100%|██████████| 7/7 [00:00<00:00, 32.20it/s]\n"
     ]
    },
    {
     "name": "stdout",
     "output_type": "stream",
     "text": [
      "    process 6-mao_20150328_15:00:00_\n"
     ]
    },
    {
     "name": "stderr",
     "output_type": "stream",
     "text": [
      "  0%|          | 0/7 [00:00<?, ?it/s]"
     ]
    },
    {
     "name": "stdout",
     "output_type": "stream",
     "text": [
      "    load 6-mao_20150328_15:00:00_\n",
      "    load 6-mao_20150328_15:00:00_\n",
      "    load 6-mao_20150328_15:00:00_\n"
     ]
    },
    {
     "name": "stderr",
     "output_type": "stream",
     "text": [
      " 43%|████▎     | 3/7 [00:00<00:00, 27.61it/s]"
     ]
    },
    {
     "name": "stdout",
     "output_type": "stream",
     "text": [
      "    load 6-mao_20150328_15:00:00_\n",
      "    load 6-mao_20150328_15:00:00_\n",
      "    load 6-mao_20150328_15:00:00_\n"
     ]
    },
    {
     "name": "stderr",
     "output_type": "stream",
     "text": [
      "100%|██████████| 7/7 [00:00<00:00, 30.54it/s]\n"
     ]
    },
    {
     "name": "stdout",
     "output_type": "stream",
     "text": [
      "    process 7-mao_20150412_12:00:00_\n"
     ]
    },
    {
     "name": "stderr",
     "output_type": "stream",
     "text": [
      "  0%|          | 0/7 [00:00<?, ?it/s]"
     ]
    },
    {
     "name": "stdout",
     "output_type": "stream",
     "text": [
      "    load 7-mao_20150412_12:00:00_\n",
      "    load 7-mao_20150412_12:00:00_\n",
      "    load 7-mao_20150412_12:00:00_\n"
     ]
    },
    {
     "name": "stderr",
     "output_type": "stream",
     "text": [
      " 43%|████▎     | 3/7 [00:00<00:00, 29.83it/s]"
     ]
    },
    {
     "name": "stdout",
     "output_type": "stream",
     "text": [
      "    load 7-mao_20150412_12:00:00_\n",
      "    load 7-mao_20150412_12:00:00_\n",
      "    load 7-mao_20150412_12:00:00_\n"
     ]
    },
    {
     "name": "stderr",
     "output_type": "stream",
     "text": [
      "100%|██████████| 7/7 [00:00<00:00, 29.79it/s]\n"
     ]
    },
    {
     "name": "stdout",
     "output_type": "stream",
     "text": [
      "    process 8-mao_20150621_14:00:00_\n"
     ]
    },
    {
     "name": "stderr",
     "output_type": "stream",
     "text": [
      "  0%|          | 0/7 [00:00<?, ?it/s]"
     ]
    },
    {
     "name": "stdout",
     "output_type": "stream",
     "text": [
      "    load 8-mao_20150621_14:00:00_\n",
      "    load 8-mao_20150621_14:00:00_\n",
      "    load 8-mao_20150621_14:00:00_\n",
      "    load 8-mao_20150621_14:00:00_\n"
     ]
    },
    {
     "name": "stderr",
     "output_type": "stream",
     "text": [
      " 57%|█████▋    | 4/7 [00:00<00:00, 30.41it/s]"
     ]
    },
    {
     "name": "stdout",
     "output_type": "stream",
     "text": [
      "    load 8-mao_20150621_14:00:00_\n",
      "    load 8-mao_20150621_14:00:00_\n"
     ]
    },
    {
     "name": "stderr",
     "output_type": "stream",
     "text": [
      "100%|██████████| 7/7 [00:00<00:00, 22.15it/s]\n"
     ]
    },
    {
     "name": "stdout",
     "output_type": "stream",
     "text": [
      "    process 9-mao_20151106_12:00:00_\n"
     ]
    },
    {
     "name": "stderr",
     "output_type": "stream",
     "text": [
      "  0%|          | 0/7 [00:00<?, ?it/s]"
     ]
    },
    {
     "name": "stdout",
     "output_type": "stream",
     "text": [
      "    load 9-mao_20151106_12:00:00_\n",
      "    load 9-mao_20151106_12:00:00_\n"
     ]
    },
    {
     "name": "stderr",
     "output_type": "stream",
     "text": [
      " 43%|████▎     | 3/7 [00:00<00:00, 27.27it/s]"
     ]
    },
    {
     "name": "stdout",
     "output_type": "stream",
     "text": [
      "    load 9-mao_20151106_12:00:00_\n",
      "    load 9-mao_20151106_12:00:00_\n",
      "    load 9-mao_20151106_12:00:00_\n"
     ]
    },
    {
     "name": "stderr",
     "output_type": "stream",
     "text": [
      " 86%|████████▌ | 6/7 [00:00<00:00, 22.80it/s]"
     ]
    },
    {
     "name": "stdout",
     "output_type": "stream",
     "text": [
      "    load 9-mao_20151106_12:00:00_\n",
      "    load 9-mao_20151106_12:00:00_\n"
     ]
    },
    {
     "name": "stderr",
     "output_type": "stream",
     "text": [
      "100%|██████████| 7/7 [00:00<00:00, 23.04it/s]\n"
     ]
    },
    {
     "name": "stdout",
     "output_type": "stream",
     "text": [
      "    process 10-sgp_20120531_04:00:00_\n"
     ]
    },
    {
     "name": "stderr",
     "output_type": "stream",
     "text": [
      "  0%|          | 0/7 [00:00<?, ?it/s]"
     ]
    },
    {
     "name": "stdout",
     "output_type": "stream",
     "text": [
      "    load 10-sgp_20120531_04:00:00_\n",
      "    load 10-sgp_20120531_04:00:00_\n",
      "    load 10-sgp_20120531_04:00:00_\n",
      "    load 10-sgp_20120531_04:00:00_\n"
     ]
    },
    {
     "name": "stderr",
     "output_type": "stream",
     "text": [
      " 57%|█████▋    | 4/7 [00:00<00:00, 29.31it/s]"
     ]
    },
    {
     "name": "stdout",
     "output_type": "stream",
     "text": [
      "    load 10-sgp_20120531_04:00:00_\n",
      "    load 10-sgp_20120531_04:00:00_\n"
     ]
    },
    {
     "name": "stderr",
     "output_type": "stream",
     "text": [
      "100%|██████████| 7/7 [00:00<00:00, 33.84it/s]\n"
     ]
    },
    {
     "name": "stdout",
     "output_type": "stream",
     "text": [
      "    process 11-sgp_20120615_07:00:00_\n"
     ]
    },
    {
     "name": "stderr",
     "output_type": "stream",
     "text": [
      "  0%|          | 0/7 [00:00<?, ?it/s]"
     ]
    },
    {
     "name": "stdout",
     "output_type": "stream",
     "text": [
      "    load 11-sgp_20120615_07:00:00_\n",
      "    load 11-sgp_20120615_07:00:00_\n"
     ]
    },
    {
     "name": "stderr",
     "output_type": "stream",
     "text": [
      " 43%|████▎     | 3/7 [00:00<00:00, 28.97it/s]"
     ]
    },
    {
     "name": "stdout",
     "output_type": "stream",
     "text": [
      "    load 11-sgp_20120615_07:00:00_\n",
      "    load 11-sgp_20120615_07:00:00_\n",
      "    load 11-sgp_20120615_07:00:00_\n"
     ]
    },
    {
     "name": "stderr",
     "output_type": "stream",
     "text": [
      " 86%|████████▌ | 6/7 [00:00<00:00, 22.59it/s]"
     ]
    },
    {
     "name": "stdout",
     "output_type": "stream",
     "text": [
      "    load 11-sgp_20120615_07:00:00_\n",
      "    load 11-sgp_20120615_07:00:00_\n"
     ]
    },
    {
     "name": "stderr",
     "output_type": "stream",
     "text": [
      "100%|██████████| 7/7 [00:00<00:00, 22.38it/s]\n"
     ]
    },
    {
     "name": "stdout",
     "output_type": "stream",
     "text": [
      "    process 12-sgp_20130509_07:00:00_\n"
     ]
    },
    {
     "name": "stderr",
     "output_type": "stream",
     "text": [
      "  0%|          | 0/7 [00:00<?, ?it/s]"
     ]
    },
    {
     "name": "stdout",
     "output_type": "stream",
     "text": [
      "    load 12-sgp_20130509_07:00:00_\n",
      "    load 12-sgp_20130509_07:00:00_\n",
      "    load 12-sgp_20130509_07:00:00_\n"
     ]
    },
    {
     "name": "stderr",
     "output_type": "stream",
     "text": [
      " 43%|████▎     | 3/7 [00:00<00:00, 26.75it/s]"
     ]
    },
    {
     "name": "stdout",
     "output_type": "stream",
     "text": [
      "    load 12-sgp_20130509_07:00:00_\n",
      "    load 12-sgp_20130509_07:00:00_\n",
      "    load 12-sgp_20130509_07:00:00_\n"
     ]
    },
    {
     "name": "stderr",
     "output_type": "stream",
     "text": [
      "100%|██████████| 7/7 [00:00<00:00, 31.39it/s]\n"
     ]
    },
    {
     "name": "stdout",
     "output_type": "stream",
     "text": [
      "    process 13-sgp_20130605_09:00:00_\n"
     ]
    },
    {
     "name": "stderr",
     "output_type": "stream",
     "text": [
      "  0%|          | 0/7 [00:00<?, ?it/s]"
     ]
    },
    {
     "name": "stdout",
     "output_type": "stream",
     "text": [
      "    load 13-sgp_20130605_09:00:00_\n",
      "    load 13-sgp_20130605_09:00:00_\n",
      "    load 13-sgp_20130605_09:00:00_\n"
     ]
    },
    {
     "name": "stderr",
     "output_type": "stream",
     "text": [
      " 57%|█████▋    | 4/7 [00:00<00:00, 33.78it/s]"
     ]
    },
    {
     "name": "stdout",
     "output_type": "stream",
     "text": [
      "    load 13-sgp_20130605_09:00:00_\n",
      "    load 13-sgp_20130605_09:00:00_\n",
      "    load 13-sgp_20130605_09:00:00_\n"
     ]
    },
    {
     "name": "stderr",
     "output_type": "stream",
     "text": [
      "100%|██████████| 7/7 [00:00<00:00, 27.02it/s]\n"
     ]
    },
    {
     "name": "stdout",
     "output_type": "stream",
     "text": [
      "    process 14-sgp_20130617_07:00:00_\n"
     ]
    },
    {
     "name": "stderr",
     "output_type": "stream",
     "text": [
      "  0%|          | 0/7 [00:00<?, ?it/s]"
     ]
    },
    {
     "name": "stdout",
     "output_type": "stream",
     "text": [
      "    load 14-sgp_20130617_07:00:00_\n"
     ]
    },
    {
     "name": "stderr",
     "output_type": "stream",
     "text": [
      " 43%|████▎     | 3/7 [00:00<00:00, 29.47it/s]"
     ]
    },
    {
     "name": "stdout",
     "output_type": "stream",
     "text": [
      "    load 14-sgp_20130617_07:00:00_\n",
      "    load 14-sgp_20130617_07:00:00_\n",
      "    load 14-sgp_20130617_07:00:00_\n",
      "    load 14-sgp_20130617_07:00:00_\n",
      "    load 14-sgp_20130617_07:00:00_\n"
     ]
    },
    {
     "name": "stderr",
     "output_type": "stream",
     "text": [
      "100%|██████████| 7/7 [00:00<00:00, 29.78it/s]\n"
     ]
    },
    {
     "name": "stdout",
     "output_type": "stream",
     "text": [
      "    process 15-sgp_20140602_04:00:00_\n"
     ]
    },
    {
     "name": "stderr",
     "output_type": "stream",
     "text": [
      " 43%|████▎     | 3/7 [00:00<00:00, 29.67it/s]"
     ]
    },
    {
     "name": "stdout",
     "output_type": "stream",
     "text": [
      "    load 15-sgp_20140602_04:00:00_\n",
      "    load 15-sgp_20140602_04:00:00_\n",
      "    load 15-sgp_20140602_04:00:00_\n",
      "    load 15-sgp_20140602_04:00:00_\n",
      "    load 15-sgp_20140602_04:00:00_\n",
      "    load 15-sgp_20140602_04:00:00_\n"
     ]
    },
    {
     "name": "stderr",
     "output_type": "stream",
     "text": [
      "100%|██████████| 7/7 [00:00<00:00, 31.61it/s]\n"
     ]
    },
    {
     "name": "stdout",
     "output_type": "stream",
     "text": [
      "    process 16-sgp_20140605_12:00:00_\n"
     ]
    },
    {
     "name": "stderr",
     "output_type": "stream",
     "text": [
      "  0%|          | 0/7 [00:00<?, ?it/s]"
     ]
    },
    {
     "name": "stdout",
     "output_type": "stream",
     "text": [
      "    load 16-sgp_20140605_12:00:00_\n",
      "    load 16-sgp_20140605_12:00:00_\n"
     ]
    },
    {
     "name": "stderr",
     "output_type": "stream",
     "text": [
      "100%|██████████| 7/7 [00:00<00:00, 19.60it/s]\n"
     ]
    },
    {
     "name": "stdout",
     "output_type": "stream",
     "text": [
      "    load 16-sgp_20140605_12:00:00_\n",
      "    load 16-sgp_20140605_12:00:00_\n",
      "    load 16-sgp_20140605_12:00:00_\n",
      "    load 16-sgp_20140605_12:00:00_\n",
      "    process 17-sgp_20140612_06:00:00_\n"
     ]
    },
    {
     "name": "stderr",
     "output_type": "stream",
     "text": [
      "  0%|          | 0/7 [00:00<?, ?it/s]"
     ]
    },
    {
     "name": "stdout",
     "output_type": "stream",
     "text": [
      "    load 17-sgp_20140612_06:00:00_\n"
     ]
    },
    {
     "name": "stderr",
     "output_type": "stream",
     "text": [
      " 14%|█▍        | 1/7 [00:00<00:00,  7.73it/s]"
     ]
    },
    {
     "name": "stdout",
     "output_type": "stream",
     "text": [
      "    load 17-sgp_20140612_06:00:00_\n",
      "    load 17-sgp_20140612_06:00:00_\n",
      "    load 17-sgp_20140612_06:00:00_\n",
      "    load 17-sgp_20140612_06:00:00_\n"
     ]
    },
    {
     "name": "stderr",
     "output_type": "stream",
     "text": [
      "100%|██████████| 7/7 [00:00<00:00, 22.15it/s]\n"
     ]
    },
    {
     "name": "stdout",
     "output_type": "stream",
     "text": [
      "    load 17-sgp_20140612_06:00:00_\n",
      "    load 17-sgp_20140612_06:00:00_\n",
      "    process 18-sgp_20140628_16:00:00_\n"
     ]
    },
    {
     "name": "stderr",
     "output_type": "stream",
     "text": [
      "  0%|          | 0/7 [00:00<?, ?it/s]"
     ]
    },
    {
     "name": "stdout",
     "output_type": "stream",
     "text": [
      "    load 18-sgp_20140628_16:00:00_\n"
     ]
    },
    {
     "name": "stderr",
     "output_type": "stream",
     "text": [
      " 57%|█████▋    | 4/7 [00:00<00:00, 35.42it/s]"
     ]
    },
    {
     "name": "stdout",
     "output_type": "stream",
     "text": [
      "    load 18-sgp_20140628_16:00:00_\n",
      "    load 18-sgp_20140628_16:00:00_\n",
      "    load 18-sgp_20140628_16:00:00_\n",
      "    load 18-sgp_20140628_16:00:00_\n",
      "    load 18-sgp_20140628_16:00:00_\n"
     ]
    },
    {
     "name": "stderr",
     "output_type": "stream",
     "text": [
      "100%|██████████| 7/7 [00:00<00:00, 30.03it/s]\n"
     ]
    },
    {
     "name": "stdout",
     "output_type": "stream",
     "text": [
      "    process 19-sgp_20140710_10:00:00_\n"
     ]
    },
    {
     "name": "stderr",
     "output_type": "stream",
     "text": [
      "  0%|          | 0/7 [00:00<?, ?it/s]"
     ]
    },
    {
     "name": "stdout",
     "output_type": "stream",
     "text": [
      "    load 19-sgp_20140710_10:00:00_\n",
      "    load 19-sgp_20140710_10:00:00_\n",
      "    load 19-sgp_20140710_10:00:00_\n"
     ]
    },
    {
     "name": "stderr",
     "output_type": "stream",
     "text": [
      " 43%|████▎     | 3/7 [00:00<00:00, 23.96it/s]"
     ]
    },
    {
     "name": "stdout",
     "output_type": "stream",
     "text": [
      "    load 19-sgp_20140710_10:00:00_\n",
      "    load 19-sgp_20140710_10:00:00_\n",
      "    load 19-sgp_20140710_10:00:00_"
     ]
    },
    {
     "name": "stderr",
     "output_type": "stream",
     "text": [
      "100%|██████████| 7/7 [00:00<00:00, 24.17it/s]\n"
     ]
    },
    {
     "name": "stdout",
     "output_type": "stream",
     "text": [
      "\n"
     ]
    }
   ],
   "source": [
    "# DX = ['500M','250M','125M']\n",
    "# DT = [2,1,0.5]\n",
    "# dx_m = [500,250,125] \n",
    "\n",
    "# DX = ['12KM']\n",
    "# DT = [32]\n",
    "# dx_m = [12000] \n",
    "\n",
    "DX_all = ['12KM','4KM','2KM','1KM','500M','250M','125M']\n",
    "DT_all = [32,16,8,4,2,1,0.5]\n",
    "dx_m_all = [12000,4000,2000,1000,500,250,125] \n",
    "\n",
    "SIM_All = ['mao_20140401_15:00:00_',\n",
    "        'mao_20140917_17:00:00_',\n",
    "        'mao_20141004_13:00:00_',\n",
    "        'mao_20141018_14:00:00_',\n",
    "        'mao_20141117_18:00:00_',\n",
    "        'mao_20141210_14:00:00_',\n",
    "        'mao_20150328_15:00:00_',\n",
    "        'mao_20150412_12:00:00_',\n",
    "        'mao_20150621_14:00:00_',\n",
    "        'mao_20151106_12:00:00_',\n",
    "        'sgp_20120531_04:00:00_',\n",
    "        'sgp_20120615_07:00:00_',\n",
    "        'sgp_20130509_07:00:00_',\n",
    "        'sgp_20130605_09:00:00_',\n",
    "        'sgp_20130617_07:00:00_',\n",
    "        'sgp_20140602_04:00:00_',\n",
    "        'sgp_20140605_12:00:00_',\n",
    "        'sgp_20140612_06:00:00_',\n",
    "        'sgp_20140628_16:00:00_',\n",
    "        'sgp_20140710_10:00:00_']\n",
    "VARS = ['WW','QS','QR','QC','QG','QV','TK','P'] # virtual profiler variables\n",
    "vwp_dir = '/glade/campaign/mmm/c3we/mingge/WRF_DOE/virtual_profiler_NetCDF/'\n",
    "wrfout_dir = '/glade/campaign/mmm/c3we/mingge/WRF_DOE/'\n",
    "\n",
    "skip_ml = '_ml-scip' # ['', '_ml-scip'] if yes --> 1 km arround the ML will be set to zero\n",
    "direction = ['vertical', 'horizontal']\n",
    "buffer = 0.5 # degrees from boundary of D2\n",
    "\n",
    "for di in range(len(direction)):\n",
    "    print('work on ' + direction[di])\n",
    "    # save the data for later processing\n",
    "    savedir ='/glade/campaign/mmm/c3we/prein/Papers/2023_Conv-Cores/data/spectra/'+direction[di]+'_spectra.npz'\n",
    "    if os.path.isfile(savedir+'*') == 0:\n",
    "        spectra_dir = {}\n",
    "        for si in range(len(SIM_All)):\n",
    "            print('    process '+str(si)+'-'+SIM_All[si])\n",
    "            for dx in tqdm(range(len(DX_all))):\n",
    "                SIM = SIM_All[si]\n",
    "                dx_name = DX_all[dx] #'4KM' #str(sys.argv[1])\n",
    "                sim_name = SIM+dx_name\n",
    "                savedir_sim ='/glade/campaign/mmm/c3we/prein/Papers/2023_Conv-Cores/data/spectra/simulaitons/'+direction[di]+'_'+SIM_All[si]+'_'+DX_all[dx]+'_spectra_'+str(buffer)+'deg-buffer.npz'\n",
    "                if os.path.isfile(savedir_sim) == 0:\n",
    "                    \n",
    "\n",
    "                    DX = [dx_name]\n",
    "                    dx_sel =  DX_all.index(dx_name)\n",
    "\n",
    "                    DT = [DT_all[dx_sel]]\n",
    "                    dx_m = [dx_m_all[dx_sel]] \n",
    "\n",
    "\n",
    "                    # si = SIM_All.index('sgp_20120615_07:00:00_')\n",
    "                    # SIM = SIM_All[si]\n",
    "                    # Site = SIM[:3].upper()\n",
    "                    \n",
    "                    Site = SIM[:3].upper()\n",
    "\n",
    "\n",
    "                    outdir = '/glade/campaign/mmm/c3we/prein/Papers/2023_Conv-Cores/data/core_stats'+skip_ml+'/'+SIM_All[si]+'/'\n",
    "                    if not os.path.exists(outdir):\n",
    "                        os.makedirs(outdir)\n",
    "\n",
    "                    if np.isin(DX[0], ('500M','250M','125M')) == True:\n",
    "                        subkm = True\n",
    "                    else:\n",
    "                        subkm = False\n",
    "\n",
    "\n",
    "                    if subkm == True:\n",
    "                        wrfout_files = np.sort(glob.glob(wrfout_dir+DX_all[dx_sel]+'/Thomson_YSU/'+SIM+DX_all[dx_sel]+'/wrfout_d02*'))\n",
    "                    else:\n",
    "                        if DX_all[dx_sel] != '12KM':\n",
    "                            wrfout_files = np.sort(glob.glob(wrfout_dir+DX_all[dx_sel]+'/Thomson_YSU/'+SIM+'L'+DX_all[dx_sel][0]+'/wrfout_d01*'))\n",
    "                        else:\n",
    "                            wrfout_files = np.sort(glob.glob(wrfout_dir+DX_all[dx_sel]+'/Thomson_YSU_0/'+SIM+'L'+DX_all[dx_sel][:2]+'/wrfout_d01*'))\n",
    "                        # only focus the analysis on 18 - 30 hours \n",
    "                        wrfout_files = wrfout_files[18*6+1:18*6+1+12*6]\n",
    "\n",
    "                        # read d2 grid to cut out data from d1\n",
    "                        if SIM[:3] == 'mao':\n",
    "                            wrfout_d2 = '/glade/campaign/mmm/c3we/mingge/WRF_DOE/500M/Thomson_YSU/mao_20141210_14:00:00_500M/wrfout_d02_2014-12-10_12:40:00'\n",
    "                        else:\n",
    "                            wrfout_d2 = '/glade/campaign/mmm/c3we/mingge/WRF_DOE/500M/Thomson_YSU/sgp_20130617_07:00:00_500M/wrfout_d02_2013-06-17_04:20:00'\n",
    "\n",
    "                        ncfile = Dataset(wrfout_d2)\n",
    "                        lat_d2 = np.squeeze(ncfile.variables[\"XLAT\"])\n",
    "                        lon_d2 = np.squeeze(ncfile.variables['XLONG'])\n",
    "                        ncfile.close()\n",
    "\n",
    "                    if len(wrfout_files) == 0:\n",
    "                        continue\n",
    "\n",
    "                    ncfile = Dataset(wrfout_files[40])\n",
    "                    lat = np.squeeze(ncfile.variables[\"XLAT\"])\n",
    "                    lon = np.squeeze(ncfile.variables['XLONG'])\n",
    "                    ncfile.close()\n",
    "\n",
    "                    if subkm == False:\n",
    "                        # cut out d2 from d1\n",
    "                        north = np.where(np.sum((lat <= np.max(lat_d2)-buffer), axis = 1) == 0)[0][0]\n",
    "                        south = np.where(np.sum((lat <= np.min(lat_d2)+buffer), axis = 1) == 0)[0][0]\n",
    "                        west = np.where(np.sum((lon <= np.min(lon_d2)+buffer), axis = 0) == 0)[0][0]\n",
    "                        east = np.where(np.sum((lon <= np.max(lon_d2)-buffer), axis = 0) == 0)[0][0]\n",
    "                        lat = lat[south:north, west:east]\n",
    "                        lon = lon[south:north, west:east]    \n",
    "\n",
    "                    # read the wind data\n",
    "                    for fi in range(len(wrfout_files)):\n",
    "                        ncfile = Dataset(wrfout_files[fi])\n",
    "                        if direction[di] == 'vertical':\n",
    "                            if subkm == False:\n",
    "                                ww30 = np.squeeze(ncfile.variables['W'][:,30,south:north, west:east])\n",
    "                                presh = np.squeeze(ncfile.variables['P'][:,30,south:north, west:east]) + np.squeeze(ncfile.variables['PB'][:,30,south:north, west:east])\n",
    "                                temp = (np.squeeze(ncfile.variables['T'][:,30,south:north, west:east]) + 300) * (presh/100000)**0.2854\n",
    "                            else:\n",
    "                                ww30 = np.squeeze(ncfile.variables['W'][:,30,:,:])\n",
    "                                presh = np.squeeze(ncfile.variables['P'][:,30,:,:]) + np.squeeze(ncfile.variables['PB'][:,30,:,:])\n",
    "                                temp = (np.squeeze(ncfile.variables['T'][:,30,:,:]) + 300) * (presh/100000)**0.2854\n",
    "                            air_density = presh/ (287.058 * temp)\n",
    "                            kin_en = 1/2 * air_density * ww30**2\n",
    "                        else:\n",
    "                            if subkm == False:\n",
    "                                uu30 = np.squeeze(ncfile.variables['U'][:,30,south:north, west:east])\n",
    "                                vv30 = np.squeeze(ncfile.variables['V'][:,30,south:north, west:east])\n",
    "                                presh = np.squeeze(ncfile.variables['P'][:,30,south:north, west:east]) + np.squeeze(ncfile.variables['PB'][:,30,south:north, west:east])\n",
    "                                temp = (np.squeeze(ncfile.variables['T'][:,30,south:north, west:east]) + 300)  * (presh/100000)**0.2854\n",
    "                            else:\n",
    "                                uu30 = np.squeeze(ncfile.variables['U'][:,30,:,:])\n",
    "                                vv30 = np.squeeze(ncfile.variables['V'][:,30,:,:])\n",
    "                                uu30 = (uu30[:,:-1] + uu30[:,1:])/2\n",
    "                                vv30 = (vv30[:-1,:] + vv30[1:,:])/2\n",
    "                                presh = np.squeeze(ncfile.variables['P'][:,30,:,:]) + np.squeeze(ncfile.variables['PB'][:,30,:,:])\n",
    "                                temp = (np.squeeze(ncfile.variables['T'][:,30,:,:]) + 300)  * (presh/100000)**0.2854\n",
    "                            ww30 = (uu30**2 + vv30**2)**(1/2)\n",
    "                            air_density = presh/ (287.058 * temp)\n",
    "                            kin_en = 1/2 * air_density * ww30**2\n",
    "                        ncfile.close()\n",
    "\n",
    "                        # note: apply ortho normalization! \n",
    "                        WRF4kmprecip_spectral = fft.dctn(kin_en, norm=\"ortho\")\n",
    "\n",
    "                        # define number of grid cells in each direction \n",
    "                        Ni = kin_en.shape[0]\n",
    "                        Nj = kin_en.shape[1]\n",
    "\n",
    "                        WRF4kmvariance =  get_variances(WRF4kmprecip_spectral)\n",
    "                        variance_field = (1/Ni )* (1/Nj)  * ( kin_en - np.nanmean(kin_en) )**2\n",
    "                        total_variance1 = np.nansum(variance_field)\n",
    "\n",
    "                        variance = WRF4kmvariance.copy()\n",
    "                        variance[0,0] = np.nan\n",
    "                        total_variance2 = np.nansum(variance)\n",
    "\n",
    "                        lambda_rect = k_to_lambda(Ni, Nj, dx=dx_m_all[dx_sel])\n",
    "                        WRF4kmwavelengths, WRF4kmhistogram = get_power_spectrum(WRF4kmvariance, dx = dx_m_all[dx_sel])\n",
    "\n",
    "                        if fi == 0:\n",
    "                            spectra = np.zeros((len(wrfout_files), len(WRF4kmhistogram)))\n",
    "                        spectra[fi,:] = WRF4kmhistogram\n",
    "                    # save the simulation data\n",
    "                    np.savez(savedir_sim,\n",
    "                           spectra = spectra,\n",
    "                           WRF4kmwavelengths = WRF4kmwavelengths)\n",
    "                else:\n",
    "                    print('    load '+str(si)+'-'+SIM_All[si])\n",
    "                    data_act = np.load(savedir_sim)\n",
    "                    spectra = data_act['spectra']\n",
    "                    WRF4kmwavelengths = data_act['WRF4kmwavelengths']\n",
    "                    \n",
    "                # save the spectra and wavelength to directory\n",
    "                save_dir_act = {}\n",
    "                save_dir_act['spectra'] = spectra\n",
    "                save_dir_act['wavelength'] = WRF4kmwavelengths\n",
    "\n",
    "                spectra_dir[sim_name] = save_dir_act\n",
    "\n",
    "        np.savez(savedir, \n",
    "             spectra_dir=spectra_dir)\n",
    "    else:\n",
    "        data = np.load(savedir, allow_pickle=True)\n",
    "        spectra_dir = data['spectra_dir'].item()\n",
    "    if direction[di] == 'vertical':\n",
    "        spectra_dir_vertical = spectra_dir\n",
    "    elif direction[di] == 'horizontal':\n",
    "        spectra_dir_horizontal = spectra_dir"
   ]
  },
  {
   "cell_type": "code",
   "execution_count": 5,
   "metadata": {},
   "outputs": [],
   "source": [
    "import matplotlib as mpl\n",
    "mpl.rcParams.update(mpl.rcParamsDefault)"
   ]
  },
  {
   "cell_type": "code",
   "execution_count": 15,
   "metadata": {},
   "outputs": [
    {
     "data": {
      "text/plain": [
       "['horizontal', 'vertical']"
      ]
     },
     "execution_count": 15,
     "metadata": {},
     "output_type": "execute_result"
    }
   ],
   "source": [
    "direction[::-1]"
   ]
  },
  {
   "cell_type": "code",
   "execution_count": 17,
   "metadata": {},
   "outputs": [
    {
     "name": "stdout",
     "output_type": "stream",
     "text": [
      "        Plot map to: Kinetic-Energy-Spectra_vertical-horizontal.pdf\n"
     ]
    },
    {
     "data": {
      "image/png": "[encoded data removed]",
      "text/plain": [
       "<Figure size 1400x1000 with 4 Axes>"
      ]
     },
     "metadata": {},
     "output_type": "display_data"
    }
   ],
   "source": [
    "regions = ['sgp', 'mao']\n",
    "colors = ['#6a3d9a','#1f78b4','#a6cee3','#33a02c','#ff7f00','#fb9a99','#e31a1c']\n",
    "keys = np.array(list(spectra_dir.keys()))\n",
    "\n",
    "fig = plt.figure(figsize=(14,10))\n",
    "matplotlib.rcParams.update({'font.size': 14})\n",
    "# Histogram plots\n",
    "gs1 = gridspec.GridSpec(2,2) #rgiSize[2])\n",
    "gs1.update(left=0.06, right=0.97,\n",
    "           bottom=0.13, top=0.97,\n",
    "           wspace=0.20, hspace=0.35)\n",
    "for di in range(len(direction)):\n",
    "    if direction[::-1][di] == 'vertical':\n",
    "        spectra_dir = spectra_dir_vertical\n",
    "        ylim = [10**-5,2*10**-1]\n",
    "    elif direction[::-1][di] == 'horizontal':\n",
    "        spectra_dir = spectra_dir_horizontal\n",
    "        ylim = [10**-6,10**3]\n",
    "    for re in range(len(regions)):\n",
    "        ax = plt.subplot(gs1[di,re])\n",
    "\n",
    "        re_act = regions[re]\n",
    "        reg_sel = np.array([keys[ii][:3] == re_act for ii in range(len(keys))])\n",
    "        keys_sel = keys[reg_sel]\n",
    "\n",
    "        for dx in [0,1,2,3,4,5,6]:\n",
    "            dx_act = DX_all[dx]\n",
    "            dx_sel = np.array(['_' + dx_act in keys_sel[ii] for ii in range(len(keys_sel))])\n",
    "            sim_sel = keys_sel[dx_sel]\n",
    "\n",
    "            for si in range(len(sim_sel)):\n",
    "                spectra_tmp = np.median(spectra_dir[sim_sel[si]]['spectra'], axis=0)\n",
    "                if si == 0:\n",
    "                    spectra_dx = np.zeros((len(sim_sel), len(spectra_tmp))); spectra_dx[:] = np.nan\n",
    "                    spectra_dx[si,:] = spectra_tmp\n",
    "                    wavelength_dx = spectra_dir[sim_sel[si]]['wavelength']\n",
    "                else:\n",
    "                    spectra_dx[si,:] = spectra_tmp\n",
    "\n",
    "            plt.plot(wavelength_dx[1:]/1000., np.median(spectra_dx, axis=0), label = dx_act, color = colors[dx])\n",
    "\n",
    "        plt.title(abc_list[re+di*2]+') '+regions[re] + ' power spectra of '+direction[di]+' wind velocity', fontsize= 14)\n",
    "        plt.ylabel('kinetic energy [m$^{2}$ s$^{-2}$]')\n",
    "        plt.xlabel('wavelength $\\lambda$ [km]')\n",
    "        plt.xscale('log')\n",
    "        plt.yscale('log')\n",
    "        plt.grid(True, which = 'both', axis = 'x', linestyle= '--')\n",
    "        plt.ylim(ylim[0],ylim[1])\n",
    "        plt.xlim(700,0.125)\n",
    "        if (di == 0) & (re == 0):\n",
    "            plt.legend()\n",
    "            \n",
    "        if di == 0:\n",
    "            # -3 spectrum line\n",
    "            x = np.logspace(1.8,1.2, 10)  # logarithmic x-axis values\n",
    "            y = 0.2**(-3) * x**(-3)  # line equation with a slope of -3\n",
    "            plt.loglog(x, y[::-1],c='k')\n",
    "            plt.text(x[0],y[-1], '-3', ha='center', va='bottom')\n",
    "\n",
    "            # -3 spectrum line\n",
    "            x = np.logspace(1.1,0.1, 10)  # logarithmic x-axis values\n",
    "            y = 100**(-5/3) * x**(-5/3)  # line equation with a slope of -3\n",
    "            plt.loglog(x, y[::-1],c='k')\n",
    "            plt.text(x[0],y[-1], '-5/3', ha='center', va='bottom')\n",
    "\n",
    "sPlotFile=''\n",
    "sPlotName= 'Kinetic-Energy-Spectra_vertical-horizontal.pdf'\n",
    "print( '        Plot map to: '+sPlotFile+sPlotName)\n",
    "fig.savefig(sPlotFile+sPlotName, bbox_inches='tight') #, dpi=700)\n",
    "\n",
    "plt.show()"
   ]
  },
  {
   "cell_type": "code",
   "execution_count": 7,
   "metadata": {},
   "outputs": [
    {
     "data": {
      "text/plain": [
       "array(['mao_20140401_15:00:00_12KM', 'mao_20140401_15:00:00_4KM',\n",
       "       'mao_20140401_15:00:00_2KM', 'mao_20140401_15:00:00_1KM',\n",
       "       'mao_20140401_15:00:00_500M', 'mao_20140401_15:00:00_250M',\n",
       "       'mao_20140401_15:00:00_125M', 'mao_20140917_17:00:00_12KM',\n",
       "       'mao_20140917_17:00:00_4KM', 'mao_20140917_17:00:00_2KM',\n",
       "       'mao_20140917_17:00:00_1KM', 'mao_20140917_17:00:00_500M',\n",
       "       'mao_20140917_17:00:00_250M', 'mao_20141004_13:00:00_12KM',\n",
       "       'mao_20141004_13:00:00_4KM', 'mao_20141004_13:00:00_2KM',\n",
       "       'mao_20141004_13:00:00_1KM', 'mao_20141004_13:00:00_500M',\n",
       "       'mao_20141004_13:00:00_250M', 'mao_20141018_14:00:00_12KM',\n",
       "       'mao_20141018_14:00:00_4KM', 'mao_20141018_14:00:00_2KM',\n",
       "       'mao_20141018_14:00:00_1KM', 'mao_20141018_14:00:00_500M',\n",
       "       'mao_20141018_14:00:00_250M', 'mao_20141117_18:00:00_12KM',\n",
       "       'mao_20141117_18:00:00_4KM', 'mao_20141117_18:00:00_2KM',\n",
       "       'mao_20141117_18:00:00_1KM', 'mao_20141117_18:00:00_500M',\n",
       "       'mao_20141117_18:00:00_250M', 'mao_20141210_14:00:00_12KM',\n",
       "       'mao_20141210_14:00:00_4KM', 'mao_20141210_14:00:00_2KM',\n",
       "       'mao_20141210_14:00:00_1KM', 'mao_20141210_14:00:00_500M',\n",
       "       'mao_20141210_14:00:00_250M', 'mao_20150328_15:00:00_12KM',\n",
       "       'mao_20150328_15:00:00_4KM', 'mao_20150328_15:00:00_2KM',\n",
       "       'mao_20150328_15:00:00_1KM', 'mao_20150328_15:00:00_500M',\n",
       "       'mao_20150328_15:00:00_250M', 'mao_20150412_12:00:00_12KM',\n",
       "       'mao_20150412_12:00:00_4KM', 'mao_20150412_12:00:00_2KM',\n",
       "       'mao_20150412_12:00:00_1KM', 'mao_20150412_12:00:00_500M',\n",
       "       'mao_20150412_12:00:00_250M', 'mao_20150621_14:00:00_12KM',\n",
       "       'mao_20150621_14:00:00_4KM', 'mao_20150621_14:00:00_2KM',\n",
       "       'mao_20150621_14:00:00_1KM', 'mao_20150621_14:00:00_500M',\n",
       "       'mao_20150621_14:00:00_250M', 'mao_20151106_12:00:00_12KM',\n",
       "       'mao_20151106_12:00:00_4KM', 'mao_20151106_12:00:00_2KM',\n",
       "       'mao_20151106_12:00:00_1KM', 'mao_20151106_12:00:00_500M',\n",
       "       'mao_20151106_12:00:00_250M', 'mao_20151106_12:00:00_125M'],\n",
       "      dtype='<U26')"
      ]
     },
     "execution_count": 7,
     "metadata": {},
     "output_type": "execute_result"
    }
   ],
   "source": [
    "keys_sel"
   ]
  },
  {
   "cell_type": "code",
   "execution_count": 8,
   "metadata": {},
   "outputs": [
    {
     "data": {
      "text/plain": [
       "array([5.01187234e-04, 1.07977516e-03, 2.32630507e-03, 5.01187234e-03,\n",
       "       1.07977516e-02, 2.32630507e-02, 5.01187234e-02, 1.07977516e-01,\n",
       "       2.32630507e-01, 5.01187234e-01])"
      ]
     },
     "execution_count": 8,
     "metadata": {},
     "output_type": "execute_result"
    }
   ],
   "source": [
    "1**(-3) * x**(-3)"
   ]
  },
  {
   "cell_type": "code",
   "execution_count": null,
   "metadata": {},
   "outputs": [],
   "source": []
  },
  {
   "cell_type": "code",
   "execution_count": 9,
   "metadata": {},
   "outputs": [
    {
     "data": {
      "text/plain": [
       "(5998,)"
      ]
     },
     "execution_count": 9,
     "metadata": {},
     "output_type": "execute_result"
    }
   ],
   "source": [
    "spectra_tmp.shape"
   ]
  },
  {
   "cell_type": "code",
   "execution_count": 10,
   "metadata": {},
   "outputs": [
    {
     "data": {
      "image/png": "[encoded data removed]",
      "text/plain": [
       "<Figure size 640x480 with 1 Axes>"
      ]
     },
     "metadata": {},
     "output_type": "display_data"
    }
   ],
   "source": [
    "import matplotlib.pyplot as plt\n",
    "import numpy as np\n",
    "\n",
    "# Generate data points for the line with a slope of -3\n",
    "x = np.logspace(-1, 3, 100)  # logarithmic x-axis values\n",
    "y = 10**(-3) * x**(-3)  # line equation with a slope of -3\n",
    "\n",
    "# Create a double logarithmic plot\n",
    "plt.loglog(x, y, label='Line with slope -3')\n",
    "\n",
    "# Set labels and title\n",
    "plt.xlabel('X-axis (log scale)')\n",
    "plt.ylabel('Y-axis (log scale)')\n",
    "plt.title('Double Logarithmic Plot with Slope -3')\n",
    "\n",
    "# Show grid\n",
    "plt.grid(True)\n",
    "\n",
    "# Show legend\n",
    "plt.legend()\n",
    "\n",
    "# Display the plot\n",
    "plt.show()\n"
   ]
  },
  {
   "cell_type": "markdown",
   "metadata": {},
   "source": [
    "## Step 1. Discrete cosine transformation of vertical velocity field\n",
    "\n",
    "! to perform a multidimensional DCT, take fft.dctn instead of fft.dct: https://docs.scipy.org/doc/scipy/reference/generated/scipy.fft.dctn.html"
   ]
  },
  {
   "cell_type": "code",
   "execution_count": 11,
   "metadata": {},
   "outputs": [],
   "source": [
    "plt.figure(figsize=(10,5))\n",
    "plt.plot(wavelength_dx[1:], np.median(spectra_dx, axis=0), label = 'WRF4km', color ='crimson')\n",
    "plt.title('Power spectra of mean rain rates', fontsize= 14)\n",
    "plt.legend(fontsize= 12)\n",
    "plt.ylabel(r'sum of variances $\\sum \\sigma^2$ [mm h$^{-1}]^2$')\n",
    "plt.xlabel('wavelength $\\lambda$ [m]')\n",
    "plt.xscale('log')\n",
    "plt.yscale('log')\n",
    "plt.grid(True, which = 'both', axis = 'x', linestyle= '--')"
   ]
  },
  {
   "cell_type": "code",
   "execution_count": null,
   "metadata": {},
   "outputs": [],
   "source": []
  },
  {
   "cell_type": "code",
   "execution_count": null,
   "metadata": {},
   "outputs": [],
   "source": []
  },
  {
   "cell_type": "code",
   "execution_count": null,
   "metadata": {},
   "outputs": [],
   "source": [
    "\n"
   ]
  },
  {
   "cell_type": "code",
   "execution_count": 12,
   "metadata": {},
   "outputs": [
    {
     "data": {
      "image/png": "[encoded data removed]",
      "text/plain": [
       "<Figure size 1000x500 with 1 Axes>"
      ]
     },
     "metadata": {},
     "output_type": "display_data"
    },
    {
     "data": {
      "image/png": "[encoded data removed]",
      "text/plain": [
       "<Figure size 1000x500 with 1 Axes>"
      ]
     },
     "metadata": {},
     "output_type": "display_data"
    }
   ],
   "source": [
    "sim = 'mao_20140401_15:00:00_12KM'\n",
    "\n",
    "plt.figure(figsize=(10,5))\n",
    "plt.plot(spectra_dir[sim]['wavelength'][1:], np.median(spectra_dir[sim]['spectra'], axis=0), label = 'WRF4km', color ='crimson')\n",
    "plt.title('Power spectra of mean rain rates', fontsize= 14)\n",
    "plt.legend(fontsize= 12)\n",
    "plt.ylabel(r'sum of variances $\\sum \\sigma^2$ [mm h$^{-1}]^2$')\n",
    "plt.xlabel('wavelength $\\lambda$ [m]')\n",
    "plt.xscale('log')\n",
    "plt.yscale('log')\n",
    "plt.grid(True, which = 'both', axis = 'x', linestyle= '--')\n",
    "\n",
    "sim = 'mao_20140401_15:00:00_125M'\n",
    "\n",
    "plt.plot(spectra_dir[sim]['wavelength'][1:], np.median(spectra_dir[sim]['spectra'], axis=0), label = 'WRF4km', color ='crimson')\n",
    "plt.title('Power spectra of mean rain rates', fontsize= 14)\n",
    "plt.legend(fontsize= 12)\n",
    "plt.ylabel(r'sum of variances $\\sum \\sigma^2$ [mm h$^{-1}]^2$')\n",
    "plt.xlabel('wavelength $\\lambda$ [m]')\n",
    "plt.xscale('log')\n",
    "plt.yscale('log')\n",
    "plt.grid(True, which = 'both', axis = 'x', linestyle= '--')\n",
    "\n",
    "plt.show()"
   ]
  },
  {
   "cell_type": "code",
   "execution_count": 13,
   "metadata": {},
   "outputs": [
    {
     "name": "stdout",
     "output_type": "stream",
     "text": [
      "--Call--\n",
      "> \u001b[0;32m/glade/u/apps/opt/conda/envs/npl-2023b/lib/python3.10/site-packages/IPython/core/displayhook.py\u001b[0m(258)\u001b[0;36m__call__\u001b[0;34m()\u001b[0m\n",
      "\u001b[0;32m    256 \u001b[0;31m        \u001b[0msys\u001b[0m\u001b[0;34m.\u001b[0m\u001b[0mstdout\u001b[0m\u001b[0;34m.\u001b[0m\u001b[0mflush\u001b[0m\u001b[0;34m(\u001b[0m\u001b[0;34m)\u001b[0m\u001b[0;34m\u001b[0m\u001b[0;34m\u001b[0m\u001b[0m\n",
      "\u001b[0m\u001b[0;32m    257 \u001b[0;31m\u001b[0;34m\u001b[0m\u001b[0m\n",
      "\u001b[0m\u001b[0;32m--> 258 \u001b[0;31m    \u001b[0;32mdef\u001b[0m \u001b[0m__call__\u001b[0m\u001b[0;34m(\u001b[0m\u001b[0mself\u001b[0m\u001b[0;34m,\u001b[0m \u001b[0mresult\u001b[0m\u001b[0;34m=\u001b[0m\u001b[0;32mNone\u001b[0m\u001b[0;34m)\u001b[0m\u001b[0;34m:\u001b[0m\u001b[0;34m\u001b[0m\u001b[0;34m\u001b[0m\u001b[0m\n",
      "\u001b[0m\u001b[0;32m    259 \u001b[0;31m        \"\"\"Printing with history cache management.\n",
      "\u001b[0m\u001b[0;32m    260 \u001b[0;31m\u001b[0;34m\u001b[0m\u001b[0m\n",
      "\u001b[0m\n"
     ]
    },
    {
     "name": "stdin",
     "output_type": "stream",
     "text": [
      "ipdb>  exit\n"
     ]
    }
   ],
   "source": [
    "stop()"
   ]
  },
  {
   "cell_type": "markdown",
   "metadata": {},
   "source": [
    "### Verification 1: \n",
    "\n",
    "F(0,0) / $\\sqrt{NiNj}$  should be equal to domain average of mean precip , with Ni and Nj being the total number of grid cells in each direction "
   ]
  },
  {
   "cell_type": "code",
   "execution_count": null,
   "metadata": {},
   "outputs": [],
   "source": [
    "assert np.isclose(WRF4kmprecip_spectral[0, 0] / np.sqrt(Ni * Nj), ww30.mean())\n",
    "print(WRF4kmprecip_spectral[0, 0] / np.sqrt(Ni * Nj), ww30.mean())"
   ]
  },
  {
   "cell_type": "code",
   "execution_count": null,
   "metadata": {},
   "outputs": [],
   "source": [
    "assert np.isclose(WRF4kmprecip_spectral[0, 0] / np.sqrt(Ni * Nj), ww30.mean())\n",
    "print(WRF4kmprecip_spectral[0, 0] / np.sqrt(Ni * Nj), ww30.mean())"
   ]
  },
  {
   "cell_type": "markdown",
   "metadata": {},
   "source": [
    "## Step 2. Variances of spectral coefficients\n",
    "\n",
    "\n",
    "Get variances $\\sigma^2$  = F(m,n) = F$^2$ / (NjNi) \n",
    "\n",
    "! think of normalization with domain size NjNi"
   ]
  },
  {
   "cell_type": "code",
   "execution_count": null,
   "metadata": {},
   "outputs": [],
   "source": [
    "# my function to calculate normalized variances \n",
    "help(get_variances)"
   ]
  },
  {
   "cell_type": "code",
   "execution_count": null,
   "metadata": {},
   "outputs": [],
   "source": [
    "WRF4kmvariance =  get_variances(WRF4kmprecip_spectral)"
   ]
  },
  {
   "cell_type": "markdown",
   "metadata": {},
   "source": [
    "### Verification 2: \n",
    "\n",
    "total variance of spectral coefficients F(m,n)/NiNj (without F(0, 0), since this is the domain average ) should be same as total variance of precipitation values"
   ]
  },
  {
   "cell_type": "code",
   "execution_count": null,
   "metadata": {},
   "outputs": [],
   "source": [
    "variance_field = (1/Ni )* (1/Nj)  * ( ww30 - np.nanmean(ww30) )**2\n",
    "total_variance1 = np.nansum(variance_field)\n",
    "\n",
    "variance = WRF4kmvariance.copy()\n",
    "variance[0,0] = np.nan\n",
    "total_variance2 = np.nansum(variance)\n",
    "\n",
    "assert np.isclose(total_variance1, total_variance2)\n",
    "print(total_variance1, total_variance2)"
   ]
  },
  {
   "cell_type": "markdown",
   "metadata": {},
   "source": [
    "## Step 3. Get wavelengths for spectral space \n",
    "\n",
    "$\\lambda$ = 2 * dx / $\\alpha$, with $\\alpha$ = $\\sqrt{m^2 / Ni^2  + n^2 / Nj^2  }$\n",
    "\n",
    "In this step, you also need to convert the indices m and n in the k-space to actual wavelengths. That way each spectral variance value is associated with one wavelength. "
   ]
  },
  {
   "cell_type": "code",
   "execution_count": null,
   "metadata": {},
   "outputs": [],
   "source": [
    "# my function to get real wavelengths\n",
    "help(k_to_lambda)"
   ]
  },
  {
   "cell_type": "code",
   "execution_count": null,
   "metadata": {},
   "outputs": [],
   "source": [
    "# convert non dimensional wavenumbers to wavelengths\n",
    "lambda_rect = k_to_lambda(Ni, Nj, dx=4000)\n",
    "# quick check if lambda values make sense \n",
    "plt.pcolormesh(lambda_rect, norm=LogNorm(10e3,10e4))\n",
    "plt.colorbar(label = 'wavelength $\\lambda$ [m]')\n",
    "plt.show()"
   ]
  },
  {
   "cell_type": "markdown",
   "metadata": {},
   "source": [
    "### Plot spectral variances as function of wavelengths "
   ]
  },
  {
   "cell_type": "code",
   "execution_count": null,
   "metadata": {},
   "outputs": [],
   "source": [
    "# horizontal and vertical lengths of 2D field\n",
    "m, n   = np.meshgrid(np.arange(Nj), np.arange(Ni))\n",
    "\n",
    "## plot\n",
    "plt.figure(figsize=(10,5))\n",
    "plt.pcolormesh(m, n, WRF4kmvariance, shading = 'auto', cmap = 'plasma' , norm=LogNorm(10e-5,10e1))\n",
    "plt.title('spectral variances of precipitation field')\n",
    "\n",
    "\n",
    "# get axes of spatial scales in km \n",
    "wavelength_x = lambda_rect[0,:]/ 1000\n",
    "wavelength_y = lambda_rect[:,0]/ 1000\n",
    "plt.xticks(m[0,:][1::150], (wavelength_x[1::150]).astype(int))\n",
    "plt.yticks(n[:,0][1::100], (wavelength_y[1::100]).astype(int))\n",
    "\n",
    "plt.xlabel('$\\lambda$ [km]')\n",
    "plt.ylabel('$\\lambda$  [km]')\n",
    "plt.colorbar(label ='$\\sigma^2$ (m,n)')\n",
    "plt.show()"
   ]
  },
  {
   "cell_type": "markdown",
   "metadata": {},
   "source": [
    "## Step 4. Binning variances  $\\sigma^2 (m,n)$ with specific wavelengths $\\lambda$\n",
    "\n",
    "- find the upper and lower bounds for radius k in which you want to sum the spectral variance values \n",
    "- sum of variances as function of the spatial scale give you an indication which scales are associated with largest variances\n",
    "- useful to look at effective resolution of the models\n",
    "- expected that the sum of variances for large wavelengths converges (see Big Brother experiment)"
   ]
  },
  {
   "cell_type": "code",
   "execution_count": null,
   "metadata": {},
   "outputs": [],
   "source": [
    "# my function to get the power spectrum for a given 2D variance field \n",
    "help(get_power_spectrum)"
   ]
  },
  {
   "cell_type": "code",
   "execution_count": null,
   "metadata": {},
   "outputs": [],
   "source": [
    "# use my function to compute power spectrum \n",
    "WRF4kmwavelengths, WRF4kmhistogram = get_power_spectrum(WRF4kmvariance, dx = dx_m_all[dx_sel])"
   ]
  },
  {
   "cell_type": "markdown",
   "metadata": {},
   "source": [
    "### Plot power spectrum "
   ]
  },
  {
   "cell_type": "code",
   "execution_count": null,
   "metadata": {},
   "outputs": [],
   "source": [
    "plt.figure(figsize=(10,5))\n",
    "plt.plot(WRF4kmwavelengths[1:], WRF4kmhistogram, label = 'WRF4km', color ='crimson')\n",
    "plt.title('Power spectra of mean rain rates', fontsize= 14)\n",
    "plt.legend(fontsize= 12)\n",
    "plt.ylabel(r'sum of variances $\\sum \\sigma^2$ [mm h$^{-1}]^2$')\n",
    "plt.xlabel('wavelength $\\lambda$ [m]')\n",
    "plt.xscale('log')\n",
    "plt.yscale('log')\n",
    "plt.grid(True, which = 'both', axis = 'x', linestyle= '--')\n",
    "plt.show()"
   ]
  },
  {
   "cell_type": "code",
   "execution_count": null,
   "metadata": {},
   "outputs": [],
   "source": [
    "stop()"
   ]
  },
  {
   "cell_type": "markdown",
   "metadata": {},
   "source": [
    "# Comparison of mean power spectra for hourly/daily precipitation of different models, different model configurations and grid spacings \n",
    "\n",
    "Questions:\n",
    "- What is the effective resolution of the models ? \n",
    "- How do the additional experiments like domain size and nudging effect the variance of rain rates at different scales? (e.g. lower variance due to smoother field of larger domain areas and nudging)? \n",
    "\n",
    "- In general a higher resolution results in higher variance \n",
    "- Most variance for larger scales due to different climatic zones (monsoon convection vs. desert)"
   ]
  },
  {
   "cell_type": "markdown",
   "metadata": {},
   "source": [
    "### Load data for simulations to compare "
   ]
  },
  {
   "cell_type": "code",
   "execution_count": null,
   "metadata": {},
   "outputs": [],
   "source": [
    "campaign_storage= Path('/glade/campaign/mmm/c3we/prein/CPTP/data/CASES_Ensemble/MCS')\n",
    "path= Path('/glade/scratch/kukulies/CPTP/')\n",
    "datasets  = dict()\n",
    "\n",
    "\n",
    "### WRF 4km ### \n",
    "datasets['WRF4km_d01']= campaign_storage/ 'pr_CPTP-MCS-4_ECMWF-ERA5_evaluation_r1i1p1_NCAR-WRF421P_v1_hour_20080714-20080724.nc'\n",
    "datasets['WRF4km_d02']= campaign_storage/ 'pr_CPTP-MCS-4_ECMWF-ERA5_evaluation_r1i2p1_NCAR-WRF421P_v1_hour_20080714-20080724.nc'\n",
    "datasets['WRF4km_d03'] =  path / '4km_5deg/postprocessed/pr_CPTP-MCS-4_ECMWF-ERA5_evaluation_r1i1p1_NCAR-WRF421P_v1_hour_20080714-20080724.nc'\n",
    "\n",
    "#### WRF 12km ###\n",
    "#datasets['WRF12km'] = '/glade/scratch/kukulies/wrf_processed/pr_CPTP-MCS-12_ECMWF-ERA5_evaluation_r1i1p1_NCAR-WRF421P_v1_hour_20080714-20080724.nc'\n",
    "#### MPAS ###\n",
    "#datasets['MPAS1'] = campaign_storage/ 'pr_CPTP-MCS-4_ECMWF-ERA5_evaluation_r1i1p1_PNNL-MPAS7.0P_v1_hour_20080714-20080724.nc'\n",
    "#datasets['MPAS2'] = campaign_storage/ 'pr_CPTP-MCS-4_ECMWF-ERA5_evaluation_r1i3p1_PNNL-MPAS7.0P_v1_hour_20080714-20080724.nc'\n",
    "#datasets['MPAS3'] = campaign_storage/ 'pr_CPTP-MCS-4_ECMWF-ERA5_evaluation_r1i3p1_PNNL-MPAS7.0P_v1_hour_20080714-20080724.nc'\n",
    "datasets['MPAS'] = campaign_storage/ 'pr_CPTP-MCS-4_ECMWF-ERA5_evaluation_r1i1p1_PNNL-MPASLA7.0P_v1_hour_20080714-20080724.nc'\n",
    "\n",
    "### CCLM ###\n",
    "datasets['CCLM'] = campaign_storage/ 'pr_CPTP-MCS-2_ECMWF-ERA5_evaluation_r1i1p1_UIBK-CCLM50n1P_v1_hour_20080714-20080724.nc'\n",
    "### ICON ###\n",
    "datasets['ICON'] = campaign_storage/ 'pr_CPTP-MCS-4_ECMWF-ERA5_evaluation_r1i1p1_GUF-ICON2.6.3_v1_hour_20080714-20080724.nc'\n",
    "\n",
    "### RegCM ###\n",
    "datasets['RegCM'] = campaign_storage/ 'pr_CPTP-MCS-4_ECMWF-ERA5_evaluation_r1i1p1_IITM-RegCM480_v1_hour_20080714-20080724.nc'\n",
    "\n",
    "\n",
    "### additional experiments ### \n",
    "datasets['WRF4km_nudging'] = path / '4km_spectral/postprocessed/pr_CPTP-MCS-4_ECMWF-ERA5_evaluation_r1i1p1_NCAR-WRF421P_v1_hour_20080714-20080724.nc'\n",
    "#datasets['WRF4km_timelag'] = path / '4km_timelag/postprocessed/pr_CPTP-MCS-4_ECMWF-ERA5_evaluation_r1i1p1_NCAR-WRF421P_v1_hour_20080714-20080724.nc'\n",
    "\n",
    "\n",
    "# vertical resolution experiment \n",
    "datasets['WRF8km'] = path / '8km_ref/postprocessed/pr_CPTP-MCS-8_ECMWF-ERA5_evaluation_r1i1p1_NCAR-WRF421P_v1_hour_20080714-20080724.nc'\n",
    "datasets['WRF8km_vertical'] = path / '8km_vertical/postprocessed/pr_CPTP-MCS-8_ECMWF-ERA5_evaluation_r1i1p1_NCAR-WRF421P_v1_hour_20080714-20080724.nc'\n",
    "\n",
    "#datasets['WRF12km'] = '/glade/scratch/kukulies/wrf_processed/pr_total_12km.nc'"
   ]
  },
  {
   "cell_type": "markdown",
   "metadata": {},
   "source": [
    "### Compare to model terrain heights "
   ]
  },
  {
   "cell_type": "code",
   "execution_count": null,
   "metadata": {},
   "outputs": [],
   "source": [
    "from netCDF4 import Dataset\n",
    "import wrf \n",
    "ds12km = Dataset('/glade/campaign/mmm/c3we/prein/CPTP/data/12km_casestudy-simulations/wrfout/wrfout_d01_2008-07-15_01:00:00')\n",
    "ds4km = Dataset('/glade/campaign/mmm/c3we/prein/CPTP/data/4km_MCS_L/wrfout/wrfout_d01_2008-07-23_01:00:00')\n",
    "\n",
    "terrain = dict()\n",
    "terrain['WRF4km'] = wrf.getvar(ds4km, 'ter')\n",
    "terrain['WRF12km'] = wrf.getvar(ds12km, 'ter') "
   ]
  },
  {
   "cell_type": "code",
   "execution_count": null,
   "metadata": {},
   "outputs": [],
   "source": [
    "wavelengths_terrain = dict()\n",
    "histograms_terrain = dict()\n",
    "wavelengths_terrain['WRF12km'] , histograms_terrain['WRF12km'] = power_spectrum_accumulations(ds=terrain['WRF12km'], dx=12)\n",
    "wavelengths_terrain['WRF4km'] , histograms_terrain['WRF4km'] = power_spectrum_accumulations(ds=terrain['WRF4km'], dx=4)"
   ]
  },
  {
   "cell_type": "markdown",
   "metadata": {},
   "source": [
    "### Median power spectra of precipitation accumulations in simulation "
   ]
  },
  {
   "cell_type": "code",
   "execution_count": null,
   "metadata": {},
   "outputs": [],
   "source": [
    "# get power spectrum for daily accumulated precip \n",
    "def power_spectrum_hourly(ds, dx):\n",
    "    histogram= np.zeros((ds.Time.shape[0], ds.shape[1] - 2  )) \n",
    "    for idx, tt in enumerate(ds.Time.values):\n",
    "        dayds= ds.sel(Time = tt)\n",
    "        precip_spectral = fft.dctn(np.array(dayds.data), norm ='ortho')\n",
    "        variance =  get_variances(precip_spectral)\n",
    "        wavelengths, histogram[idx] = get_power_spectrum(variance, dx)\n",
    "    return wavelengths, np.nanmedian(histogram , axis = 0)"
   ]
  },
  {
   "cell_type": "code",
   "execution_count": null,
   "metadata": {},
   "outputs": [],
   "source": [
    "# get power spectrum for daily accumulated precip \n",
    "def power_spectrum_daily(ds, dx):\n",
    "    histogram= np.zeros((ds.day.shape[0], ds.shape[1] - 2  )) \n",
    "    idx= 0 \n",
    "    for dd in np.arange(16,22):\n",
    "        dayds= ds.sel(day = dd)\n",
    "        precip_spectral = fft.dctn(np.array(dayds.data), norm ='ortho')\n",
    "        variance =  get_variances(precip_spectral)\n",
    "        wavelengths, histogram[idx] = get_power_spectrum(variance, dx)\n",
    "        idx +=1 \n",
    "    return wavelengths, np.nanmedian(histogram , axis = 0)"
   ]
  },
  {
   "cell_type": "code",
   "execution_count": null,
   "metadata": {},
   "outputs": [],
   "source": [
    "# get power spectrum for daily accumulated precip \n",
    "def power_spectrum_accumulations(ds, dx):\n",
    "    precip_spectral = fft.dctn(np.array(ds.data), norm = 'ortho') \n",
    "    variance =  get_variances(precip_spectral)\n",
    "    wavelengths, histogram = get_power_spectrum(variance, dx)\n",
    "    return wavelengths, histogram "
   ]
  },
  {
   "cell_type": "code",
   "execution_count": null,
   "metadata": {},
   "outputs": [],
   "source": [
    "def subset_domain(ds, minlon, maxlon, minlat, maxlat, lonname, latname):\n",
    "    \"\"\"\n",
    "    Subsets the domain of an xarray to given extent. \n",
    "    \n",
    "    Args:\n",
    "    ds(xarray.Dataset): xarray dataset which to crop \n",
    "    lonname(str): name of longitude dimension in dataset\n",
    "    latname(str): name of latitude dimension in dataset \n",
    "    \n",
    "    \"\"\"\n",
    "    mask_lon = (ds[lonname] >= minlon) & (ds[lonname] <= maxlon)\n",
    "    mask_lat = (ds[latname] >= minlat) & (ds[latname] <= maxlat)\n",
    "    \n",
    "    cropped_ds = ds.where(mask_lon & mask_lat, drop=True)\n",
    "    \n",
    "    return cropped_ds"
   ]
  },
  {
   "cell_type": "code",
   "execution_count": null,
   "metadata": {},
   "outputs": [],
   "source": [
    "#### total rainfall accumulations #### \n",
    "histograms = dict()\n",
    "wavelengths = dict()\n",
    "minlon, maxlon = 80,105\n",
    "minlat, maxlat = 28,40\n",
    "\n",
    "for key in datasets.keys():\n",
    "    # get precip data in mm/d\n",
    "    pr= xr.open_dataset(datasets[key]).pr * 3600\n",
    "    cropped = subset_domain(pr , minlon, maxlon, minlat, maxlat, 'lon','lat')\n",
    "    try:\n",
    "        ds = cropped.mean('time')\n",
    "    except:\n",
    "        ds = cropped.mean('Time')\n",
    "\n",
    "    # define different grid spacings for different datasets \n",
    "    if 'WRF' in key:\n",
    "        dx = 4 \n",
    "        if '12' in key: \n",
    "            dx  = 12\n",
    "        elif '8' in key:\n",
    "            dx = 8 \n",
    "            \n",
    "    if 'CCLM' in key: \n",
    "        dx = cclm_dx.mean()/1000\n",
    "    if 'ICON' in key:\n",
    "        dx = icon_dx.mean()/1000\n",
    "    if 'RegCM' in key:\n",
    "        dx = regcm_dx.mean()/1000\n",
    "    if 'MPAS' in key:\n",
    "        dx = mpas_dx.mean()/1000\n",
    "    print(dx, key, cropped.shape)\n",
    "    # get power spectrum for all datasets \n",
    "    wavelengths[key] , histograms[key] = power_spectrum_accumulations(ds=ds, dx=dx)"
   ]
  },
  {
   "cell_type": "code",
   "execution_count": null,
   "metadata": {},
   "outputs": [],
   "source": [
    "#### spectra of hourly rain rates #### \n",
    "\n",
    "histograms = dict()\n",
    "wavelengths = dict()\n",
    "\n",
    "minlon, maxlon = 80,100\n",
    "minlat, maxlat = 30,38\n",
    "\n",
    "for key in datasets.keys():\n",
    "    # get precip data in mm/d\n",
    "    ds= xr.open_dataset(datasets[key])\n",
    "    # get rain in mm/hr \n",
    "    pr = ds.pr * 3600\n",
    "    # subset domain to make comparable \n",
    "    pr = subset_domain(pr , minlon, maxlon, minlat, maxlat, 'lon','lat')\n",
    "\n",
    "    # define different grid spacings for different datasets \n",
    "    if '12' in key: \n",
    "        dx  = 12\n",
    "    elif '8' in key:\n",
    "        dx = 8 \n",
    "    elif 'CCLM' in key: \n",
    "        dx = 2\n",
    "    elif 'ICON' or 'MPAS' in key:\n",
    "        dx = 3 \n",
    "    else:\n",
    "        dx = 4\n",
    "    print(pr.shape, dx,key)\n",
    "    # get power spectrum for all datasets \n",
    "    wavelengths[key] , histograms[key] = hourly_power_spectrum(ds=pr, dx=dx)"
   ]
  },
  {
   "cell_type": "code",
   "execution_count": null,
   "metadata": {},
   "outputs": [],
   "source": [
    "icon_dx.mean()"
   ]
  },
  {
   "cell_type": "code",
   "execution_count": null,
   "metadata": {},
   "outputs": [],
   "source": [
    "mpas_dx.mean()"
   ]
  },
  {
   "cell_type": "code",
   "execution_count": null,
   "metadata": {},
   "outputs": [],
   "source": [
    "# get accurate grid spacing \n",
    "from metpy.calc import lat_lon_grid_deltas\n",
    "\n",
    "\n",
    "mpas = xr.open_dataset(datasets['MPAS'])\n",
    "dx, dy = lat_lon_grid_deltas(mpas.lon, mpas.lat)\n",
    "mpas_dx  = np.array(dx[1:] + dy[:,:-1]) / 2 \n",
    "\n",
    "icon= xr.open_dataset(datasets['ICON'])\n",
    "dx, dy = lat_lon_grid_deltas(icon.lon, icon.lat)\n",
    "icon_dx  = np.array(dx[1:] + dy[:,:-1]) / 2 \n",
    "\n",
    "cclm = xr.open_dataset(datasets['CCLM'])\n",
    "dx, dy = lat_lon_grid_deltas(cclm.lon, cclm.lat)\n",
    "cclm_dx  = np.array(dx[1:] + dy[:,:-1]) / 2 \n",
    "\n",
    "regcm = xr.open_dataset(datasets['RegCM'])\n",
    "dx, dy = lat_lon_grid_deltas(regcm.lon, regcm.lat)\n",
    "regcm_dx  = np.array(dx[1:] + dy[:,:-1]) / 2 "
   ]
  },
  {
   "cell_type": "code",
   "execution_count": null,
   "metadata": {},
   "outputs": [],
   "source": [
    "#### daily accumulations #### \n",
    "\n",
    "histograms = dict()\n",
    "wavelengths = dict()\n",
    "\n",
    "minlon, maxlon = 75,100\n",
    "minlat, maxlat = 29,40\n",
    "\n",
    "for key in datasets.keys():\n",
    "    # get precip data in mm/d\n",
    "    ds= xr.open_dataset(datasets[key])\n",
    "    pr = ds.pr * 3600\n",
    "    pr = subset_domain(pr , minlon, maxlon, minlat, maxlat, 'lon','lat')\n",
    "    if ds.time.values[0].dtype =='float64' :\n",
    "        continue\n",
    "    daily_acc_precip = pr.groupby(ds.time.dt.day).mean()\n",
    "    \n",
    "    # define different grid spacings for different datasets \n",
    "    if 'WRF' in key:\n",
    "        dx = 4 \n",
    "        if '12' in key: \n",
    "            dx  = 12\n",
    "        elif '8' in key:\n",
    "            dx = 8 \n",
    "            \n",
    "    if 'CCLM' in key: \n",
    "        dx = cclm_dx.mean()/1000\n",
    "    if 'ICON' in key:\n",
    "        dx = icon_dx.mean()/1000\n",
    "    if 'RegCM' in key:\n",
    "        dx = regcm_dx.mean()/1000\n",
    "    if 'MPAS' in key:\n",
    "        dx = mpas_dx.mean()/1000\n",
    "\n",
    "    print(dx, key, pr.shape)\n",
    "    # get power spectrum for all datasets \n",
    "    wavelengths[key] , histograms[key] = power_spectrum_daily(ds=daily_acc_precip, dx=dx)"
   ]
  },
  {
   "cell_type": "code",
   "execution_count": null,
   "metadata": {},
   "outputs": [],
   "source": [
    "fsize = 22\n",
    "lw = 2.4\n",
    "idx= 0 \n",
    "plt.figure(figsize=(18,8))\n",
    "ax1= plt.subplot(1, 1, 1)\n",
    "\n",
    "colors  = [ 'lightseagreen',  'dodgerblue', 'coral', 'crimson' ,'gold',  'tan', 'magenta', 'black', 'blue']\n",
    "\n",
    "#### subplot to compare different models ####\n",
    "for key in wavelengths.keys():\n",
    "    if 'd03' in key or 'd02' in key or '12' in key:\n",
    "        ax1.plot(wavelengths[key][1:], histograms[key], label = key, lw = lw, color = colors[idx])\n",
    "        ax1.set_ylabel(r'sum of variances $\\sum \\sigma^2$ [mm d$^{-1}$]$^2$', fontsize = fsize )\n",
    "        ax1.set_xlabel('wavelength $\\lambda$ [km]', fontsize = fsize )\n",
    "        ax1.set_xscale('log')\n",
    "        ax1.set_yscale('log')\n",
    "        idx +=1 \n",
    "plt.legend(fontsize= 20, loc = 'lower right')\n",
    "        \n",
    "### ADD TERRAIN \n",
    "lw = 2.0\n",
    "ax2 = ax1.twinx()  # instantiate a second axes that shares the same x-axis\n",
    "ax2.plot(wavelengths_terrain['WRF12km'][1:], histograms_terrain['WRF12km'], label = 'WRF12km terrain', lw = lw, color = 'k',linestyle = '-.')\n",
    "ax2.plot(wavelengths_terrain['WRF4km'][1:], histograms_terrain['WRF4km'], label = 'WRF4km terrain', lw = lw, color = 'k')\n",
    "ax2.set_xscale('log')\n",
    "ax2.set_yscale('log')\n",
    "\n",
    "ax2.set_xlim(0,1000)\n",
    "xticks = [8,10,20,30,40,50,60,70,80,90,100,250,500, 1000]\n",
    "ax2.set_xticks(xticks)\n",
    "ax2.set_ylim(0,10**6)\n",
    "ax2.set_xticklabels(xticks)\n",
    "ax2.xaxis.grid(True)\n",
    "ax2.yaxis.grid(False)\n",
    "ax1.xaxis.grid(True, which ='minor')\n",
    "ax1.yaxis.grid(False)\n",
    "plt.legend(fontsize= 20, loc = 'lower center')\n",
    "\n",
    "plt.savefig('plots/power_spectra_accumulations.png')\n",
    "plt.show()"
   ]
  },
  {
   "cell_type": "code",
   "execution_count": null,
   "metadata": {},
   "outputs": [],
   "source": [
    "fsize = 22\n",
    "lw = 2.4\n",
    "idx= 0 \n",
    "plt.figure(figsize=(18,8))\n",
    "ax1= plt.subplot(1, 1, 1)\n",
    "\n",
    "colors  = [ 'lightseagreen',  'dodgerblue', 'coral', 'crimson' ,'gold',  'tan', 'magenta', 'black', 'blue']\n",
    "\n",
    "#### subplot to compare different models ####\n",
    "for key in wavelengths.keys():\n",
    "    if 'd03' in key or 'd01' in key or 'd02' in key or '12' in key:\n",
    "        ax1.plot(wavelengths[key][1:], histograms[key], label = key, lw = lw, color = colors[idx])\n",
    "        ax1.set_ylabel(r'sum of variances $\\sum \\sigma^2$ [mm d$^{-1}$]$^2$', fontsize = fsize )\n",
    "        ax1.set_xlabel('wavelength $\\lambda$ [km]', fontsize = fsize )\n",
    "        ax1.set_xscale('log')\n",
    "        ax1.set_yscale('log')\n",
    "        idx +=1 \n",
    "plt.legend(fontsize= 20, loc = 'lower right')\n",
    "        \n",
    "### ADD TERRAIN \n",
    "lw = 2.0\n",
    "ax2 = ax1.twinx()  # instantiate a second axes that shares the same x-axis\n",
    "ax2.plot(wavelengths_terrain['WRF12km'][1:], histograms_terrain['WRF12km'], label = 'WRF12km terrain', lw = lw, color = 'k',linestyle = '-.')\n",
    "ax2.plot(wavelengths_terrain['WRF4km'][1:], histograms_terrain['WRF4km'], label = 'WRF4km terrain', lw = lw, color = 'k')\n",
    "ax2.set_xscale('log')\n",
    "ax2.set_yscale('log')\n",
    "\n",
    "ax2.set_xlim(0,750)\n",
    "xticks = [8,10,20,30,40,50,60,70,80,90,100,250,500, 750]\n",
    "ax2.set_xticks(xticks)\n",
    "ax2.set_ylim(0,10**6)\n",
    "ax2.set_xticklabels(xticks)\n",
    "ax2.xaxis.grid(True)\n",
    "ax2.yaxis.grid(False)\n",
    "ax1.xaxis.grid(True, which ='minor')\n",
    "ax1.yaxis.grid(False)\n",
    "plt.legend(fontsize= 20, loc = 'lower center')\n",
    "\n",
    "plt.savefig('plots/power_spectra_accumulations.png')\n",
    "plt.show()"
   ]
  },
  {
   "cell_type": "code",
   "execution_count": null,
   "metadata": {},
   "outputs": [],
   "source": [
    "wavelengths.keys()"
   ]
  },
  {
   "cell_type": "code",
   "execution_count": null,
   "metadata": {},
   "outputs": [],
   "source": [
    "histograms.keys()"
   ]
  },
  {
   "cell_type": "code",
   "execution_count": null,
   "metadata": {},
   "outputs": [],
   "source": [
    "fsize = 22\n",
    "lw = 2.0\n",
    "import seaborn as sns\n",
    "sns.set()\n",
    "plt.figure(figsize=(10,8))\n",
    "ax1= plt.subplot(1, 1, 1)\n",
    "lw=3.0\n",
    "colors =  ['mediumvioletred',  'plum', 'slateblue', 'lightblue', 'lightblue', 'lightseagreen','gray', 'darkslateblue', 'navy']\n",
    "#### subplot to compare different models #### \n",
    "for idx,key in enumerate( ['WRF8km', 'WRF8km_vertical', 'WRF4km_d01', 'WRF4km_d02'] ):\n",
    "    ax1.plot(wavelengths[key][1:], np.nanmedian(histograms[key] , axis =0), label = key, lw = lw, color = colors[idx])\n",
    "    ax1.set_ylabel(r'sum of variances $\\sum \\sigma^2$ [mm d$^{-1}$]$^2$', fontsize = fsize )\n",
    "    ax1.set_xlabel('wavelength $\\lambda$ [km]', fontsize = fsize )\n",
    "    ax1.set_xscale('log')\n",
    "    ax1.set_yscale('log')\n",
    "\n",
    "plt.grid(True, which = 'both', axis = 'x', linestyle= '--')\n",
    "plt.legend(fontsize= 20)\n",
    "plt.savefig('plots/power_spectrum_rainrates_MCS_WRF4-8km.png')\n",
    "plt.show()"
   ]
  },
  {
   "cell_type": "code",
   "execution_count": null,
   "metadata": {},
   "outputs": [],
   "source": [
    "fsize = 22\n",
    "lw = 2.0\n",
    "plt.figure(figsize=(10,8))\n",
    "ax1= plt.subplot(1, 1, 1)\n",
    "\n",
    "colors =  ['darkorange', 'lightcoral', 'plum', 'navajowhite', 'lightblue', 'lightseagreen','gray', 'darkslateblue', 'navy']\n",
    "#### subplot to compare different models #### \n",
    "for idx,key in enumerate( ['WRF8km', 'WRF8km_vertical'] ):\n",
    "    \n",
    "    ax1.plot(wavelengths[key][1:], np.nanmedian(histograms[key] , axis =0), label = key, lw = lw, color = colors[idx])\n",
    "    ax1.set_ylabel(r'sum of variances $\\sum \\sigma^2$ [mm d$^{-1}$]$^2$', fontsize = fsize )\n",
    "    ax1.set_xlabel('wavelength $\\lambda$ [km]', fontsize = fsize )\n",
    "    ax1.set_xscale('log')\n",
    "    ax1.set_yscale('log')\n",
    "\n",
    "plt.grid(True, which = 'both', axis = 'x', linestyle= '--')\n",
    "plt.legend(fontsize= 20)\n",
    "plt.savefig('plots/power_spectrum_rainrates_MCS.png')\n",
    "plt.show()"
   ]
  },
  {
   "cell_type": "code",
   "execution_count": null,
   "metadata": {},
   "outputs": [],
   "source": [
    "#wrf4km_u = xr.open_dataset('/glade/scratch/kukulies/wrf_processed/WRF4km_MCS_L_u500hpa.nc').U_PL\n",
    "#wrf4km_v = xr.open_dataset('/glade/scratch/kukulies/wrf_processed/WRF4km_MCS_L_v500hpa.nc').V_PL"
   ]
  },
  {
   "cell_type": "code",
   "execution_count": null,
   "metadata": {},
   "outputs": [],
   "source": [
    "wrf8km_u = xr.open_dataset('/glade/scratch/kukulies/wrf_processed/WRF8km_ref_u500hpa.nc').U_PL\n",
    "wrf8km_v = xr.open_dataset('/glade/scratch/kukulies/wrf_processed/WRF8km_ref_v500hpa.nc').V_PL\n",
    "wrf8km_vertical_u = xr.open_dataset('/glade/scratch/kukulies/wrf_processed/WRF8km_vertical_u500hpa.nc').U_PL\n",
    "wrf8km_vertical_v = xr.open_dataset('/glade/scratch/kukulies/wrf_processed/WRF8km_vertical_v500hpa.nc').V_PL"
   ]
  },
  {
   "cell_type": "code",
   "execution_count": null,
   "metadata": {},
   "outputs": [],
   "source": [
    "# compute kinetic energy \n",
    "def get_ke(U, V, dx, resample = False):\n",
    "    timedim = U.dims[0]\n",
    "    histograms= np.zeros((V.shape[0], U.shape[1] - 2  )) \n",
    "    # get spectrum \n",
    "    for idx in np.arange(0, U[timedim].size): \n",
    "        u_wind = U[idx]\n",
    "        v_wind = V[idx]\n",
    "        KE = 0.5 * (u_wind**2 + v_wind**2)\n",
    "        variances = get_variances(fft.dctn(np.array(KE.data), norm = 'ortho'))\n",
    "        wavelengths, histograms[idx] = get_power_spectrum(variances, dx)\n",
    "    return wavelengths, np.nanmedian(histograms, axis = 0 )"
   ]
  },
  {
   "cell_type": "code",
   "execution_count": null,
   "metadata": {},
   "outputs": [],
   "source": [
    "wavelength_wrf8km, histogram_wrf8km = get_ke(wrf8km_u , wrf8km_v ,  dx = 8)\n",
    "wavelength_wrf8kmv, histogram_wrf8kmv = get_ke(wrf8km_vertical_u, wrf8km_vertical_v,  dx = 8)"
   ]
  },
  {
   "cell_type": "code",
   "execution_count": null,
   "metadata": {},
   "outputs": [],
   "source": [
    "fsize = 22\n",
    "lw = 2.0\n",
    "plt.figure(figsize=(10,8))\n",
    "ax1= plt.subplot(1, 1, 1)\n",
    "lw=3.0\n",
    "colors =  ['mediumvioletred',  'plum',  'navajowhite', 'lightblue', 'lightseagreen','gray', 'darkslateblue', 'navy']\n",
    "\n",
    "ax1.plot(wavelength_wrf8km[1:], histogram_wrf8km, label = 'WRF8km', lw = lw, color = colors[0])\n",
    "ax1.plot(wavelength_wrf8kmv[1:], histogram_wrf8kmv, label = 'WRF8km_vertical', lw = lw, color = colors[1])\n",
    "ax1.set_ylabel(r'Kinetic energy spectrum @500hpa [m$^2$ s$^{-2}$]', fontsize = fsize )\n",
    "ax1.set_xlabel('wavelength $\\lambda$ [km]', fontsize = fsize )\n",
    "ax1.set_xscale('log')\n",
    "ax1.set_yscale('log')\n",
    "\n",
    "plt.grid(True, which = 'both', axis = 'x', linestyle= '--')\n",
    "plt.legend(fontsize= 20)\n",
    "plt.show()"
   ]
  },
  {
   "cell_type": "code",
   "execution_count": null,
   "metadata": {},
   "outputs": [],
   "source": []
  },
  {
   "cell_type": "code",
   "execution_count": null,
   "metadata": {},
   "outputs": [],
   "source": [
    "fsize = 22\n",
    "lw = 2.0\n",
    "plt.figure(figsize=(18,8))\n",
    "ax1= plt.subplot(1, 1, 1)\n",
    "\n",
    "#### subplot to compare different models #### \n",
    "for idx,key in enumerate(wavelengths.keys()  ): \n",
    "        ax1.plot(wavelengths[key][1:], histograms[key], label = key, lw = lw)\n",
    "        ax1.set_ylabel(r'sum of mean variances $\\sum \\sigma^2$ [mm d$^{-1}$]$^2$', fontsize = fsize )\n",
    "        ax1.set_xlabel('wavelength $\\lambda$ [km]', fontsize = fsize )\n",
    "        ax1.set_xscale('log')\n",
    "        ax1.set_yscale('log')\n",
    "      \n",
    "        \n",
    "plt.grid(True, which = 'both', axis = 'x', linestyle= '--')\n",
    "plt.legend(fontsize= 20)\n",
    "plt.savefig('plots/power_spectra_accumulations_models.png')\n",
    "plt.show()"
   ]
  },
  {
   "cell_type": "markdown",
   "metadata": {},
   "source": [
    "- domains show same shape but different variance levels, due to smoother fields in the larger domain? \n",
    "- nudging and d01 converge for smaller wavelengths but diverge for larger wavelengths -> because large-scale field is smoothed \n",
    "- lowest variance in 12km simulation: smoothest field, effective resolution about 30 km \n",
    "- underestimation of large-scale variances for larger domains -> http://bluebook.meteoinfo.ru/uploads/2006/individual-articles/07_Leduc_Martin_07_Leduc_Martin_Regi_116F85.pdf\n",
    "- or in fact overestimation of large-scale variance, because nudging forces variance at larger scales down "
   ]
  },
  {
   "cell_type": "markdown",
   "metadata": {},
   "source": [
    "### Median power spectra of hourly rain rates "
   ]
  },
  {
   "cell_type": "code",
   "execution_count": null,
   "metadata": {},
   "outputs": [],
   "source": [
    "# get power spectrum for each hourly timestep \n",
    "def hourly_power_spectrum(ds, dx):\n",
    "    if 'time' in ds.dims: \n",
    "        time = ds.time.values\n",
    "    elif 'Time' in ds.dims:\n",
    "        time = ds.Time.values\n",
    "    histogram= np.zeros((time.shape[0], ds.shape[1] - 2  )) \n",
    "    for idx,tt in enumerate(time):\n",
    "        try:\n",
    "            precip_spectral = fft.dctn(np.array(ds.sel(time = tt ).data), norm ='ortho')\n",
    "        except:\n",
    "            precip_spectral = fft.dctn(np.array(ds.sel(Time = tt ).data), norm ='ortho')\n",
    "        \n",
    "        variance =  get_variances(precip_spectral)\n",
    "        wavelengths, histogram[idx] = get_power_spectrum(variance, dx)\n",
    "        \n",
    "    return wavelengths, histogram "
   ]
  },
  {
   "cell_type": "code",
   "execution_count": null,
   "metadata": {},
   "outputs": [],
   "source": [
    "#### hourly rain rates #### \n",
    "histograms = dict()\n",
    "wavelengths = dict()\n",
    "\n",
    "for key in datasets.keys():\n",
    "    # get precip data in mm/hr \n",
    "    pr = xr.open_dataset(datasets[key]).pr * 3600 \n",
    "    ds = subset_domain(pr, minlon, maxlon, minlat, maxlat, 'lon','lat')\n",
    "    # define different grid spacings \n",
    "    if '12' in key: \n",
    "        dx  = 12\n",
    "    elif 'CCLM' in key: \n",
    "        dx = 2.2\n",
    "    elif 'MPAS' or 'ICON' in key:\n",
    "        dx = mpas_dx.mean()/ 1000\n",
    "    else:\n",
    "        dx = 4\n",
    "    # get power spectrum for all datasets \n",
    "    wavelengths[key] , histograms[key] = hourly_power_spectrum(ds=ds, dx=dx)"
   ]
  },
  {
   "cell_type": "code",
   "execution_count": null,
   "metadata": {},
   "outputs": [],
   "source": [
    "import seaborn as sns \n",
    "sns.set()\n",
    "fsize = 22\n",
    "lw = 2.0\n",
    "idx= 0 \n",
    "plt.figure(figsize=(18,8))\n",
    "ax1= plt.subplot(1, 1, 1)\n",
    "ll = 0\n",
    "colors  = ['lightseagreen',  'dodgerblue', 'slateblue', 'coral', 'gold', 'tan', 'crimson', 'black', 'mediumblue', 'gray',  'crimson', 'black', 'mediumblue', 'gray']\n",
    "linestyles = ['-', '--', ':', '-.', '-.', '--']\n",
    "\n",
    "#### subplot to compare different models #### \n",
    "for key in wavelengths.keys():\n",
    "    if 'ICON' in key or 'RegCM' in key or 'MPAS' in key or 'WRF' in key or 'CCLM' in key:\n",
    "        ax1.plot(wavelengths[key][1:], np.nanmedian(histograms[key], axis = 0) , label = key, lw = lw, color = colors[idx])\n",
    "        ax1.set_ylabel(r'sum of mean variances $\\sum \\sigma^2$ [mm d$^{-1}$]$^2$', fontsize = fsize )\n",
    "        ax1.set_xlabel('wavelength $\\lambda$ [km]', fontsize = fsize )\n",
    "        ax1.set_xscale('log')\n",
    "        ax1.set_yscale('log')\n",
    "        ax1.set_title('Median power spectra of hourly rain rates', fontsize= fsize)\n",
    "        idx +=1 \n",
    "\n",
    "plt.legend(fontsize= 20)\n",
    "    \n",
    "### ADD TERRAIN \n",
    "#ax2 = ax1.twinx()  # instantiate a second axes that shares the same x-axis\n",
    "#ax2.plot(wavelengths_terrain['WRF12km'][1:], histograms_terrain['WRF12km'], label = 'WRF12km terrain', lw = lw, color = 'k',linestyle = '--')\n",
    "#ax2.plot(wavelengths_terrain['WRF4km'][1:], histograms_terrain['WRF4km'], label = 'WRF4km terrain', lw = lw, color = 'k')\n",
    "#ax2.set_xscale('log')\n",
    "#ax2.set_yscale('log')\n",
    "#ax2.xaxis.grid(True)\n",
    "#ax2.yaxis.grid(False)\n",
    "#ax1.xaxis.grid(True, which ='minor')\n",
    "#ax1.yaxis.grid(False)\n",
    "    \n",
    "    \n",
    "plt.legend(fontsize= 20)\n",
    "plt.grid(True, which = 'both', axis = 'x', linestyle= '--')\n",
    "plt.savefig('plots/power_spectra_hourly_rain.png', transparent = False, facecolor = 'white', bbox_inches = 'tight')\n",
    "plt.show()"
   ]
  },
  {
   "cell_type": "markdown",
   "metadata": {},
   "source": [
    "# Power spectra of kinetic energy "
   ]
  },
  {
   "cell_type": "code",
   "execution_count": null,
   "metadata": {},
   "outputs": [],
   "source": [
    "#### get KE of ERA5 (takes time and does not need to be repeated since processed data is saved below) ####\n",
    "import datetime\n",
    "era = Path('/gpfs/fs1/collections/rda/data/ds633.0/e5.oper.an.pl/200807/')\n",
    "u_files = list(era.glob('*_u.*nc'))\n",
    "u_files.sort()\n",
    "u_files = u_files[13:25]\n",
    "v_files = list(era.glob('*_v.*nc'))\n",
    "v_files.sort()\n",
    "v_files = v_files[13:25]\n",
    "lev = 200 \n",
    "# get all days for simulation period at 500 hpa \n",
    "uwind = xr.open_dataset(u_files[0]).sel(level = 200)\n",
    "vwind = xr.open_dataset(v_files[0]).sel(level = 200)\n",
    "for idx in np.arange(len(u_files) - 1):\n",
    "    ds = xr.open_dataset(u_files[idx + 1 ]).sel(level = 200)\n",
    "    uwind = xr.concat([uwind, ds], dim = 'time')\n",
    "    ds2= xr.open_dataset(v_files[idx + 1 ]).sel(level = 200)\n",
    "    vwind = xr.concat([vwind, ds2], dim = 'time')\n",
    "    \n",
    "# subset to TP domain\n",
    "uwind.to_netcdf('uwind_ERA5_200hpa.nc')\n",
    "vwind.to_netcdf('vwind_ERA5_200hpa.nc')"
   ]
  },
  {
   "cell_type": "code",
   "execution_count": null,
   "metadata": {},
   "outputs": [],
   "source": [
    "import xarray as xr "
   ]
  },
  {
   "cell_type": "code",
   "execution_count": null,
   "metadata": {},
   "outputs": [],
   "source": [
    "# subset to TP domain\n",
    "\n",
    "minlon , maxlon = 75,115\n",
    "minlat, maxlat = 25,40 \n",
    "\n",
    "vwind = xr.open_dataset('vwind_ERA5.nc')\n",
    "uwind = xr.open_dataset('uwind_ERA5.nc')\n",
    "vwind = subset_domain(vwind, minlon, maxlon, minlat, maxlat, 'longitude', 'latitude')\n",
    "uwind = subset_domain(uwind, minlon, maxlon, minlat, maxlat, 'longitude', 'latitude')\n",
    "\n",
    "\n",
    "vwind200 = xr.open_dataset('vwind_ERA5_200hpa.nc')\n",
    "uwind200 = xr.open_dataset('uwind_ERA5_200hpa.nc')\n",
    "vwind200= subset_domain(vwind200, minlon, maxlon, minlat, maxlat, 'longitude', 'latitude')\n",
    "uwind200 = subset_domain(uwind200, minlon, maxlon, minlat, maxlat, 'longitude', 'latitude')"
   ]
  },
  {
   "cell_type": "code",
   "execution_count": null,
   "metadata": {},
   "outputs": [],
   "source": [
    "### WRF D02 ### \n",
    "wrf_dir = Path('/glade/campaign/mmm/c3we/prein/CPTP/data/')\n",
    "wrf_files = list(wrf_dir.rglob('4km_MCS_L/wrfout/*PL*nc'))\n",
    "wrf_files.sort()\n",
    "wrfd02_u = xr.open_dataset(wrf_files[0]).U_PL.sel(num_press_levels_stag = 4)\n",
    "wrfd02_v = xr.open_dataset(wrf_files[0]).V_PL.sel(num_press_levels_stag = 4)\n",
    "for fname in wrf_files:\n",
    "    ds = xr.open_dataset(fname).sel(num_press_levels_stag = 4)\n",
    "    wrfd02_u = xr.concat([wrfd02_u, ds.U_PL ], dim = 'Time')\n",
    "    wrfd02_v = xr.concat([wrfd02_v, ds.V_PL ], dim = 'Time')"
   ]
  },
  {
   "cell_type": "code",
   "execution_count": null,
   "metadata": {},
   "outputs": [],
   "source": [
    "# WRF convective param\n",
    "wrf_cum = xr.open_dataset('/glade/scratch/kukulies/wrf_processed/MCS_WRF4km_MSKF.nc')\n",
    "wrf_cumu= wrf_cum.U_PL.squeeze()\n",
    "wrf_cumv = wrf_cum.V_PL.squeeze()\n",
    "\n",
    "wrf_noah = xr.open_dataset('/glade/scratch/kukulies/wrf_processed/MCS_WRF4km_Noah.nc')\n",
    "wrf_noahu= wrf_noah.U_PL.squeeze()\n",
    "wrf_noahv = wrf_noah.V_PL.squeeze()\n",
    "\n",
    "ds = xr.open_dataset('/glade/campaign/mmm/c3we/prein/CPTP/data/4km_MCS/postprocessed/pr_CPTP-MCS-4_ECMWF-ERA5_evaluation_r1i1p1_NCAR-WRF421P_v1_hour_20080714-20080724.nc')\n",
    "wrfd02_lats = ds.lat\n",
    "wrfd02_lons = ds.lon\n",
    "\n",
    "\n",
    "wrf_cumu= wrf_cumu.where( (wrfd02_lats > minlat) &  (wrfd02_lats< maxlat) &  (wrfd02_lons > minlon) & (wrfd02_lons < maxlon), drop = True)\n",
    "wrf_cumv= wrf_cumv.where( (wrfd02_lats > minlat) &  (wrfd02_lats< maxlat) &  (wrfd02_lons > minlon) & (wrfd02_lons < maxlon), drop = True)\n",
    "\n",
    "wrf_noahu= wrf_noahu.where( (wrfd02_lats > minlat) &  (wrfd02_lats< maxlat) &  (wrfd02_lons > minlon) & (wrfd02_lons < maxlon), drop = True)\n",
    "wrf_noahv= wrf_noahv.where( (wrfd02_lats > minlat) &  (wrfd02_lats< maxlat) &  (wrfd02_lons > minlon) & (wrfd02_lons < maxlon), drop = True)\n",
    "\n",
    "wavelength_wrfd01, histogram_wrfcum = get_ke(wrf_cumu, wrf_cumv, dx = 4, resample = True)\n",
    "wavelength_wrfd01, histogram_wrfnoah = get_ke(wrf_noahu, wrf_noahv, dx = 4, resample = True)"
   ]
  },
  {
   "cell_type": "code",
   "execution_count": null,
   "metadata": {},
   "outputs": [],
   "source": [
    "### WRF D02 ### \n",
    "wrf_dir = Path('/glade/campaign/mmm/c3we/prein/CPTP/data/')\n",
    "wrf_files = list(wrf_dir.rglob('4km_MCS_L/wrfout/*PL*nc'))\n",
    "wrf_files.sort()\n",
    "wrfd02_u200 = xr.open_dataset(wrf_files[0]).U_PL.sel(num_press_levels_stag = 5)\n",
    "wrfd02_v200 = xr.open_dataset(wrf_files[0]).V_PL.sel(num_press_levels_stag = 5)\n",
    "for fname in wrf_files:\n",
    "    ds = xr.open_dataset(fname).sel(num_press_levels_stag = 5)\n",
    "    wrfd02_u200 = xr.concat([wrfd02_u200, ds.U_PL ], dim = 'Time')\n",
    "    wrfd02_v200 = xr.concat([wrfd02_v200, ds.V_PL ], dim = 'Time')"
   ]
  },
  {
   "cell_type": "code",
   "execution_count": null,
   "metadata": {},
   "outputs": [],
   "source": [
    "### CCLM ###\n",
    "cclm_dir = Path('/glade/scratch/kukulies/CCLM/')\n",
    "dscclm = xr.open_dataset(cclm_dir / 'uv_500hPa_CPTP-MCS-2.2_ECMWF-ERA5_evaluation_r1i1p1_UIBK-CCLM5.0n1P_v1_3h_20080714-20080724_cropped.nc')\n",
    "cclm_u = dscclm.U\n",
    "cclm_v = dscclm.V\n",
    "\n",
    "dscclm = xr.open_dataset(cclm_dir / 'uv_500hPa_CPTP-MCS-12_ECMWF-ERA5_evaluation_r1i1p1_UIBK-CCLM5.0n1P_v1_3h_20080714-20080724_cropped.nc')\n",
    "cclm_u12 = dscclm.U\n",
    "cclm_v12 = dscclm.V\n",
    "\n",
    "\n",
    "dscclm = xr.open_dataset(cclm_dir / 'uv_200hPa_CPTP-MCS-2.2_ECMWF-ERA5_evaluation_r1i1p1_UIBK-CCLM5.0n1P_v1_3h_20080714-20080724_cropped.nc')\n",
    "cclm_u200 = dscclm.U\n",
    "cclm_v200 = dscclm.V\n",
    "\n",
    "dscclm = xr.open_dataset(cclm_dir / 'uv_200hPa_CPTP-MCS-12_ECMWF-ERA5_evaluation_r1i1p1_UIBK-CCLM5.0n1P_v1_3h_20080714-20080724_cropped.nc')\n",
    "cclm_u200_12 = dscclm.U\n",
    "cclm_v200_12= dscclm.V"
   ]
  },
  {
   "cell_type": "code",
   "execution_count": null,
   "metadata": {},
   "outputs": [],
   "source": [
    "def lat_lon_grid_deltas(longitude, latitude, x_dim=-1, y_dim=-2, geod=None):\n",
    "    r\"\"\"Calculate the actual delta between grid points that are in latitude/longitude format.\n",
    "    Parameters\n",
    "    ----------\n",
    "    longitude : array_like\n",
    "        Array of longitudes defining the grid. If not a `pint.Quantity`, assumed to be in\n",
    "        degrees.\n",
    "    latitude : array_like\n",
    "        Array of latitudes defining the grid. If not a `pint.Quantity`, assumed to be in\n",
    "        degrees.\n",
    "    x_dim: int\n",
    "        axis number for the x dimension, defaults to -1.\n",
    "    y_dim : int\n",
    "        axis number for the y dimension, defaults to -2.\n",
    "    geod : `pyproj.Geod` or ``None``\n",
    "        PyProj Geod to use for forward azimuth and distance calculations. If ``None``, use a\n",
    "        default spherical ellipsoid.\n",
    "    Returns\n",
    "    -------\n",
    "    dx, dy:\n",
    "        At least two dimensional arrays of signed deltas between grid points in the x and y\n",
    "        direction\n",
    "    Notes\n",
    "    -----\n",
    "    Accepts 1D, 2D, or higher arrays for latitude and longitude\n",
    "    Assumes [..., Y, X] dimension order for input and output, unless keyword arguments `y_dim`\n",
    "    and `x_dim` are otherwise specified.\n",
    "    This function will only return `pint.Quantity` arrays (not `xarray.DataArray` or another\n",
    "    array-like type). It will also \"densify\" your data if using Dask or lazy-loading.\n",
    "    .. versionchanged:: 1.0\n",
    "       Changed signature from ``(longitude, latitude, **kwargs)``\n",
    "    \"\"\"\n",
    "    # Inputs must be the same number of dimensions\n",
    "    if latitude.ndim != longitude.ndim:\n",
    "        raise ValueError('Latitude and longitude must have the same number of dimensions.')\n",
    "\n",
    "    # If we were given 1D arrays, make a mesh grid\n",
    "    if latitude.ndim < 2:\n",
    "        longitude, latitude = np.meshgrid(longitude, latitude)\n",
    "\n",
    "    # pyproj requires ndarrays, not Quantities\n",
    "    try:\n",
    "        longitude = np.asarray(longitude.m_as('degrees'))\n",
    "        latitude = np.asarray(latitude.m_as('degrees'))\n",
    "    except AttributeError:\n",
    "        longitude = np.asarray(longitude)\n",
    "        latitude = np.asarray(latitude)\n",
    "\n",
    "    # Determine dimension order for offset slicing\n",
    "    take_y = make_take(latitude.ndim, y_dim)\n",
    "    take_x = make_take(latitude.ndim, x_dim)\n",
    "\n",
    "    g = Geod(ellps='sphere') if geod is None else geod\n",
    "    forward_az, _, dy = g.inv(longitude[take_y(slice(None, -1))],\n",
    "                              latitude[take_y(slice(None, -1))],\n",
    "                              longitude[take_y(slice(1, None))],\n",
    "                              latitude[take_y(slice(1, None))])\n",
    "    dy[(forward_az < -90.) | (forward_az > 90.)] *= -1\n",
    "\n",
    "    forward_az, _, dx = g.inv(longitude[take_x(slice(None, -1))],\n",
    "                              latitude[take_x(slice(None, -1))],\n",
    "                              longitude[take_x(slice(1, None))],\n",
    "                              latitude[take_x(slice(1, None))])\n",
    "    dx[(forward_az < 0.) | (forward_az > 180.)] *= -1\n",
    "\n",
    "    return dx, dy"
   ]
  },
  {
   "cell_type": "code",
   "execution_count": null,
   "metadata": {},
   "outputs": [],
   "source": [
    "\n",
    "def make_take(ndims, slice_dim):\n",
    "    \"\"\"Generate a take function to index in a particular dimension.\"\"\"\n",
    "    def take(indexer):\n",
    "        return tuple(indexer if slice_dim % ndims == i else slice(None)  # noqa: S001\n",
    "                     for i in range(ndims))\n",
    "    return take\n",
    "\n",
    "from pyproj import Geod"
   ]
  },
  {
   "cell_type": "code",
   "execution_count": null,
   "metadata": {},
   "outputs": [],
   "source": [
    "latlon = xr.open_dataset('/glade/campaign/mmm/c3we/prein/CPTP/data/CASES_Ensemble/MCS/pr_CPTP-MCS-2_ECMWF-ERA5_evaluation_r1i1p1_UIBK-CCLM50n1P_v1_hour_20080714-20080724.nc')\n",
    "\n",
    "cclm_lats = latlon.lat\n",
    "cclm_lons = latlon.lon\n",
    "#from metpy.calc import lat_lon_grid_deltas\n",
    "dx, dy = lat_lon_grid_deltas(cclm_lons, cclm_lats, geod = None)"
   ]
  },
  {
   "cell_type": "code",
   "execution_count": null,
   "metadata": {},
   "outputs": [],
   "source": [
    "### MPAS 500 hpa ### \n",
    "mpas_dir = Path('/glade/scratch/kukulies/MPAS/')\n",
    "mpas_u = xr.open_dataset(mpas_dir / 'ua500_CPTP-MCS-4_ECMWF-ERA5_evaluation_r1i1p1_PNNL-MPASLA7.0P_v1_3hour_20080714-20080724.nc').ua500\n",
    "mpas_v = xr.open_dataset(mpas_dir / 'va500_CPTP-MCS-4_ECMWF-ERA5_evaluation_r1i1p1_PNNL-MPASLA7.0P_v1_3hour_20080714-20080724.nc').va500"
   ]
  },
  {
   "cell_type": "code",
   "execution_count": null,
   "metadata": {},
   "outputs": [],
   "source": [
    "### MPAS 200 hpa### \n",
    "mpas_dir = Path('/glade/scratch/kukulies/MPAS/')\n",
    "mpas_u200 = xr.open_dataset(mpas_dir / 'ua200_CPTP-MCS-4_ECMWF-ERA5_evaluation_r1i1p1_PNNL-MPASLA7.0P_v1_3hour_20080714-20080724.nc').ua200\n",
    "mpas_v200 = xr.open_dataset(mpas_dir / 'va200_CPTP-MCS-4_ECMWF-ERA5_evaluation_r1i1p1_PNNL-MPASLA7.0P_v1_3hour_20080714-20080724.nc').va200"
   ]
  },
  {
   "cell_type": "code",
   "execution_count": null,
   "metadata": {},
   "outputs": [],
   "source": [
    "### ICON ### \n",
    "icon_dir = Path('/glade/scratch/kukulies/ICON/')\n",
    "icon_u = xr.open_dataset(icon_dir / 'ua500_CPTP-MCS-3_ECMWF-ERA5_evaluation_r1i1p1_IAP-CAS-ICON2.6.1P_v1_hour_20080714-20080724.nc')\n",
    "icon_v = xr.open_dataset(icon_dir / 'va500_CPTP-MCS-3_ECMWF-ERA5_evaluation_r1i1p1_IAP-CAS-ICON2.6.1P_v1_hour_20080714-20080724.nc')\n",
    "icon_u200 = xr.open_dataset(icon_dir / 'ua200_CPTP-MCS-3_ECMWF-ERA5_evaluation_r1i1p1_IAP-CAS-ICON2.6.1P_v1_hour_20080714-20080724.nc')\n",
    "icon_v200 = xr.open_dataset(icon_dir / 'va200_CPTP-MCS-3_ECMWF-ERA5_evaluation_r1i1p1_IAP-CAS-ICON2.6.1P_v1_hour_20080714-20080724.nc')"
   ]
  },
  {
   "cell_type": "code",
   "execution_count": null,
   "metadata": {},
   "outputs": [],
   "source": [
    "### ICON GUF ### \n",
    "icon_dir = Path('/glade/campaign/mmm/c3we/prein/CPTP/data/CASES_Ensemble/MCS/')\n",
    "icon_guf_u = xr.open_dataset(icon_dir / 'ua500_CPTP-MCS-4_ECMWF-ERA5_evaluation_r1i1p1_GUF-ICON2.6.3_v1_hour_20080714-20080724.nc')\n",
    "icon_guf_v = xr.open_dataset(icon_dir / 'va500_CPTP-MCS-4_ECMWF-ERA5_evaluation_r1i1p1_GUF-ICON2.6.3_v1_hour_20080714-20080724.nc')\n",
    "\n",
    "icon_guf_u200 = xr.open_dataset(icon_dir / 'ua200_CPTP-MCS-4_ECMWF-ERA5_evaluation_r1i1p1_GUF-ICON2.6.3_v1_hour_20080714-20080724.nc')\n",
    "icon_guf_v200 = xr.open_dataset(icon_dir / 'va200_CPTP-MCS-4_ECMWF-ERA5_evaluation_r1i1p1_GUF-ICON2.6.3_v1_hour_20080714-20080724.nc')\n",
    "\n",
    "icon_guf_u = icon_guf_u.where( (icon_guf_u.lat > minlat) &  (icon_guf_u.lat < maxlat) &  (icon_guf_u.lon > minlon) & (icon_guf_u.lon < maxlon), drop = True)\n",
    "icon_guf_v = icon_guf_v.where( (icon_guf_v.lat > minlat) &  (icon_guf_v.lat < maxlat) &  (icon_guf_v.lon > minlon) & (icon_guf_v.lon < maxlon), drop = True)\n",
    "\n",
    "\n",
    "icon_guf_u200 = icon_guf_u200.where( (icon_guf_u.lat > minlat) &  (icon_guf_u.lat < maxlat) &  (icon_guf_u.lon > minlon) & (icon_guf_u.lon < maxlon), drop = True)\n",
    "icon_guf_v200 = icon_guf_v200.where( (icon_guf_v.lat > minlat) &  (icon_guf_v.lat < maxlat) &  (icon_guf_v.lon > minlon) & (icon_guf_v.lon < maxlon), drop = True)"
   ]
  },
  {
   "cell_type": "code",
   "execution_count": null,
   "metadata": {},
   "outputs": [],
   "source": [
    "### RegCM 200 hpa ### \n",
    "regcm_dir = Path('/glade/scratch/kukulies/RegCM')\n",
    "ds = xr.open_dataset(regcm_dir / 'ua200_CPTP-MCS-4_ECMWF-ERA5_evaluation_r1i1p1_IITM-RegCM480_v1_hour_20080714-20080724_subset2.nc')\n",
    "regcm_u200 = ds.ua200\n",
    "regcm_lats = ds.lat\n",
    "regcm_lons = ds.lon\n",
    "regcm_v200 = xr.open_dataset(regcm_dir / 'va200_CPTP-MCS-4_ECMWF-ERA5_evaluation_r1i1p1_IITM-RegCM480_v1_hour_20080714-20080724_subset2.nc').va200"
   ]
  },
  {
   "cell_type": "code",
   "execution_count": null,
   "metadata": {},
   "outputs": [],
   "source": [
    "### RegCM 500 hpa ### \n",
    "regcm_dir = Path('/glade/scratch/kukulies/RegCM')\n",
    "ds = xr.open_dataset(regcm_dir / 'ua500_CPTP-MCS-4_ECMWF-ERA5_evaluation_r1i1p1_IITM-RegCM480_v1_hour_20080714-20080724_subset2.nc')\n",
    "regcm_u = ds.ua500\n",
    "regcm_lats = ds.lat\n",
    "regcm_lons = ds.lon\n",
    "regcm_v = xr.open_dataset(regcm_dir / 'va500_CPTP-MCS-4_ECMWF-ERA5_evaluation_r1i1p1_IITM-RegCM480_v1_hour_20080714-20080724_subset2.nc').va500"
   ]
  },
  {
   "cell_type": "code",
   "execution_count": null,
   "metadata": {},
   "outputs": [],
   "source": [
    "### WRF 12km 200 hpa###\n",
    "wrf_dir = Path('/glade/campaign/mmm/c3we/prein/CPTP/data/12km_casestudy-simulations/')\n",
    "wrf_files = list(wrf_dir.rglob('wrfout/*PL*2008-07*nc'))\n",
    "wrf_files.sort()\n",
    "wrf_files = wrf_files[13:25]\n",
    "wrf12km_u200 = xr.open_dataset(wrf_files[0]).U_PL.sel(num_press_levels_stag = 5)\n",
    "wrf12km_v200 = xr.open_dataset(wrf_files[0]).V_PL.sel(num_press_levels_stag = 5)\n",
    "for fname in wrf_files:\n",
    "    ds = xr.open_dataset(fname).sel(num_press_levels_stag = 5)\n",
    "    wrf12km_u200= xr.concat([wrf12km_u200, ds.U_PL ], dim = 'Time')\n",
    "    wrf12km_v200 = xr.concat([wrf12km_v200, ds.V_PL ], dim = 'Time')"
   ]
  },
  {
   "cell_type": "code",
   "execution_count": null,
   "metadata": {},
   "outputs": [],
   "source": [
    "### WRF 12km 500 hpa###\n",
    "wrf_files = list(wrf_dir.rglob('wrfout/*PL*2008-07*nc'))\n",
    "wrf_files.sort()\n",
    "wrf_files = wrf_files[13:25]\n",
    "wrf12km_u = xr.open_dataset(wrf_files[0]).U_PL.sel(num_press_levels_stag = 4)\n",
    "wrf12km_v = xr.open_dataset(wrf_files[0]).V_PL.sel(num_press_levels_stag = 4)\n",
    "for fname in wrf_files:\n",
    "    ds = xr.open_dataset(fname).sel(num_press_levels_stag = 4)\n",
    "    wrf12km_u= xr.concat([wrf12km_u, ds.U_PL ], dim = 'Time')\n",
    "    wrf12km_v = xr.concat([wrf12km_v, ds.V_PL ], dim = 'Time')"
   ]
  },
  {
   "cell_type": "code",
   "execution_count": null,
   "metadata": {},
   "outputs": [],
   "source": [
    "### bring all datasets to same domain to make them comparable ; get coordinates from different file #### \n",
    "\n",
    "mpas_u = mpas_u.where( (mpas_u.lat > minlat) &  (mpas_u.lat < maxlat) &  (mpas_u.lon > minlon) & (mpas_u.lon < maxlon), drop = True)\n",
    "mpas_v = mpas_v.where( (mpas_v.lat > minlat) &  (mpas_v.lat < maxlat) &  (mpas_v.lon > minlon) & (mpas_v.lon < maxlon), drop = True)\n",
    "\n",
    "icon_u = icon_u.where( (icon_u.lat > minlat) &  (icon_u.lat < maxlat) &  (icon_u.lon > minlon) & (icon_u.lon < maxlon), drop = True)\n",
    "icon_v = icon_v.where( (icon_v.lat > minlat) &  (icon_v.lat < maxlat) &  (icon_v.lon > minlon) & (icon_v.lon < maxlon), drop = True)\n",
    "\n",
    "ds = xr.open_dataset('/glade/campaign/mmm/c3we/prein/CPTP/data/4km_MCS_L/postprocessed/pr_CPTP-MCS-4_ECMWF-ERA5_evaluation_r1i2p1_NCAR-WRF421P_v1_hour_20080714-20080724.nc')\n",
    "wrfd02_lats = ds.lat\n",
    "wrfd02_lons = ds.lon\n",
    "wrfd02_u= wrfd02_u.where( (wrfd02_lats > minlat) &  (wrfd02_lats< maxlat) &  (wrfd02_lons > minlon) & (wrfd02_lons < maxlon), drop = True)\n",
    "wrfd02_v= wrfd02_v.where( (wrfd02_lats > minlat) &  (wrfd02_lats< maxlat) &  (wrfd02_lons > minlon) & (wrfd02_lons < maxlon), drop = True)\n",
    "\n",
    "ds = xr.open_dataset('/glade/scratch/kukulies/wrf_processed/prC_CPTP-MCS-12_ECMWF-ERA5_evaluation_r1i1p1_NCAR-WRF421P_v1_hour_20080714-20080724.nc')\n",
    "wrf12km_lats = ds.lat\n",
    "wrf12km_lons = ds.lon\n",
    "wrf12km_u= wrf12km_u.where( (wrf12km_lats > minlat) &  (wrf12km_lats< maxlat) &  (wrf12km_lons > minlon) & (wrf12km_lons < maxlon), drop = True)\n",
    "wrf12km_v= wrf12km_v.where( (wrf12km_lats > minlat) &  (wrf12km_lats< maxlat) &  (wrf12km_lons > minlon) & (wrf12km_lons < maxlon), drop = True)\n",
    "            "
   ]
  },
  {
   "cell_type": "code",
   "execution_count": null,
   "metadata": {},
   "outputs": [],
   "source": [
    "# same for 200 hpa \n",
    "mpas_u200 = mpas_u200.where( (mpas_u.lat > minlat) &  (mpas_u.lat < maxlat) &  (mpas_u.lon > minlon) & (mpas_u.lon < maxlon), drop = True)\n",
    "mpas_v200 = mpas_v200.where( (mpas_v.lat > minlat) &  (mpas_v.lat < maxlat) &  (mpas_v.lon > minlon) & (mpas_v.lon < maxlon), drop = True)\n",
    "\n",
    "\n",
    "icon_u200 = icon_u200.where( (icon_u.lat > minlat) &  (icon_u.lat < maxlat) &  (icon_u.lon > minlon) & (icon_u.lon < maxlon), drop = True)\n",
    "icon_v200 = icon_v200.where( (icon_v.lat > minlat) &  (icon_v.lat < maxlat) &  (icon_v.lon > minlon) & (icon_v.lon < maxlon), drop = True)\n",
    "\n",
    "\n",
    "wrfd02_u200= wrfd02_u200.where( (wrfd02_lats > minlat) &  (wrfd02_lats< maxlat) &  (wrfd02_lons > minlon) & (wrfd02_lons < maxlon), drop = True)\n",
    "wrfd02_v200= wrfd02_v200.where( (wrfd02_lats > minlat) &  (wrfd02_lats< maxlat) &  (wrfd02_lons > minlon) & (wrfd02_lons < maxlon), drop = True)\n",
    "\n",
    "wrf12km_u200= wrf12km_u200.where( (wrf12km_lats > minlat) &  (wrf12km_lats< maxlat) &  (wrf12km_lons > minlon) & (wrf12km_lons < maxlon), drop = True)\n",
    "wrf12km_v200= wrf12km_v200.where( (wrf12km_lats > minlat) &  (wrf12km_lats< maxlat) &  (wrf12km_lons > minlon) & (wrf12km_lons < maxlon), drop = True)\n",
    "            "
   ]
  },
  {
   "cell_type": "code",
   "execution_count": null,
   "metadata": {},
   "outputs": [],
   "source": [
    "# calculate accurate grid spacing \n",
    "#import metpy\n",
    "#from metpy.calc import lat_lon_grid_deltas\n",
    "dx, dy = lat_lon_grid_deltas(mpas_u.lon, mpas_v.lat)\n",
    "mpas_dx  = np.array(dx[1:] + dy[:,:-1]) / 2 \n",
    "\n",
    "dx, dy = lat_lon_grid_deltas(icon_u.lon, icon_v.lat)\n",
    "icon_dx  = np.array(dx[1:] + dy[:,:-1]) / 2 \n",
    "\n",
    "dx, dy = lat_lon_grid_deltas(icon_guf_u.lon, icon_guf_v.lat)\n",
    "icon_guf_dx  = np.array(dx[1:] + dy[:,:-1]) / 2 \n",
    "\n",
    "dx, dy = lat_lon_grid_deltas(regcm_u.lon, regcm_v.lat)\n",
    "regcm_dx  = np.array(dx[1:] + dy[:,:-1]) / 2 \n",
    "\n",
    "dx, dy = lat_lon_grid_deltas(uwind.longitude, vwind.latitude)\n",
    "era_dx  = np.array(dx[1:] + dy[:,:-1]) / 2 \n",
    "\n",
    "lon, lat = np.meshgrid(uwind.longitude, np.flip(vwind.latitude, axis = 0))\n",
    "dx, dy = lat_lon_grid_deltas(lon, lat)\n",
    "era_dx  = np.array(dx[1:] + dy[:,:-1]) / 2 \n",
    "\n",
    "dx, dy = lat_lon_grid_deltas(dscclm.U.slonu.values, dscclm.U.slatu.values)\n",
    "cclm_dx  = np.array(dx[1:] + dy[:,:-1]) / 2\n"
   ]
  },
  {
   "cell_type": "code",
   "execution_count": null,
   "metadata": {},
   "outputs": [],
   "source": [
    "def get_power_spectrum(variance, dx):\n",
    "    \"\"\"\n",
    "    This function creates a power spectrum for a given field\n",
    "    of spectral variances.\n",
    "\n",
    "    Args:\n",
    "        variance(np.array): 2D field of sigma squared (variances of spectral coefficients)\n",
    "        dx(float): grid spacing in m or km\n",
    "    Returns:\n",
    "        wavelengths(np.array): 1D array with wavelengths (same unit as dx)\n",
    "        histogram(np.array): binned variances corresponding to wavelengths\n",
    "\n",
    "    \"\"\"\n",
    "    Ni = variance.shape[0]\n",
    "    Nj = variance.shape[1]\n",
    "    m, n = np.meshgrid(np.arange(Ni), np.arange(Nj), indexing = 'ij')\n",
    "\n",
    "    # to ensure that the number of wavenumber bands is not larger than any axis of the domain\n",
    "    mindim = min(Ni, Nj)\n",
    "    # array with wavenumber bands\n",
    "    k = np.arange(1, mindim)\n",
    "    # normalized k for each element in k space, alpha max should be square root of 2! \n",
    "    alpha = np.sqrt(m ** 2 / Ni ** 2 + n ** 2 / Nj ** 2)\n",
    "    # limits of contributing bands\n",
    "    lowerbound = k / mindim\n",
    "    upperbound = (k+1)/ mindim\n",
    "    \n",
    "    # binning \n",
    "    histogram, bins = np.histogram(alpha.flatten(), bins=upperbound, weights = variance.flatten(), density = False) \n",
    "    alpha_mean = np.nanmean([lowerbound, upperbound], axis = 0 )\n",
    "    wavelengths = 2 * dx / alpha_mean\n",
    "\n",
    "    return wavelengths, histogram"
   ]
  },
  {
   "cell_type": "code",
   "execution_count": null,
   "metadata": {},
   "outputs": [],
   "source": [
    "# compute kinetic energy \n",
    "def get_ke_spectrum(U, V, dx, resample = False):\n",
    "    timedim = U.dims[0]\n",
    "    if resample is True:\n",
    "        if timedim == 'time' and U.time.values[0] != 0:\n",
    "            U = U.resample(time = '3H').mean()\n",
    "            V = V.resample(time = '3H').mean()\n",
    "    histograms= np.zeros((V.shape[0], U.shape[1] - 2  )) \n",
    "    \n",
    "    # get spectrum \n",
    "    for idx in np.arange(10, U[timedim].size): \n",
    "        tt = U[timedim].values[idx]\n",
    "        if timedim == 'time':\n",
    "            u_wind = U.sel(time = tt)\n",
    "            v_wind = V.sel(time = tt)\n",
    "        elif timedim == 'Time':\n",
    "            u_wind = U.sel(Time = tt)\n",
    "            v_wind = V.sel(Time = tt)\n",
    "        KE = 0.5 * (u_wind**2 + v_wind**2)\n",
    "        variances = get_variances(fft.dctn(np.array(KE.data), norm = 'ortho'))\n",
    "        wavelengths, histograms[idx] = get_power_spectrum(variances, dx)\n",
    "    return wavelengths, np.nanmedian(histograms, axis = 0 )"
   ]
  },
  {
   "cell_type": "code",
   "execution_count": null,
   "metadata": {},
   "outputs": [],
   "source": [
    "# compute kinetic energy \n",
    "def get_ke(U, V, dx, resample = False):\n",
    "    timedim = U.dims[0]\n",
    "    histograms= np.zeros((V.shape[0], U.shape[1] - 2  )) \n",
    "    # get spectrum \n",
    "    for idx in np.arange(10, U[timedim].size): \n",
    "        u_wind = U[idx]\n",
    "        v_wind = V[idx]\n",
    "        KE = 0.5 * (u_wind**2 + v_wind**2)\n",
    "        variances = get_variances(fft.dctn(np.array(KE.data), norm = 'ortho'))\n",
    "        wavelengths, histograms[idx] = get_power_spectrum(variances, dx)\n",
    "    return wavelengths, np.nanmedian(histograms, axis = 0 )"
   ]
  },
  {
   "cell_type": "code",
   "execution_count": null,
   "metadata": {},
   "outputs": [],
   "source": [
    "# get spectra\n",
    "wavelength_wrfd02, histogram_wrfd02 = get_ke_spectrum(wrfd02_u, wrfd02_v, dx = 4, resample = True)\n",
    "wavelength_wrfd02, histogram_wrfd02 = get_ke_spectrum(wrfd02_u, wrfd02_v, dx = 4, resample = True)\n",
    "wavelength_wrf12km, histogram_wrf12km = get_ke_spectrum(wrf12km_u, wrf12km_v, dx = 12, resample = True) \n",
    "wavelength_regcm, histogram_regcm = get_ke_spectrum(regcm_u[:, 1:, :-1], regcm_v[:, 1:, :-1], dx = 4, resample = True)\n",
    "\n",
    "wavelength_era, histogram_era = get_ke_spectrum(uwind.U[:, 1:, :-1], vwind.V[:, 1:, :-1], dx = era_dx.mean()/ 1000, resample = True)\n",
    "wavelength_icon, histogram_icon = get_ke_spectrum(icon_u.u.squeeze()[:, 1:, :-1], icon_v.v.squeeze()[:, 1:, :-1], dx = icon_dx.mean()/ 1000)\n",
    "wavelength_guf_icon, histogram_guf_icon = get_ke_spectrum(icon_guf_u.ua500.squeeze()[:, 1:, :-1], icon_guf_v.va500.squeeze()[:, 1:, :-1], dx = icon_dx.mean()/ 1000, resample = True)\n",
    "wavelength_mpas, histogram_mpas = get_ke_spectrum(mpas_u[:, 1:, :-1], mpas_v[:, 1:, :-1], dx = mpas_dx.mean()/ 1000)\n"
   ]
  },
  {
   "cell_type": "code",
   "execution_count": null,
   "metadata": {},
   "outputs": [],
   "source": [
    "# get spectra 200 hpa \n",
    "wavelength_wrfd02, histogram_wrfd02_200 = get_ke_spectrum(wrfd02_u200, wrfd02_v200, dx = 4, resample = True)\n",
    "wavelength_wrfd02, histogram_wrfd02_200 = get_ke_spectrum(wrfd02_u200, wrfd02_v200, dx = 4, resample = True)\n",
    "wavelength_wrf12km, histogram_wrf12km_200 = get_ke_spectrum(wrf12km_u200, wrf12km_v200, dx = 12, resample = True) \n",
    "wavelength_regcm, histogram_regcm_200 = get_ke_spectrum(regcm_u200[:, 1:, :-1], regcm_v200[:, 1:, :-1], dx = 4, resample = True)\n",
    "\n",
    "wavelength_era, histogram_era_200 = get_ke_spectrum(uwind200.U[:, 1:, :-1], vwind200.V[:, 1:, :-1], dx = era_dx.mean()/ 1000, resample = True)\n",
    "wavelength_icon, histogram_icon_200 = get_ke_spectrum(icon_u200.u.squeeze()[:, 1:, :-1], icon_v200.v.squeeze()[:, 1:, :-1], dx = icon_dx.mean()/ 1000)\n",
    "wavelength_mpas, histogram_mpas_200 = get_ke_spectrum(mpas_u200[:, 1:, :-1], mpas_v200[:, 1:, :-1], dx = mpas_dx.mean()/ 1000)\n",
    "wavelength_guf_icon_200, histogram_guf_icon_200 = get_ke_spectrum(icon_guf_u200.ua200.squeeze()[:, 1:, :-1], icon_guf_v200.va200.squeeze()[:, 1:, :-1], dx = icon_dx.mean()/ 1000, resample = True)\n"
   ]
  },
  {
   "cell_type": "code",
   "execution_count": null,
   "metadata": {},
   "outputs": [],
   "source": [
    "U = cclm_u200_12.squeeze()[:,:-1,:-1]\n",
    "V = cclm_v200_12.squeeze()\n",
    "histograms= np.zeros((V.shape[0], U.shape[1] - 2  )) \n",
    "timedim = U.dims[0]\n",
    "\n",
    "for idx in np.arange(10,U[timedim].size): \n",
    "    tt = U[timedim].values[idx]\n",
    "    if timedim == 'time':\n",
    "        u_wind = U.sel(time = tt)\n",
    "        v_wind = V.sel(time = tt)\n",
    "    if u_wind.ndim == 2 and v_wind.ndim ==2:\n",
    "        KE = 0.5 * (u_wind.values **2 + v_wind.values **2)\n",
    "        variances = get_variances(fft.dctn(np.array(KE.data),  norm = 'ortho'))\n",
    "        wavelengths_cclm12, histograms[idx] = get_power_spectrum(variances, dx = 12)\n",
    "histograms_cclm200_12 = np.nanmedian(histograms, axis =0)"
   ]
  },
  {
   "cell_type": "code",
   "execution_count": null,
   "metadata": {},
   "outputs": [],
   "source": [
    "U = cclm_u12.squeeze()[:,:-1,:-1]\n",
    "V = cclm_v12.squeeze()\n",
    "histograms= np.zeros((V.shape[0], U.shape[1] - 2  )) \n",
    "timedim = U.dims[0]\n",
    "\n",
    "for idx in np.arange(10,U[timedim].size): \n",
    "    tt = U[timedim].values[idx]\n",
    "    if timedim == 'time':\n",
    "        u_wind = U.sel(time = tt)\n",
    "        v_wind = V.sel(time = tt)\n",
    "    if u_wind.ndim == 2 and v_wind.ndim ==2:\n",
    "        KE = 0.5 * (u_wind.values **2 + v_wind.values **2)\n",
    "        variances = get_variances(fft.dctn(np.array(KE.data),  norm = 'ortho'))\n",
    "        wavelengths_cclm12, histograms[idx] = get_power_spectrum(variances, dx = 12)\n",
    "histograms_cclm12 = np.nanmedian(histograms, axis =0)"
   ]
  },
  {
   "cell_type": "code",
   "execution_count": null,
   "metadata": {},
   "outputs": [],
   "source": [
    "U = cclm_u200.squeeze()[:,:,:-1]\n",
    "V = cclm_v200.squeeze()\n",
    "histograms= np.zeros((V.shape[0], U.shape[1] - 2  )) \n",
    "timedim = U.dims[0]\n",
    "\n",
    "for idx in np.arange(10,U[timedim].size): \n",
    "    tt = U[timedim].values[idx]\n",
    "    if timedim == 'time':\n",
    "        u_wind = U.sel(time = tt)\n",
    "        v_wind = V.sel(time = tt)\n",
    "    if u_wind.ndim == 2 and v_wind.ndim ==2:\n",
    "        KE = 0.5 * (u_wind.values **2 + v_wind.values **2)\n",
    "        variances = get_variances(fft.dctn(np.array(KE.data),  norm = 'ortho'))\n",
    "        wavelengths_cclm200, histograms[idx] = get_power_spectrum(variances, dx = 2.2)\n",
    "histograms_cclm200 = np.nanmedian(histograms, axis =0)"
   ]
  },
  {
   "cell_type": "code",
   "execution_count": null,
   "metadata": {},
   "outputs": [],
   "source": [
    "U = cclm_u.squeeze()[:,:,:-1]\n",
    "V = cclm_v.squeeze()\n",
    "histograms= np.zeros((V.shape[0], U.shape[1] - 2  )) \n",
    "timedim = U.dims[0]\n",
    "\n",
    "for idx in np.arange(10,U[timedim].size): \n",
    "    tt = U[timedim].values[idx]\n",
    "    if timedim == 'time':\n",
    "        u_wind = U.sel(time = tt)\n",
    "        v_wind = V.sel(time = tt)\n",
    "    if u_wind.ndim == 2 and v_wind.ndim ==2:\n",
    "        KE = 0.5 * (u_wind.values **2 + v_wind.values **2)\n",
    "        variances = get_variances(fft.dctn(np.array(KE.data),  norm = 'ortho'))\n",
    "        wavelengths_cclm, histograms[idx] = get_power_spectrum(variances, dx = 2.2)\n",
    "histograms_cclm = np.nanmedian(histograms, axis =0)"
   ]
  },
  {
   "cell_type": "code",
   "execution_count": null,
   "metadata": {},
   "outputs": [],
   "source": [
    "# compute spectral slope from energy spectrum \n",
    "import math \n",
    "\n",
    "def get_slope(wavelengths, histogram):     \n",
    "    kernel_size = 41\n",
    "    kernel = np.ones(kernel_size) \n",
    "    data_convolved = np.convolve(histogram, kernel, mode='valid') \n",
    "    wavelengths_convolved = np.convolve(wavelengths, kernel, mode='valid') \n",
    "    spectral_slope = np.array(())\n",
    "    k = lambda_to_k(wavelengths)\n",
    "    data = data_convolved\n",
    "    for idx, val in enumerate(data[1:-1]):\n",
    "        a = data[idx + 1 ] \n",
    "        b = data[idx -1 ] \n",
    "        if a != 0 and b!= 0:\n",
    "            c = math.log( a / b) / math.log(  k[idx + 1] / k[idx -1])\n",
    "            spectral_slope = np.append(spectral_slope, c)\n",
    "\n",
    "    return wavelengths[21:-22], spectral_slope"
   ]
  },
  {
   "cell_type": "code",
   "execution_count": null,
   "metadata": {},
   "outputs": [],
   "source": [
    "kernel_size = 21\n",
    "kernel = np.ones(kernel_size) \n",
    "histogram= np.log(histogram_wrfd02)\n",
    "mask = np.convolve(np.ones((histogram_wrfd02.size,)) , kernel, mode ='same')  \n",
    "data= np.convolve( histogram_wrfd02, kernel, mode ='same')  \n",
    "\n",
    "plt.plot(mask, label = 'mask')\n",
    "plt.plot(data, label = 'data')\n",
    "plt.plot(data/mask, label = 'result')\n",
    "plt.legend()"
   ]
  },
  {
   "cell_type": "code",
   "execution_count": null,
   "metadata": {},
   "outputs": [],
   "source": [
    "\n",
    "\n",
    "kernel_size = 21\n",
    "kernel = np.ones(kernel_size) \n",
    "histogram= np.log(histogram_wrfd02)\n",
    "mask = np.convolve(np.ones((histogram.size,)) , kernel, mode ='same')  \n",
    "data= np.exp(np.convolve( histogram, kernel, mode ='same') / mask)\n",
    "\n",
    "plt.plot(mask, label = 'mask')\n",
    "plt.plot(data, label = 'data')\n",
    "#plt.plot(data/mask, label = 'result')\n",
    "plt.xscale(\"log\")\n",
    "plt.legend()"
   ]
  },
  {
   "cell_type": "code",
   "execution_count": null,
   "metadata": {},
   "outputs": [],
   "source": [
    "### convolution, but extension of wavelengths into synoptic space ### \n",
    "\n",
    "def get_slopes(wavelengths, histogram):     \n",
    "    kernel_size = 21\n",
    "    kernel = np.ones(kernel_size) \n",
    "    histogram = np.log(histogram)\n",
    "    mask = np.convolve(np.ones((histogram.size)) , kernel, mode ='same')  \n",
    "    data = np.convolve(histogram, kernel, mode='same') / mask\n",
    "    k = lambda_to_k(wavelengths)\n",
    "    data = np.log(data)\n",
    "    \n",
    "    # get spectral slope (derivative in log-space)\n",
    "    spectral_slope = np.array(())\n",
    "    for idx, val in enumerate(data[1:-1]):\n",
    "        a = data[idx + 1 ] \n",
    "        b = data[idx -1 ] \n",
    "        if a != 0 and b!= 0:\n",
    "            c = math.log( a / b) / math.log(  k[idx + 1] / k[idx -1])\n",
    "            spectral_slope = np.append(spectral_slope, c) \n",
    "    return wavelengths[1:-2], spectral_slope "
   ]
  },
  {
   "cell_type": "code",
   "execution_count": null,
   "metadata": {},
   "outputs": [],
   "source": [
    "def get_slope_no_smoothing(wavelengths, histogram):     \n",
    "    k = lambda_to_k(wavelengths)\n",
    "    data = histogram\n",
    "\n",
    "    # get spectral slope (derivative in log-space)\n",
    "    spectral_slope = np.array(())\n",
    "    for idx, val in enumerate(data[1:-1]):\n",
    "        a = data[idx + 1 ] \n",
    "        b = data[idx -1 ] \n",
    "        if a != 0 and b!= 0:\n",
    "            c = math.log( a / b) / math.log(  k[idx + 1] / k[idx -1])\n",
    "            spectral_slope = np.append(spectral_slope, c)\n",
    "    return wavelengths[1:-2], spectral_slope"
   ]
  },
  {
   "cell_type": "code",
   "execution_count": null,
   "metadata": {},
   "outputs": [],
   "source": [
    "plt.figure(figsize=(14,4))\n",
    "\n",
    "k_wrf, slope_wrf = get_slope_no_smoothing(wavelength_wrfd02, histogram_wrfd02)\n",
    "k_wrfd02, slope_wrfd02 = get_slopes(wavelength_wrfd02, histogram_wrfd02)\n",
    "\n",
    "\n",
    "plt.plot(k_wrf, slope_wrf, label = 'no smoothing')\n",
    "plt.plot(k_wrfd02, slope_wrfd02,  label = 'smooth', lw = 3.0)\n",
    "plt.legend()\n",
    "plt.xscale('log')"
   ]
  },
  {
   "cell_type": "code",
   "execution_count": null,
   "metadata": {},
   "outputs": [],
   "source": [
    "# get slopes for all input datasets\n",
    "k_wrfd02, slope_wrfd02 = get_slope(wavelength_wrfd02, histogram_wrfd02)\n",
    "k_wrf12km, slope_wrf12km = get_slope(wavelength_wrf12km, histogram_wrf12km)\n",
    "k_regcm, slope_regcm = get_slope(wavelength_regcm, histogram_regcm)\n",
    "k_era, slope_era = get_slope(wavelength_era, histogram_era)\n",
    "k_mpas, slope_mpas = get_slope(wavelength_mpas, histogram_mpas)\n",
    "k_icon, slope_icon = get_slope(wavelength_icon, histogram_icon)\n",
    "k_icon_guf, slope_icon_guf = get_slope(wavelength_guf_icon, histogram_guf_icon)\n",
    "k_cclm, slope_cclm = get_slope(wavelengths_cclm, histograms_cclm)\n",
    "k_cclm12, slope_cclm12 = get_slope(wavelengths_cclm12, histograms_cclm12)\n",
    "\n",
    "# same for 200 hpa \n",
    "k_wrf12km_200, slope_wrf12km_200 = get_slope(wavelength_wrf12km[:-55], histogram_wrf12km_200[histogram_wrf12km_200 > 0])\n",
    "#k_era_200, slope_era_200 = get_slope(wavelength_era, histogram_era_200)\n",
    "k_wrfd02, slope_wrfd02_200 = get_slope(wavelength_wrfd02, histogram_wrfd02_200)\n",
    "k_regcm, slope_regcm_200 = get_slope(wavelength_regcm, histogram_regcm_200)\n",
    "k_mpas, slope_mpas_200 = get_slope(wavelength_mpas, histogram_mpas_200)\n",
    "k_icon, slope_icon_200 = get_slope(wavelength_icon, histogram_icon_200)\n",
    "k_icon_guf, slope_guf_icon_200 = get_slope(wavelength_guf_icon, histogram_guf_icon_200)\n",
    "k_cclm, slope_cclm_200 = get_slope(wavelengths_cclm, histograms_cclm200)\n",
    "k_cclm12, slope_cclm200_12 = get_slope(wavelengths_cclm12, histograms_cclm200_12)\n",
    "\n",
    "##### zoom in, no smoothing \n",
    "\n",
    "K_wrfd02, slopewrfd02 = get_slopes(wavelength_wrfd02, histogram_wrfd02)\n",
    "K_wrf12km, slopewrf12km = get_slopes(wavelength_wrf12km, histogram_wrf12km)\n",
    "K_regcm, sloperegcm = get_slopes(wavelength_regcm, histogram_regcm)\n",
    "K_era, slopeera = get_slopes(wavelength_era, histogram_era)\n",
    "K_mpas, slopempas = get_slopes(wavelength_mpas, histogram_mpas)\n",
    "K_icon, slopeicon = get_slopes(wavelength_icon, histogram_icon)\n",
    "K_icon_guf, slope_iconguf = get_slopes(wavelength_guf_icon, histogram_guf_icon)\n",
    "K_cclm, slopecclm = get_slopes(wavelengths_cclm, histograms_cclm)\n",
    "K_cclm12, slopecclm12 = get_slopes(wavelengths_cclm12, histograms_cclm12)\n",
    "\n",
    "# same for 200 hpa \n",
    "K_wrf12km200, slope_wrf12km200 = get_slopes(wavelength_wrf12km[:-55], histogram_wrf12km_200[histogram_wrf12km_200 > 0])\n",
    "K_era_200, slopeera200 = get_slopes(wavelength_era, histogram_era_200)\n",
    "K_wrfd02, slope_wrfd02200 = get_slopes(wavelength_wrfd02, histogram_wrfd02_200)\n",
    "K_regcm, slope_regcm200 = get_slopes(wavelength_regcm, histogram_regcm_200)\n",
    "K_mpas, slope_mpas200 = get_slopes(wavelength_mpas, histogram_mpas_200)\n",
    "K_icon, slope_icon200 = get_slopes(wavelength_icon, histogram_icon_200)\n",
    "K_icon_guf, slope_guf_icon200 = get_slopes(wavelength_guf_icon, histogram_guf_icon_200)\n",
    "K_cclm, slope_cclm200 = get_slopes(wavelengths_cclm, histograms_cclm200)\n",
    "K_cclm12, slope_cclm20012 = get_slopes(wavelengths_cclm12, histograms_cclm200_12)"
   ]
  },
  {
   "cell_type": "code",
   "execution_count": null,
   "metadata": {},
   "outputs": [],
   "source": [
    "print(k_wrfd02.shape ,slope_wrfd02.shape)\n",
    "assert k_wrfd02.shape == slope_wrfd02.shape\n",
    "print(k_mpas.shape ,slope_mpas.shape)\n",
    "assert k_mpas.shape == slope_mpas.shape\n",
    "\n",
    "\n",
    "print(K_wrfd02.shape ,slopewrfd02.shape)\n",
    "assert K_wrfd02.shape == slopewrfd02.shape\n",
    "print(K_mpas.shape ,slopempas.shape)\n",
    "assert K_mpas.shape == slopempas.shape"
   ]
  },
  {
   "cell_type": "code",
   "execution_count": null,
   "metadata": {},
   "outputs": [],
   "source": [
    "from mpl_toolkits.axes_grid.inset_locator import inset_axes\n",
    "\n",
    "plt.figure(figsize=(28,20))\n",
    "ax = plt.subplot(2,2,1)\n",
    "\n",
    "lw = 3.5\n",
    "fs = 24\n",
    "ls = 20 \n",
    "\n",
    "ax.plot(wavelength_era[1:], histogram_era, label = 'ERA5', lw = lw, color='steelblue')\n",
    "ax.plot(wavelength_regcm[1:], histogram_regcm, label = 'RegCM', lw = lw , color = 'slategray')\n",
    "ax.plot(wavelength_mpas[1:], histogram_mpas, label = 'MPAS', lw = lw, color='darkturquoise')\n",
    "ax.plot(wavelength_icon[1:], histogram_icon, label = 'ICON2.6', lw = lw, color='mediumspringgreen')\n",
    "ax.plot(wavelength_guf_icon[1:], histogram_guf_icon, label = 'ICON2.6.3', lw = lw, color='darkcyan')\n",
    "\n",
    "ax.plot(wavelengths_cclm[1:], histograms_cclm, label = 'CCLM', lw = lw, color = 'orangered')\n",
    "ax.plot(wavelengths_cclm12[1:], histograms_cclm12, label = 'CCLM12km', lw = lw, color = 'orangered', linestyle = 'dashed')\n",
    "ax.plot(wavelength_wrf12km[1:], histogram_wrf12km, label = 'WRF12km', lw = 4, linestyle = 'dashed', color='k')\n",
    "ax.plot(wavelength_wrfd02[1:], histogram_wrfd02, label = 'WRF4km', lw = 4, color='k')\n",
    "ax.legend(fontsize = 19, loc = 'upper right')\n",
    "\n",
    "# handle labels \n",
    "ax.set_xscale('log')\n",
    "ax.set_yscale('log')\n",
    "ax.xaxis.grid(True)\n",
    "ax.yaxis.grid(False)\n",
    "ax.xaxis.grid(True, which ='minor')\n",
    "ax.yaxis.grid(False)\n",
    "ax.invert_xaxis()\n",
    "ax.set_ylabel('KE @500hPa [m$^2$ s$^{-2}$]', fontsize = fs)\n",
    "ax.set_xlabel('wavelength $\\lambda$ [km]', fontsize = fs)\n",
    "\n",
    "# wavenumber x axis \n",
    "ax2 = ax.twiny()\n",
    "ax2.set_xscale('log')\n",
    "ax2.set_yscale('log')\n",
    "ax.xaxis.grid(True, which ='minor')\n",
    "ax.yaxis.grid(False, which ='minor')\n",
    "ax2.xaxis.grid(False)\n",
    "ax2.yaxis.grid(False)\n",
    "wn = lambda_to_k(np.array(ax.get_xbound()))\n",
    "ax2.set_xlim(wn[1], wn[0])\n",
    "ax2.set_ylim(ax.get_ybound()[0], ax.get_ybound()[1])\n",
    "ax2.set_xlabel('wavenumber k [rad m$^{-1}$]', fontsize = fs)\n",
    "ax.set_title('a)', loc = 'left', fontsize = 25  )\n",
    "\n",
    "\n",
    "# add theoretical slope for meso-scale \n",
    "intercept= 55 # y coordinate for start \n",
    "ki =  0.000012 # corresponding k coordinate on x axis for start \n",
    "c= intercept / (ki)**(-5/3) # get factor with which to multiply to relocate slope on y axis \n",
    "k = np.linspace(ki, 2 * 10**(-4), 101) # k values for x axis \n",
    "ax2.plot(k, k**(-5/3) * c, 'slategray', linestyle='--', lw = lw ) # linear equation (*c to move the intercept on log scale)\n",
    "ax2.text(ki+ 0.000028,intercept-40, 'k$^{-5/3}$', color = 'slategray', fontsize = 24) \n",
    "\n",
    "# same for large-scale\n",
    "intercept= 15\n",
    "ki =  0.0000035\n",
    "c= intercept / (ki)**(-3)\n",
    "k = np.linspace(ki, 1.8 *10**(-5), 101)\n",
    "ax2.text(ki+ 0.0000038,3, 'k$^{-3}$', color = 'slategray', fontsize = 24)\n",
    "ax2.plot(k, k**(-3) * c, 'slategray', linestyle='dotted', lw = lw )\n",
    "\n",
    "plt.rcParams.update({'font.size': 20})\n",
    "ax.set_xlim(1500,0)\n",
    "\n",
    "# We change the fontsize of minor ticks label \n",
    "ax.tick_params(axis='both', which='major', labelsize= ls)\n",
    "ax.tick_params(axis='both', which='minor', labelsize= ls)\n",
    "ax2.tick_params(axis='both', which='major', labelsize= ls )\n",
    "ax2.tick_params(axis='both', which='minor', labelsize=ls )\n",
    "\n",
    "##### compare to spectral slopes ### \n",
    "ax = plt.subplot(2,2,2)\n",
    "\n",
    "#ax.plot(k_era, slope_era, label = 'ERA5', lw = lw, color='steelblue')\n",
    "ax.plot(K_regcm, sloperegcm, label = 'RegCM', lw = lw, color='slategray')\n",
    "ax.plot(K_mpas, slopempas, label = 'MPAS', lw = lw, color='darkturquoise')\n",
    "ax.plot(K_icon, slopeicon, label = 'ICON2.6', lw = lw, color='mediumspringgreen')\n",
    "ax.plot(K_icon_guf, slope_iconguf, label = 'ICON2.6.3', lw = lw, color='darkcyan')\n",
    "ax.plot(K_cclm, slopecclm, label = 'CCLM', lw = lw, color='orangered')\n",
    "ax.plot(K_cclm12, slopecclm12, label = 'CCLM12km', lw = lw, color='orangered', linestyle = 'dashed')\n",
    "ax.plot(K_wrfd02, slopewrfd02, label = 'WRF4km', lw = lw, color='k')\n",
    "ax.plot(K_wrf12km, slopewrf12km, label = 'WRF12km', lw = lw, color='k', linestyle = 'dashed')\n",
    "#ax.legend(fontsize = fs)\n",
    "ax.set_ylabel('Spectral slope', fontsize = fs )\n",
    "ax.invert_xaxis()\n",
    "ax.set_xscale('log')\n",
    "ax.axhline(y=-3, color =  'gray', linestyle='dotted', lw = lw)\n",
    "ax.axhline(y=-(5/3), color= 'gray', linestyle = 'dashed', lw = lw)\n",
    "ax.xaxis.grid(True)\n",
    "ax.yaxis.grid(False)\n",
    "ax.xaxis.grid(True, which ='minor')\n",
    "ax.yaxis.grid(False)\n",
    "ax.set_title('b)', loc = 'left', fontsize = 25  )\n",
    "\n",
    "# wavenumber x axis \n",
    "ax2 = ax.twiny()\n",
    "ax2.set_xscale('log')\n",
    "ax2.xaxis.grid(False)\n",
    "ax2.yaxis.grid(False)\n",
    "wn = lambda_to_k(np.array(ax.get_xbound()))\n",
    "ax2.set_xlim(wn[1], wn[0])\n",
    "ax2.set_ylim(ax.get_ybound()[0], ax.get_ybound()[1])\n",
    "ax2.set_xlabel('wavenumber k [rad m$^{-1}$]', fontsize = fs)\n",
    "ax.set_xlabel('wavelength $\\lambda$ [km]', fontsize = fs)\n",
    "\n",
    "ax.tick_params(axis='both', which='major', labelsize= ls)\n",
    "ax.tick_params(axis='both', which='minor', labelsize= ls)\n",
    "ax2.tick_params(axis='both', which='major', labelsize= ls )\n",
    "ax2.tick_params(axis='both', which='minor', labelsize=ls )\n",
    "\n",
    "\n",
    "######################################### same for 200 hpa #################################################\n",
    "\n",
    "ax = plt.subplot(2,2,3)\n",
    "lw = 3.5\n",
    "\n",
    "ax.plot(wavelength_era[:-16], histogram_era_200[histogram_era_200> 0], label = 'ERA5', lw = lw, color='steelblue')\n",
    "ax.plot(wavelength_regcm[1:], histogram_regcm_200, label = 'RegCM', lw = lw , color = 'slategray')\n",
    "ax.plot(wavelength_mpas[1:], histogram_mpas_200, label = 'MPAS', lw = lw, color='darkturquoise')\n",
    "ax.plot(wavelength_icon[1:], histogram_icon_200, label = 'ICON2.6', lw = lw, color='mediumspringgreen')\n",
    "ax.plot(wavelength_guf_icon[1:], histogram_guf_icon_200, label = 'ICON2.6.3', lw = lw, color='darkcyan')\n",
    "ax.plot(wavelengths_cclm[1:], histograms_cclm200, label = 'CCLM', lw = lw, color = 'orangered')\n",
    "ax.plot(wavelengths_cclm12[1:], histograms_cclm200_12, label = 'CCLM12km', lw = lw, color = 'orangered', linestyle = 'dashed')\n",
    "ax.plot(wavelength_wrf12km[:-56], histogram_wrf12km_200[histogram_wrf12km_200> 0], label = 'WRF12km', lw = 4, linestyle = 'dashed', color='k')\n",
    "ax.plot(wavelength_wrfd02[1:], histogram_wrfd02_200, label = 'WRF4km', lw = 4, color='k')\n",
    "ax.legend(fontsize = 19, loc = 'upper right')\n",
    "\n",
    "# handle labels \n",
    "ax.set_xscale('log')\n",
    "ax.set_yscale('log')\n",
    "ax.xaxis.grid(True)\n",
    "ax.yaxis.grid(False)\n",
    "ax.xaxis.grid(True, which ='minor')\n",
    "ax.yaxis.grid(False)\n",
    "ax.invert_xaxis()\n",
    "ax.set_ylabel('KE @200hPa [m$^2$ s$^{-2}$]', fontsize = fs)\n",
    "ax.set_xlabel('wavelength $\\lambda$ [km]', fontsize = fs)\n",
    "\n",
    "# wavenumber x axis \n",
    "ax2 = ax.twiny()\n",
    "ax2.set_xscale('log')\n",
    "ax2.set_yscale('log')\n",
    "ax.xaxis.grid(True, which ='minor')\n",
    "ax.yaxis.grid(False, which ='minor')\n",
    "ax2.xaxis.grid(False)\n",
    "ax2.yaxis.grid(False)\n",
    "wn = lambda_to_k(np.array(ax.get_xbound()))\n",
    "ax2.set_xlim(wn[1], wn[0])\n",
    "ax2.set_ylim(ax.get_ybound()[0], ax.get_ybound()[1])\n",
    "ax.set_title('c)', loc = 'left', fontsize = 25  )\n",
    "\n",
    "\n",
    "# add theoretical slope for meso-scale \n",
    "intercept= 260 # y coordinate for start \n",
    "ki =  0.000012 # corresponding k coordinate on x axis for start \n",
    "c= intercept / (ki)**(-5/3) # get factor with which to multiply to relocate slope on y axis \n",
    "k = np.linspace(ki, 2 * 10**(-4), 101) # k values for x axis \n",
    "ax2.plot(k, k**(-5/3) * c, 'slategray', linestyle='--', lw = lw ) # linear equation (*c to move the intercept on log scale)\n",
    "ax2.text(ki+ 0.000028,intercept-40, 'k$^{-5/3}$', color = 'slategray', fontsize = 24) \n",
    "\n",
    "# same for large-scale\n",
    "intercept= 20\n",
    "ki =  0.0000025\n",
    "c= intercept / (ki)**(-3)\n",
    "k = np.linspace(ki, 1.5*10**(-5), 101)\n",
    "ax2.text(ki+ 0.0000038,1.4, 'k$^{-3}$', color = 'slategray', fontsize = 24)\n",
    "ax2.plot(k, k**(-3) * c, 'slategray', linestyle='dotted', lw =lw)\n",
    "\n",
    "plt.rcParams.update({'font.size': 20})\n",
    "ax.set_xlim(1500,0)\n",
    "ax.tick_params(axis='both', which='major', labelsize= ls)\n",
    "ax.tick_params(axis='both', which='minor', labelsize= ls)\n",
    "ax2.tick_params(axis='both', which='major', labelsize= ls )\n",
    "ax2.tick_params(axis='both', which='minor', labelsize=ls )\n",
    "\n",
    "##### compare to spectral slopes ### \n",
    "ax = plt.subplot(2,2,4)\n",
    "\n",
    "#ax.plot(k_era, slope_era, label = 'ERA5', lw = lw, color='steelblue')\n",
    "ax.plot(K_regcm, slope_regcm200, label = 'RegCM', lw = lw, color='slategray')\n",
    "ax.plot(K_mpas, slope_mpas200, label = 'MPAS', lw = lw, color='darkturquoise')\n",
    "ax.plot(K_icon, slope_icon200, label = 'ICON2.6', lw = lw, color='mediumspringgreen')\n",
    "ax.plot(K_icon_guf, slope_guf_icon200, label = 'ICON2.6.3', lw = lw, color='darkcyan')\n",
    "ax.plot(K_cclm, slope_cclm200, label = 'CCLM', lw = lw, color='orangered')\n",
    "ax.plot(K_wrfd02, slope_wrfd02200, label = 'WRF4km', lw = lw, color='k')\n",
    "ax.plot(K_wrf12km200, slope_wrf12km200, label = 'WRF12km', lw = lw, color='k', linestyle = 'dashed')\n",
    "ax.plot(K_cclm12, slope_cclm20012, label = 'CCLM12km', lw = lw, color='orangered', linestyle = 'dashed')\n",
    "#ax.legend(fontsize = fs)\n",
    "ax.set_ylabel('Spectral slope', fontsize = fs )\n",
    "ax.invert_xaxis()\n",
    "ax.set_xscale('log')\n",
    "ax.axhline(y=-3, color =  'gray', linestyle='dotted', lw= lw)\n",
    "ax.axhline(y=-(5/3), color= 'gray', linestyle = 'dashed', lw = lw)\n",
    "ax.xaxis.grid(True)\n",
    "ax.yaxis.grid(False)\n",
    "ax.xaxis.grid(True, which ='minor')\n",
    "ax.yaxis.grid(False)\n",
    "ax.set_title('d)', loc = 'left', fontsize = 25  )\n",
    "\n",
    "# wavenumber x axis \n",
    "ax2 = ax.twiny()\n",
    "ax2.set_xscale('log')\n",
    "ax2.xaxis.grid(False)\n",
    "ax2.yaxis.grid(False)\n",
    "wn = lambda_to_k(np.array(ax.get_xbound()))\n",
    "ax2.set_xlim(wn[1], wn[0])\n",
    "ax2.set_ylim(ax.get_ybound()[0], ax.get_ybound()[1])\n",
    "ax.set_xlabel('wavelength $\\lambda$ [km]', fontsize = fs)\n",
    "\n",
    "ax.tick_params(axis='both', which='major', labelsize=ls)\n",
    "ax.tick_params(axis='both', which='minor', labelsize=ls)\n",
    "ax2.tick_params(axis='both', which='major', labelsize=ls)\n",
    "ax2.tick_params(axis='both', which='minor', labelsize=ls)\n",
    "\n",
    "plt.rcParams.update({'font.size': 22})\n",
    "plt.savefig('plots/KE_spectra_200hpa_500hpa_mask-convolution.png', bbox_inches = 'tight' , facecolor = 'white', transparent = None)\n",
    "plt.show()"
   ]
  },
  {
   "cell_type": "code",
   "execution_count": null,
   "metadata": {},
   "outputs": [],
   "source": [
    "wavelengths_"
   ]
  },
  {
   "cell_type": "code",
   "execution_count": null,
   "metadata": {},
   "outputs": [],
   "source": [
    "from mpl_toolkits.axes_grid.inset_locator import inset_axes\n",
    "\n",
    "plt.figure(figsize=(28,20))\n",
    "ax = plt.subplot(2,2,1)\n",
    "\n",
    "lw = 3.5\n",
    "fs = 24\n",
    "ls = 20 \n",
    "\n",
    "ax.plot(wavelength_era[1:], histogram_era, label = 'ERA5', lw = lw, color='steelblue')\n",
    "ax.plot(wavelength_regcm[1:], histogram_regcm, label = 'RegCM', lw = lw , color = 'slategray')\n",
    "ax.plot(wavelength_mpas[1:], histogram_mpas, label = 'MPAS', lw = lw, color='darkturquoise')\n",
    "ax.plot(wavelength_icon[1:], histogram_icon, label = 'ICON2.6', lw = lw, color='mediumspringgreen')\n",
    "ax.plot(wavelength_guf_icon[1:], histogram_guf_icon, label = 'ICON2.6.3', lw = lw, color='darkcyan')\n",
    "\n",
    "ax.plot(wavelengths_cclm[1:], histograms_cclm, label = 'CCLM', lw = lw, color = 'orangered')\n",
    "ax.plot(wavelengths_cclm12[1:], histograms_cclm12, label = 'CCLM12km', lw = lw, color = 'orangered', linestyle = 'dashed')\n",
    "ax.plot(wavelength_wrf12km[1:], histogram_wrf12km, label = 'WRF12km', lw = 4, linestyle = 'dashed', color='k')\n",
    "ax.plot(wavelength_wrfd02[1:], histogram_wrfd02, label = 'WRF4km', lw = 4, color='k')\n",
    "ax.legend(fontsize = 19, loc = 'upper right')\n",
    "\n",
    "# handle labels \n",
    "ax.set_xscale('log')\n",
    "ax.set_yscale('log')\n",
    "ax.xaxis.grid(True)\n",
    "ax.yaxis.grid(False)\n",
    "ax.xaxis.grid(True, which ='minor')\n",
    "ax.yaxis.grid(False)\n",
    "ax.invert_xaxis()\n",
    "ax.set_ylabel('KE @500hPa [m$^2$ s$^{-2}$]', fontsize = fs)\n",
    "ax.set_xlabel('wavelength $\\lambda$ [km]', fontsize = fs)\n",
    "\n",
    "# wavenumber x axis \n",
    "ax2 = ax.twiny()\n",
    "ax2.set_xscale('log')\n",
    "ax2.set_yscale('log')\n",
    "ax.xaxis.grid(True, which ='minor')\n",
    "ax.yaxis.grid(False, which ='minor')\n",
    "ax2.xaxis.grid(False)\n",
    "ax2.yaxis.grid(False)\n",
    "wn = lambda_to_k(np.array(ax.get_xbound()))\n",
    "ax2.set_xlim(wn[1], wn[0])\n",
    "ax2.set_ylim(ax.get_ybound()[0], ax.get_ybound()[1])\n",
    "ax2.set_xlabel('wavenumber k [rad m$^{-1}$]', fontsize = fs)\n",
    "ax.set_title('a)', loc = 'left', fontsize = 25  )\n",
    "\n",
    "\n",
    "# add theoretical slope for meso-scale \n",
    "intercept= 55 # y coordinate for start \n",
    "ki =  0.000012 # corresponding k coordinate on x axis for start \n",
    "c= intercept / (ki)**(-5/3) # get factor with which to multiply to relocate slope on y axis \n",
    "k = np.linspace(ki, 2 * 10**(-4), 101) # k values for x axis \n",
    "ax2.plot(k, k**(-5/3) * c, 'slategray', linestyle='--', lw = lw ) # linear equation (*c to move the intercept on log scale)\n",
    "ax2.text(ki+ 0.000028,intercept-40, 'k$^{-5/3}$', color = 'slategray', fontsize = 24) \n",
    "\n",
    "# same for large-scale\n",
    "intercept= 15\n",
    "ki =  0.0000035\n",
    "c= intercept / (ki)**(-3)\n",
    "k = np.linspace(ki, 1.8 *10**(-5), 101)\n",
    "ax2.text(ki+ 0.0000038,3, 'k$^{-3}$', color = 'slategray', fontsize = 24)\n",
    "ax2.plot(k, k**(-3) * c, 'slategray', linestyle='dotted', lw = lw )\n",
    "\n",
    "plt.rcParams.update({'font.size': 20})\n",
    "ax.set_xlim(1500,0)\n",
    "\n",
    "# We change the fontsize of minor ticks label \n",
    "ax.tick_params(axis='both', which='major', labelsize= ls)\n",
    "ax.tick_params(axis='both', which='minor', labelsize= ls)\n",
    "ax2.tick_params(axis='both', which='major', labelsize= ls )\n",
    "ax2.tick_params(axis='both', which='minor', labelsize=ls )\n",
    "\n",
    "##### compare to spectral slopes ### \n",
    "ax = plt.subplot(2,2,2)\n",
    "\n",
    "#ax.plot(k_era, slope_era, label = 'ERA5', lw = lw, color='steelblue')\n",
    "ax.plot(k_regcm, slope_regcm, label = 'RegCM', lw = lw, color='slategray')\n",
    "ax.plot(k_mpas, slope_mpas, label = 'MPAS', lw = lw, color='darkturquoise')\n",
    "ax.plot(k_icon, slope_icon, label = 'ICON2.6', lw = lw, color='mediumspringgreen')\n",
    "ax.plot(k_icon_guf, slope_icon_guf, label = 'ICON2.6.3', lw = lw, color='darkcyan')\n",
    "ax.plot(k_cclm, slope_cclm, label = 'CCLM', lw = lw, color='orangered')\n",
    "ax.plot(k_cclm12, slope_cclm12, label = 'CCLM12km', lw = lw, color='orangered', linestyle = 'dashed')\n",
    "ax.plot(k_wrfd02, slope_wrfd02, label = 'WRF4km', lw = lw, color='k')\n",
    "ax.plot(k_wrf12km, slope_wrf12km, label = 'WRF12km', lw = lw, color='k', linestyle = 'dashed')\n",
    "#ax.legend(fontsize = fs)\n",
    "ax.set_ylabel('Spectral slope', fontsize = fs )\n",
    "ax.invert_xaxis()\n",
    "ax.set_xscale('log')\n",
    "ax.axhline(y=-3, color =  'gray', linestyle='dotted', lw = lw)\n",
    "ax.axhline(y=-(5/3), color= 'gray', linestyle = 'dashed', lw = lw)\n",
    "ax.xaxis.grid(True)\n",
    "ax.yaxis.grid(False)\n",
    "ax.xaxis.grid(True, which ='minor')\n",
    "ax.yaxis.grid(False)\n",
    "ax.set_title('b)', loc = 'left', fontsize = 25  )\n",
    "\n",
    "# wavenumber x axis \n",
    "ax2 = ax.twiny()\n",
    "ax2.set_xscale('log')\n",
    "ax2.xaxis.grid(False)\n",
    "ax2.yaxis.grid(False)\n",
    "wn = lambda_to_k(np.array(ax.get_xbound()))\n",
    "ax2.set_xlim(wn[1], wn[0])\n",
    "ax2.set_ylim(ax.get_ybound()[0], ax.get_ybound()[1])\n",
    "ax2.set_xlabel('wavenumber k [rad m$^{-1}$]', fontsize = fs)\n",
    "ax.set_xlabel('wavelength $\\lambda$ [km]', fontsize = fs)\n",
    "\n",
    "ax.tick_params(axis='both', which='major', labelsize= ls)\n",
    "ax.tick_params(axis='both', which='minor', labelsize= ls)\n",
    "ax2.tick_params(axis='both', which='major', labelsize= ls )\n",
    "ax2.tick_params(axis='both', which='minor', labelsize=ls )\n",
    "\n",
    "\n",
    "## insert zoom in \n",
    "lw = 2.5\n",
    "ins = inset_axes(ax, width=\"55%\", height=\"28%\", loc=\"lower left\")\n",
    "ins.plot(K_regcm, sloperegcm, label = 'RegCM', lw = lw, color='slategray')\n",
    "ins.plot(K_mpas, slopempas, label = 'MPAS', lw = lw, color='darkturquoise')\n",
    "ins.plot(K_icon, slopeicon, label = 'ICON2.6', lw = lw, color='mediumspringgreen')\n",
    "ins.plot(K_icon_guf, slope_iconguf, label = 'ICON2.6.3', lw = lw, color='darkcyan')\n",
    "ins.plot(K_cclm, slopecclm, label = 'CCLM', lw = lw, color='orangered')\n",
    "ins.plot(K_cclm12, slopecclm12, label = 'CCLM12km', lw = lw, color='orangered', linestyle = 'dashed')\n",
    "ins.plot(K_wrfd02, slopewrfd02, label = 'WRF4km', lw = lw, color='k')\n",
    "ins.plot(K_wrf12km, slopewrf12km, label = 'WRF12km', lw = lw, color='k', linestyle = 'dashed')\n",
    "ins.invert_xaxis()\n",
    "ins.set_xscale('log')\n",
    "ins.axhline(y=-3, color =  'gray', linestyle='dotted', lw = 4.0)\n",
    "ins.axhline(y=-(5/3), color= 'gray', linestyle = 'dashed', lw = 4.0)\n",
    "ins.xaxis.grid(True)\n",
    "ins.yaxis.grid(False)\n",
    "ins.xaxis.grid(True, which ='minor')\n",
    "ins.yaxis.grid(False)\n",
    "ins.set_xlim(1400, 200 )\n",
    "ins.set_xticks([10**3, 600, 400,300, 200])\n",
    "ins.set_xticklabels(['10$^3$', '600', '400','300', '200'])\n",
    "ins.set_ylim(-6,2)\n",
    "\n",
    "ins.tick_params(axis='both', which='major', labelsize= ls)\n",
    "ins.tick_params(axis='both', which='minor', labelsize= ls)\n",
    "ins.xaxis.set_label_position('top') \n",
    "ins.xaxis.tick_top()\n",
    "ins.yaxis.set_label_position('right') \n",
    "ins.yaxis.tick_right()\n",
    "\n",
    "\n",
    "######################################### same for 200 hpa #################################################\n",
    "\n",
    "ax = plt.subplot(2,2,3)\n",
    "lw = 3.5\n",
    "\n",
    "ax.plot(wavelength_era[:-16], histogram_era_200[histogram_era_200> 0], label = 'ERA5', lw = lw, color='steelblue')\n",
    "ax.plot(wavelength_regcm[1:], histogram_regcm_200, label = 'RegCM', lw = lw , color = 'slategray')\n",
    "ax.plot(wavelength_mpas[1:], histogram_mpas_200, label = 'MPAS', lw = lw, color='darkturquoise')\n",
    "ax.plot(wavelength_icon[1:], histogram_icon_200, label = 'ICON2.6', lw = lw, color='mediumspringgreen')\n",
    "ax.plot(wavelength_guf_icon[1:], histogram_guf_icon_200, label = 'ICON2.6.3', lw = lw, color='darkcyan')\n",
    "ax.plot(wavelengths_cclm[1:], histograms_cclm200, label = 'CCLM', lw = lw, color = 'orangered')\n",
    "ax.plot(wavelengths_cclm12[1:], histograms_cclm200_12, label = 'CCLM12km', lw = lw, color = 'orangered', linestyle = 'dashed')\n",
    "ax.plot(wavelength_wrf12km[:-56], histogram_wrf12km_200[histogram_wrf12km_200> 0], label = 'WRF12km', lw = 4, linestyle = 'dashed', color='k')\n",
    "ax.plot(wavelength_wrfd02[1:], histogram_wrfd02_200, label = 'WRF4km', lw = 4, color='k')\n",
    "ax.legend(fontsize = 19, loc = 'upper right')\n",
    "\n",
    "# handle labels \n",
    "ax.set_xscale('log')\n",
    "ax.set_yscale('log')\n",
    "ax.xaxis.grid(True)\n",
    "ax.yaxis.grid(False)\n",
    "ax.xaxis.grid(True, which ='minor')\n",
    "ax.yaxis.grid(False)\n",
    "ax.invert_xaxis()\n",
    "ax.set_ylabel('KE @200hPa [m$^2$ s$^{-2}$]', fontsize = fs)\n",
    "ax.set_xlabel('wavelength $\\lambda$ [km]', fontsize = fs)\n",
    "\n",
    "# wavenumber x axis \n",
    "ax2 = ax.twiny()\n",
    "ax2.set_xscale('log')\n",
    "ax2.set_yscale('log')\n",
    "ax.xaxis.grid(True, which ='minor')\n",
    "ax.yaxis.grid(False, which ='minor')\n",
    "ax2.xaxis.grid(False)\n",
    "ax2.yaxis.grid(False)\n",
    "wn = lambda_to_k(np.array(ax.get_xbound()))\n",
    "ax2.set_xlim(wn[1], wn[0])\n",
    "ax2.set_ylim(ax.get_ybound()[0], ax.get_ybound()[1])\n",
    "ax.set_title('c)', loc = 'left', fontsize = 25  )\n",
    "\n",
    "\n",
    "# add theoretical slope for meso-scale \n",
    "intercept= 260 # y coordinate for start \n",
    "ki =  0.000012 # corresponding k coordinate on x axis for start \n",
    "c= intercept / (ki)**(-5/3) # get factor with which to multiply to relocate slope on y axis \n",
    "k = np.linspace(ki, 2 * 10**(-4), 101) # k values for x axis \n",
    "ax2.plot(k, k**(-5/3) * c, 'slategray', linestyle='--', lw = lw ) # linear equation (*c to move the intercept on log scale)\n",
    "ax2.text(ki+ 0.000028,intercept-40, 'k$^{-5/3}$', color = 'slategray', fontsize = 24) \n",
    "\n",
    "# same for large-scale\n",
    "intercept= 20\n",
    "ki =  0.0000025\n",
    "c= intercept / (ki)**(-3)\n",
    "k = np.linspace(ki, 1.5*10**(-5), 101)\n",
    "ax2.text(ki+ 0.0000038,1.4, 'k$^{-3}$', color = 'slategray', fontsize = 24)\n",
    "ax2.plot(k, k**(-3) * c, 'slategray', linestyle='dotted', lw =lw)\n",
    "\n",
    "plt.rcParams.update({'font.size': 20})\n",
    "ax.set_xlim(1500,0)\n",
    "ax.tick_params(axis='both', which='major', labelsize= ls)\n",
    "ax.tick_params(axis='both', which='minor', labelsize= ls)\n",
    "ax2.tick_params(axis='both', which='major', labelsize= ls )\n",
    "ax2.tick_params(axis='both', which='minor', labelsize=ls )\n",
    "\n",
    "##### compare to spectral slopes ### \n",
    "ax = plt.subplot(2,2,4)\n",
    "\n",
    "#ax.plot(k_era, slope_era, label = 'ERA5', lw = lw, color='steelblue')\n",
    "ax.plot(k_regcm, slope_regcm_200, label = 'RegCM', lw = lw, color='slategray')\n",
    "ax.plot(k_mpas, slope_mpas_200, label = 'MPAS', lw = lw, color='darkturquoise')\n",
    "ax.plot(k_icon, slope_icon_200, label = 'ICON2.6', lw = lw, color='mediumspringgreen')\n",
    "ax.plot(k_icon_guf, slope_guf_icon_200, label = 'ICON2.6.3', lw = lw, color='darkcyan')\n",
    "ax.plot(k_cclm, slope_cclm_200, label = 'CCLM', lw = lw, color='orangered')\n",
    "ax.plot(k_wrfd02, slope_wrfd02_200, label = 'WRF4km', lw = lw, color='k')\n",
    "ax.plot(k_wrf12km_200, slope_wrf12km_200, label = 'WRF12km', lw = lw, color='k', linestyle = 'dashed')\n",
    "ax.plot(k_cclm12, slope_cclm200_12, label = 'CCLM12km', lw = lw, color='orangered', linestyle = 'dashed')\n",
    "#ax.legend(fontsize = fs)\n",
    "ax.set_ylabel('Spectral slope', fontsize = fs )\n",
    "ax.invert_xaxis()\n",
    "ax.set_xscale('log')\n",
    "ax.axhline(y=-3, color =  'gray', linestyle='dotted', lw= lw)\n",
    "ax.axhline(y=-(5/3), color= 'gray', linestyle = 'dashed', lw = lw)\n",
    "ax.xaxis.grid(True)\n",
    "ax.yaxis.grid(False)\n",
    "ax.xaxis.grid(True, which ='minor')\n",
    "ax.yaxis.grid(False)\n",
    "ax.set_title('d)', loc = 'left', fontsize = 25  )\n",
    "\n",
    "# wavenumber x axis \n",
    "ax2 = ax.twiny()\n",
    "ax2.set_xscale('log')\n",
    "ax2.xaxis.grid(False)\n",
    "ax2.yaxis.grid(False)\n",
    "wn = lambda_to_k(np.array(ax.get_xbound()))\n",
    "ax2.set_xlim(wn[1], wn[0])\n",
    "ax2.set_ylim(ax.get_ybound()[0], ax.get_ybound()[1])\n",
    "ax.set_xlabel('wavelength $\\lambda$ [km]', fontsize = fs)\n",
    "\n",
    "\n",
    "ax.tick_params(axis='both', which='major', labelsize=ls)\n",
    "ax.tick_params(axis='both', which='minor', labelsize=ls)\n",
    "ax2.tick_params(axis='both', which='major', labelsize=ls)\n",
    "ax2.tick_params(axis='both', which='minor', labelsize=ls)\n",
    "\n",
    "## insert zoom in \n",
    "lw = 2.5\n",
    "ins = inset_axes(ax, width=\"55%\", height=\"28%\", loc=\"lower left\")\n",
    "ins.plot(K_regcm, slope_regcm200, label = 'RegCM', lw = lw, color='slategray')\n",
    "ins.plot(K_mpas, slope_mpas200, label = 'MPAS', lw = lw, color='darkturquoise')\n",
    "ins.plot(K_icon, slope_icon200, label = 'ICON2.6', lw = lw, color='mediumspringgreen')\n",
    "ins.plot(K_icon_guf, slope_guf_icon200, label = 'ICON2.6.3', lw = lw, color='darkcyan')\n",
    "ins.plot(K_cclm, slope_cclm200, label = 'CCLM', lw = lw, color='orangered')\n",
    "ins.plot(K_cclm12, slope_cclm20012, label = 'CCLM12km', lw = lw, color='orangered', linestyle = 'dashed')\n",
    "ins.plot(K_wrfd02, slope_wrfd02200, label = 'WRF4km', lw = lw, color='k')\n",
    "ins.plot(K_wrf12km200, slope_wrf12km200, label = 'WRF12km', lw = lw, color='k', linestyle = 'dashed')\n",
    "ins.invert_xaxis()\n",
    "ins.set_xscale('log')\n",
    "ins.axhline(y=-3, color =  'gray', linestyle='dotted', lw = 4.0 )\n",
    "ins.axhline(y=-(5/3), color= 'gray', linestyle = 'dashed', lw= 4.0)\n",
    "ins.xaxis.grid(True)\n",
    "ins.yaxis.grid(False)\n",
    "ins.xaxis.grid(True, which ='minor')\n",
    "ins.yaxis.grid(False)\n",
    "ins.set_xlim(1400, 200 )\n",
    "ins.set_ylim(-6,2)\n",
    "ins.set_xticks([10**3, 600, 400,300, 200])\n",
    "ins.set_xticklabels(['10$^3$', '600', '400','300', '200'])\n",
    "\n",
    "ins.tick_params(axis='both', which='major', labelsize= ls)\n",
    "ins.tick_params(axis='both', which='minor', labelsize= ls)\n",
    "ins.xaxis.set_label_position('top') \n",
    "ins.xaxis.tick_top()\n",
    "ins.yaxis.set_label_position('right') \n",
    "ins.yaxis.tick_right()\n",
    "\n",
    "\n",
    "plt.rcParams.update({'font.size': 22})\n",
    "plt.savefig('plots/KE_spectra_200hpa_500hpa_synoptic-zoom.png', bbox_inches = 'tight' , facecolor = 'white', transparent = None)\n",
    "plt.show()"
   ]
  },
  {
   "cell_type": "code",
   "execution_count": null,
   "metadata": {},
   "outputs": [],
   "source": [
    "plt.figure(figsize=(25,10))\n",
    "\n",
    "\n",
    "ax = plt.subplot(1,2,1)\n",
    "\n",
    "lw = 3.5\n",
    "fs = 20\n",
    "\n",
    "ax.plot(wavelength_era[1:], histogram_era, label = 'ERA5', lw = lw, color='steelblue')\n",
    "ax.plot(wavelength_mpas[1:], histogram_mpas, label = 'MPAS', lw = lw, color='darkturquoise')\n",
    "ax.plot(wavelength_icon[1:], histogram_icon, label = 'ICON', lw = lw, color='mediumseagreen')\n",
    "ax.plot(wavelength_regcm[1:], histogram_regcm, label = 'RegCM', lw = lw , color = 'slategray')\n",
    "ax.plot(wavelengths_cclm[1:], histograms_cclm, label = 'CCLM4km', lw = lw, color = 'orangered')\n",
    "ax.plot(wavelengths_cclm12[1:], histograms_cclm12, label = 'CCLM12km', lw = lw, color = 'orangered', linestyle = 'dashed')\n",
    "ax.plot(wavelength_wrf12km[1:], histogram_wrf12km, label = 'WRF12km', lw = 4, linestyle = 'dashed', color='k')\n",
    "ax.plot(wavelength_wrfd02[1:], histogram_wrfd02, label = 'WRF4km', lw = 4, color='k')\n",
    "ax.legend(fontsize = 18)\n",
    "\n",
    "# handle labels \n",
    "ax.set_xscale('log')\n",
    "ax.set_yscale('log')\n",
    "ax.xaxis.grid(True)\n",
    "ax.yaxis.grid(False)\n",
    "ax.xaxis.grid(True, which ='minor')\n",
    "ax.yaxis.grid(False)\n",
    "ax.invert_xaxis()\n",
    "ax.set_ylabel('KE @500hpa [m$^2$ s$^{-2}$]', fontsize = fs)\n",
    "ax.set_xlabel('wavelength $\\lambda$ [km]', fontsize = fs)\n",
    "\n",
    "# wavenumber x axis \n",
    "ax2 = ax.twiny()\n",
    "ax2.set_xscale('log')\n",
    "ax2.set_yscale('log')\n",
    "ax.xaxis.grid(True, which ='minor')\n",
    "ax.yaxis.grid(False, which ='minor')\n",
    "ax2.xaxis.grid(False)\n",
    "ax2.yaxis.grid(False)\n",
    "wn = lambda_to_k(np.array(ax.get_xbound()))\n",
    "ax2.set_xlim(wn[1], wn[0])\n",
    "ax2.set_ylim(ax.get_ybound()[0], ax.get_ybound()[1])\n",
    "ax2.set_xlabel('wavenumber k [rad m$^{-1}$]', fontsize = fs)\n",
    "ax.set_title('a)', loc = 'left', fontsize = 25  )\n",
    "\n",
    "\n",
    "# add theoretical slope for meso-scale \n",
    "intercept= 55 # y coordinate for start \n",
    "ki =  0.000012 # corresponding k coordinate on x axis for start \n",
    "c= intercept / (ki)**(-5/3) # get factor with which to multiply to relocate slope on y axis \n",
    "k = np.linspace(ki, 1.2 * 10**(-4), 101) # k values for x axis \n",
    "ax2.plot(k, k**(-5/3) * c, 'slategray', linestyle='--') # linear equation (*c to move the intercept on log scale)\n",
    "ax2.text(ki+ 0.000028,intercept-40, 'k$^{-5/3}$', color = 'slategray', fontsize = 24) \n",
    "\n",
    "\n",
    "\n",
    "# same for large-scale\n",
    "intercept= 8\n",
    "ki =  0.000004\n",
    "c= intercept / (ki)**(-3)\n",
    "k = np.linspace(ki, 2 *10**(-5), 101)\n",
    "ax2.text(ki+ 0.0000034,1.4, 'k$^{-3}$', color = 'slategray', fontsize = 24)\n",
    "ax2.plot(k, k**(-3) * c, 'slategray', linestyle='dotted')\n",
    "\n",
    "plt.rcParams.update({'font.size': 20})\n",
    "ax.set_xlim(1500,0)\n",
    "\n",
    "\n",
    "##### compare to spectral slopes ### \n",
    "ax = plt.subplot(1,2,2)\n",
    "\n",
    "#ax.plot(k_era, slope_era, label = 'ERA5', lw = lw, color='steelblue')\n",
    "ax.plot(k_regcm, slope_regcm, label = 'RegCM', lw = lw, color='slategray')\n",
    "ax.plot(k_mpas, slope_mpas, label = 'MPAS', lw = lw, color='darkturquoise')\n",
    "ax.plot(k_icon, slope_icon, label = 'ICON', lw = lw, color='mediumseagreen')\n",
    "ax.plot(k_cclm, slope_cclm, label = 'CCLM', lw = lw, color='orangered')\n",
    "ax.plot(k_cclm12, slope_cclm12, label = 'CCLM12km', lw = lw, color='orangered', linestyle = 'dashed')\n",
    "ax.plot(k_wrfd02, slope_wrfd02, label = 'WRF4km', lw = lw, color='k')\n",
    "ax.plot(k_wrf12km, slope_wrf12km, label = 'WRF12km', lw = lw, color='k', linestyle = 'dashed')\n",
    "#ax.legend(fontsize = fs)\n",
    "ax.set_ylabel('Spectral slope', fontsize = fs )\n",
    "ax.invert_xaxis()\n",
    "ax.set_xscale('log')\n",
    "ax.axhline(y=-3, color =  'gray', linestyle='dashed')\n",
    "ax.axhline(y=-(5/3), color= 'gray', linestyle = 'dashed')\n",
    "ax.xaxis.grid(True)\n",
    "ax.yaxis.grid(False)\n",
    "ax.xaxis.grid(True, which ='minor')\n",
    "ax.yaxis.grid(False)\n",
    "ax.set_title('b)', loc = 'left', fontsize = 25  )\n",
    "\n",
    "\n",
    "# wavenumber x axis \n",
    "ax2 = ax.twiny()\n",
    "ax2.set_xscale('log')\n",
    "ax2.xaxis.grid(False)\n",
    "ax2.yaxis.grid(False)\n",
    "wn = lambda_to_k(np.array(ax.get_xbound()))\n",
    "ax2.set_xlim(wn[1], wn[0])\n",
    "ax2.set_ylim(ax.get_ybound()[0], ax.get_ybound()[1])\n",
    "ax2.set_xlabel('wavenumber k [rad m$^{-1}$]', fontsize = fs)\n",
    "ax.set_xlabel('wavelength $\\lambda$ [km]', fontsize = fs)\n",
    "plt.savefig('plots/KE_spectra_500hpa.png', bbox_inches = 'right', facecolor = 'white', transparent = None)\n",
    "plt.show()"
   ]
  },
  {
   "cell_type": "code",
   "execution_count": null,
   "metadata": {},
   "outputs": [],
   "source": [
    "plt.figure(figsize=(14,10))\n",
    "ax = plt.subplot(1,1,1) \n",
    "\n",
    "lw = 2.2\n",
    "fs = 18 \n",
    "\n",
    "\n",
    "ax.plot(wavelength_wrf12km[1:], histogram_wrf12km, label = 'WRF12km', lw = 2.8, linestyle = 'dashed', color='k')\n",
    "ax.plot(wavelength_wrfd02[1:], histogram_wrfd02, label = 'WRF4km', lw = 2.8, color='k')\n",
    "ax.plot(wavelength_wrfd01[1:], histogram_wrfcum, label = 'WRF MSKF', lw = 2.8, color='blue')\n",
    "ax.plot(wavelength_wrfd01[1:], histogram_wrfnoah, label = 'WRF Noah', lw = 2.8, color='crimson')\n",
    "ax.legend(fontsize = 20)\n",
    "\n",
    "# handle labels \n",
    "ax.set_xscale('log')\n",
    "ax.set_yscale('log')\n",
    "ax.xaxis.grid(True)\n",
    "ax.yaxis.grid(False)\n",
    "ax.xaxis.grid(True, which ='minor')\n",
    "ax.yaxis.grid(False)\n",
    "ax.invert_xaxis()\n",
    "ax.set_ylabel('Kinetic energy spectrum @200hpa [m$^2$ s$^{-2}$]', fontsize = fs)\n",
    "ax.set_xlabel('wavelength $\\lambda$ [km]', fontsize = fs)\n",
    "\n",
    "# wavenumber x axis \n",
    "ax2 = ax.twiny()\n",
    "ax2.set_xscale('log')\n",
    "ax2.set_yscale('log')\n",
    "ax.xaxis.grid(True, which ='minor')\n",
    "ax.yaxis.grid(False, which ='minor')\n",
    "ax2.xaxis.grid(False)\n",
    "ax2.yaxis.grid(False)\n",
    "wn = lambda_to_k(np.array(ax.get_xbound()))\n",
    "ax2.set_xlim(wn[1], wn[0])\n",
    "ax2.set_ylim(ax.get_ybound()[0], ax.get_ybound()[1])\n",
    "ax2.set_xlabel('wavenumber k [rad m$^{-1}$]', fontsize = fs)\n",
    "\n",
    "\n",
    "# add theoretical slope for meso-scale \n",
    "intercept= 100 # y coordinate for start \n",
    "ki =  0.00001  # corresponding k coordinate on x axis for start \n",
    "c= intercept / (ki)**(-5/3) # get factor with which to multiply to relocate slope on y axis \n",
    "k = np.linspace(ki, 10**(-4), 101) # k values for x axis \n",
    "ax2.plot(k, k**(-5/3) * c, 'slategray', linestyle='--') # linear equation (*c to move the intercept on log scale)\n",
    "ax2.text(ki+ 0.00001,intercept-50, 'k$^{-5/3}$', color = 'slategray', fontsize = 24) \n",
    "\n",
    "# same for large-scale\n",
    "intercept= 50\n",
    "ki =  0.0000045\n",
    "c= intercept / (ki)**(-3)\n",
    "k = np.linspace(ki, 3*10**(-5), 101)\n",
    "ax2.text(ki+ 0.000003,1.4, 'k$^{-3}$', color = 'slategray', fontsize = 24)\n",
    "ax2.plot(k, k**(-3) * c, 'slategray', linestyle='dotted')\n",
    "\n",
    "plt.rcParams.update({'font.size': 20})\n",
    "\n",
    "plt.savefig('plots/convective_param.png')\n",
    "plt.show()"
   ]
  },
  {
   "cell_type": "markdown",
   "metadata": {},
   "source": [
    "## Influence of simulation period / simulated case\n"
   ]
  },
  {
   "cell_type": "code",
   "execution_count": null,
   "metadata": {},
   "outputs": [],
   "source": [
    "### MPAS ### \n",
    "mpas_dir = Path('/glade/scratch/kukulies/MPAS/')\n",
    "mpas_u_mon = xr.open_dataset(mpas_dir / 'ua500_CPTP-Monsoon-4_ECMWF-ERA5_evaluation_r1i1p1_PNNL-MPAS7.0P_v1_3hour_20140727-20140831.nc').ua500\n",
    "mpas_v_mon = xr.open_dataset(mpas_dir / 'va500_CPTP-Monsoon-4_ECMWF-ERA5_evaluation_r1i1p1_PNNL-MPAS7.0P_v1_3hour_20140727-20140831.nc').va500\n",
    "\n",
    "### ICON GUF ### \n",
    "icon_dir = Path('/glade/campaign/mmm/c3we/prein/CPTP/data/CASES_Ensemble/Monsoon/')\n",
    "icon_mon_u = xr.open_dataset(icon_dir / 'ua500_CPTP-Monsoon-4_ECMWF-ERA5_evaluation_r1i1p1_GUF-ICON2.6.3_v1_hour_20140727-20140901.nc')\n",
    "icon_mon_v = xr.open_dataset(icon_dir / 'va500_CPTP-Monsoon-4_ECMWF-ERA5_evaluation_r1i1p1_GUF-ICON2.6.3_v1_hour_20140727-20140901.nc')\n",
    "\n",
    "icon_mon_u = icon_mon_u.where( (icon_mon_u.lat > minlat) &  (icon_mon_u.lat < maxlat) &  (icon_mon_u.lon > minlon) & (icon_mon_u.lon < maxlon), drop = True)\n",
    "icon_mon_v = icon_mon_v.where( (icon_mon_v.lat > minlat) &  (icon_mon_v.lat < maxlat) &  (icon_mon_v.lon > minlon) & (icon_mon_v.lon < maxlon), drop = True)\n"
   ]
  },
  {
   "cell_type": "code",
   "execution_count": null,
   "metadata": {},
   "outputs": [],
   "source": [
    "wavelength_mon_icon, histogram_mon_icon = get_ke_spectrum(icon_mon_u.ua500.squeeze()[:, 1:, :-1], icon_mon_v.va500.squeeze()[:, 1:, :-1], dx = icon_dx.mean()/ 1000, resample = True)\n",
    "wavelength_mon_mpas, histogram__mon_mpas = get_ke_spectrum(mpas_u_mon[:, 1:, :-1], mpas_v_mon[:, 1:, :-1], dx = mpas_dx.mean()/ 1000)"
   ]
  },
  {
   "cell_type": "code",
   "execution_count": null,
   "metadata": {},
   "outputs": [],
   "source": [
    "plt.figure(figsize=(14,10))\n",
    "ax = plt.subplot(1,1,1) \n",
    "\n",
    "lw = 2.2\n",
    "fs = 18 \n",
    "\n",
    "\n",
    "ax.plot(wavelength_guf_icon[1:], histogram_guf_icon, label = 'ICON MCS', lw = 2.8, linestyle = 'dashed', color='darkblue')\n",
    "ax.plot(wavelength_guf_icon[1:], histogram_mon_icon, label = 'ICON Monsoon', lw = 2.8, color='darkblue')\n",
    "\n",
    "\n",
    "ax.plot(wavelength_mpas[1:], histogram_mpas, label = 'MPAS MCS', lw = 2.8, linestyle = 'dashed', color='crimson')\n",
    "ax.plot(wavelength_mon_mpas[1:], histogram__mon_mpas, label = 'MPAS Monsoon', lw = 2.8, color='crimson')\n",
    "\n",
    "\n",
    "ax.legend(fontsize = 20)\n",
    "\n",
    "# handle labels \n",
    "ax.set_xscale('log')\n",
    "ax.set_yscale('log')\n",
    "ax.xaxis.grid(True)\n",
    "ax.yaxis.grid(False)\n",
    "ax.xaxis.grid(True, which ='minor')\n",
    "ax.yaxis.grid(False)\n",
    "ax.invert_xaxis()\n",
    "ax.set_ylabel('Kinetic energy spectrum @200hpa [m$^2$ s$^{-2}$]', fontsize = fs)\n",
    "ax.set_xlabel('wavelength $\\lambda$ [km]', fontsize = fs)\n",
    "\n",
    "# wavenumber x axis \n",
    "ax2 = ax.twiny()\n",
    "ax2.set_xscale('log')\n",
    "ax2.set_yscale('log')\n",
    "ax.xaxis.grid(True, which ='minor')\n",
    "ax.yaxis.grid(False, which ='minor')\n",
    "ax2.xaxis.grid(False)\n",
    "ax2.yaxis.grid(False)\n",
    "wn = lambda_to_k(np.array(ax.get_xbound()))\n",
    "ax2.set_xlim(wn[1], wn[0])\n",
    "ax2.set_ylim(ax.get_ybound()[0], ax.get_ybound()[1])\n",
    "ax2.set_xlabel('wavenumber k [rad m$^{-1}$]', fontsize = fs)\n",
    "\n",
    "ax.tick_params(axis='both', which='major', labelsize=ls)\n",
    "ax.tick_params(axis='both', which='minor', labelsize=ls)\n",
    "ax2.tick_params(axis='both', which='major', labelsize=ls)\n",
    "ax2.tick_params(axis='both', which='minor', labelsize=ls)\n",
    "\n",
    "\n",
    "# add theoretical slope for meso-scale \n",
    "intercept= 100 # y coordinate for start \n",
    "ki =  0.00003  # corresponding k coordinate on x axis for start \n",
    "c= intercept / (ki)**(-5/3) # get factor with which to multiply to relocate slope on y axis \n",
    "k = np.linspace(ki, 0.3*10**(-3), 101) # k values for x axis \n",
    "ax2.plot(k, k**(-5/3) * c, 'slategray', linestyle='--') # linear equation (*c to move the intercept on log scale)\n",
    "ax2.text(ki+ 0.00001,intercept-50, 'k$^{-5/3}$', color = 'slategray', fontsize = 24) \n",
    "\n",
    "# same for large-scale\n",
    "intercept= 50\n",
    "ki =  0.0000045\n",
    "c= intercept / (ki)**(-3)\n",
    "k = np.linspace(ki, 3*10**(-5), 101)\n",
    "ax2.text(ki+ 0.000003,1.4, 'k$^{-3}$', color = 'slategray', fontsize = 24)\n",
    "ax2.plot(k, k**(-3) * c, 'slategray', linestyle='dotted')\n",
    "\n",
    "plt.rcParams.update({'font.size': 20})\n",
    "\n",
    "plt.savefig('plots/energy_spectra_case_sensitivity.png', bbox_inches = 'tight')\n",
    "plt.show()"
   ]
  },
  {
   "cell_type": "code",
   "execution_count": null,
   "metadata": {},
   "outputs": [],
   "source": []
  },
  {
   "cell_type": "code",
   "execution_count": null,
   "metadata": {},
   "outputs": [],
   "source": []
  },
  {
   "cell_type": "code",
   "execution_count": null,
   "metadata": {},
   "outputs": [],
   "source": []
  },
  {
   "cell_type": "code",
   "execution_count": null,
   "metadata": {},
   "outputs": [],
   "source": [
    "plt.figure(figsize=(14,10))\n",
    "ax = plt.subplot(1,1,1) \n",
    "\n",
    "lw = 2.2\n",
    "fs = 18 \n",
    "\n",
    "ax.plot(wavelength_mpas[1:], histogram_mpas, label = 'MPAS', lw = lw, color='darkturquoise')\n",
    "ax.plot(wavelength_wrf12km[1:], histogram_wrf12km, label = 'WRF12km', lw = 2.8, linestyle = 'dashed', color='k')\n",
    "ax.plot(wavelength_wrfd02[1:], histogram_wrfd02, label = 'WRF4km', lw = 2.8, color='k')\n",
    "ax.legend(fontsize = 20)\n",
    "\n",
    "# handle labels \n",
    "ax.set_xscale('log')\n",
    "ax.set_yscale('log')\n",
    "ax.xaxis.grid(True)\n",
    "ax.yaxis.grid(False)\n",
    "ax.xaxis.grid(True, which ='minor')\n",
    "ax.yaxis.grid(False)\n",
    "ax.invert_xaxis()\n",
    "ax.set_ylabel('Kinetic energy spectrum @200hpa [m$^2$ s$^{-2}$]', fontsize = fs)\n",
    "ax.set_xlabel('wavelength $\\lambda$ [km]', fontsize = fs)\n",
    "\n",
    "# wavenumber x axis \n",
    "ax2 = ax.twiny()\n",
    "ax2.set_xscale('log')\n",
    "ax2.set_yscale('log')\n",
    "ax.xaxis.grid(True, which ='minor')\n",
    "ax.yaxis.grid(False, which ='minor')\n",
    "ax2.xaxis.grid(False)\n",
    "ax2.yaxis.grid(False)\n",
    "wn = lambda_to_k(np.array(ax.get_xbound()))\n",
    "ax2.set_xlim(wn[1], wn[0])\n",
    "ax2.set_ylim(ax.get_ybound()[0], ax.get_ybound()[1])\n",
    "ax2.set_xlabel('wavenumber k [rad m$^{-1}$]', fontsize = fs)\n",
    "\n",
    "\n",
    "# add theoretical slope for meso-scale \n",
    "intercept= 100 # y coordinate for start \n",
    "ki =  0.00001  # corresponding k coordinate on x axis for start \n",
    "c= intercept / (ki)**(-5/3) # get factor with which to multiply to relocate slope on y axis \n",
    "k = np.linspace(ki, 10**(-4), 101) # k values for x axis \n",
    "ax2.plot(k, k**(-5/3) * c, 'slategray', linestyle='--') # linear equation (*c to move the intercept on log scale)\n",
    "ax2.text(ki+ 0.00001,intercept-50, 'k$^{-5/3}$', color = 'slategray', fontsize = 24) \n",
    "\n",
    "# same for large-scale\n",
    "intercept= 50\n",
    "ki =  0.0000045\n",
    "c= intercept / (ki)**(-3)\n",
    "k = np.linspace(ki, 3*10**(-5), 101)\n",
    "ax2.text(ki+ 0.000003,1.4, 'k$^{-3}$', color = 'slategray', fontsize = 24)\n",
    "ax2.plot(k, k**(-3) * c, 'slategray', linestyle='dotted')\n",
    "\n",
    "plt.rcParams.update({'font.size': 20})\n",
    "\n",
    "plt.savefig('plots/KE_200hpa.png')\n",
    "plt.show()"
   ]
  },
  {
   "cell_type": "code",
   "execution_count": null,
   "metadata": {},
   "outputs": [],
   "source": [
    "plt.figure(figsize=(14,10))\n",
    "ax = plt.subplot(1,1,1)\n",
    "\n",
    "lw = 2.2\n",
    "fs = 18 \n",
    "\n",
    "ax.plot(wavelength_era[1:], histogram_era, label = 'ERA5', lw = lw, color='steelblue')\n",
    "ax.plot(wavelength_mpas[1:], histogram_mpas, label = 'MPAS', lw = lw, color='darkturquoise')\n",
    "ax.plot(wavelength_icon[1:], histogram_icon, label = 'ICON', lw = lw, color='mediumseagreen')\n",
    "ax.plot(wavelength_regcm[1:], histogram_regcm, label = 'RegCM', lw = lw , color = 'gray')\n",
    "ax.plot(wavelengths_cclm12[1:], histograms_cclm12, label = 'CCLM 12km', lw = lw, color = 'orangered', linestyle ='dashed')\n",
    "ax.plot(wavelengths_cclm[1:], histograms_cclm, label = 'CCLM 2.2km', lw = lw, color = 'orangered')\n",
    "ax.plot(wavelength_wrf12km[1:], histogram_wrf12km, label = 'WRF 12km', lw = 2.8, linestyle = 'dashed', color='k')\n",
    "ax.plot(wavelength_wrfd02[1:], histogram_wrfd02, label = 'WRF 4km', lw = 2.8, color='k')\n",
    "\n",
    "\n",
    "ax.legend(fontsize = 20)\n",
    "\n",
    "# handle labels \n",
    "ax.set_xscale('log')\n",
    "ax.set_yscale('log')\n",
    "ax.xaxis.grid(True)\n",
    "ax.yaxis.grid(False)\n",
    "ax.xaxis.grid(True, which ='minor')\n",
    "ax.yaxis.grid(False)\n",
    "ax.invert_xaxis()\n",
    "ax.set_ylabel('Kinetic energy spectrum @500hpa [m$^2$ s$^{-2}$]', fontsize = fs)\n",
    "ax.set_xlabel('wavelength $\\lambda$ [km]', fontsize = fs)\n",
    "ax.set_xlim(1500,0)\n",
    "\n",
    "# wavenumber x axis \n",
    "ax2 = ax.twiny()\n",
    "ax2.set_xscale('log')\n",
    "ax2.set_yscale('log')\n",
    "ax.xaxis.grid(True, which ='minor')\n",
    "ax.yaxis.grid(False, which ='minor')\n",
    "ax2.xaxis.grid(False)\n",
    "ax2.yaxis.grid(False)\n",
    "wn = lambda_to_k(np.array(ax.get_xbound()))\n",
    "ax2.set_xlim(wn[1], wn[0])\n",
    "ax2.set_ylim(ax.get_ybound()[0], ax.get_ybound()[1])\n",
    "ax2.set_xlabel('wavenumber k [rad m$^{-1}$]', fontsize = fs)\n",
    "ax.set_title('a)', loc = 'left', fontsize = 25  )\n",
    "\n",
    "\n",
    "\n",
    "# add theoretical slope for meso-scale \n",
    "intercept= 100 # y coordinate for start \n",
    "ki =  0.00001  # corresponding k coordinate on x axis for start \n",
    "c= intercept / (ki)**(-5/3) # get factor with which to multiply to relocate slope on y axis \n",
    "k = np.linspace(ki, 10**(-4), 101) # k values for x axis \n",
    "ax2.plot(k, k**(-5/3) * c, 'slategray', linestyle='--') # linear equation (*c to move the intercept on log scale)\n",
    "ax2.text(ki+ 0.00001,intercept-50, 'k$^{-5/3}$', color = 'slategray', fontsize = 24) \n",
    "\n",
    "# same for large-scale\n",
    "intercept= 50\n",
    "ki =  0.0000045\n",
    "c= intercept / (ki)**(-3)\n",
    "k = np.linspace(ki, 3*10**(-5), 101)\n",
    "ax2.text(ki+ 0.000003,1.4, 'k$^{-3}$', color = 'slategray', fontsize = 24)\n",
    "ax2.plot(k, k**(-3) * c, 'slategray', linestyle='dotted')\n",
    "\n",
    "plt.rcParams.update({'font.size': 20})\n",
    "plt.savefig('plots/kinetic_energy_spectra_500hpa.png')\n",
    "\n",
    "plt.show()"
   ]
  },
  {
   "cell_type": "markdown",
   "metadata": {},
   "source": [
    "### Theoretical slopes for loss of kinetic energy with wavelength (retrieved from observations)"
   ]
  },
  {
   "cell_type": "code",
   "execution_count": null,
   "metadata": {},
   "outputs": [],
   "source": [
    "plt.figure(figsize= (10,7))\n",
    "k = np.arange(10e-1,10e1, 1)\n",
    "plt.plot(k, k**(-3), label = 'synoptic')\n",
    "plt.plot(k, k**(-5/3) , label = 'transition to meso-scale')\n",
    "plt.legend(fontsize = 18)\n",
    "plt.xscale('log')\n",
    "plt.yscale('log')"
   ]
  },
  {
   "cell_type": "code",
   "execution_count": null,
   "metadata": {},
   "outputs": [],
   "source": [
    "def lambda_to_k(wavelengths):\n",
    "    \"\"\"\n",
    "    This function convert wavelengths lambda in km to wavenumbers k \n",
    "    in rad/m. \n",
    "    \"\"\"\n",
    "    return 2* np.pi/ (wavelengths * 1000)"
   ]
  },
  {
   "cell_type": "code",
   "execution_count": null,
   "metadata": {},
   "outputs": [],
   "source": [
    "# get wavelengths and to wavenumber in rad/m (example based on ERA5)\n",
    "dx = 30\n",
    "Ni = uwind.longitude.size\n",
    "Nj = uwind.latitude.size\n",
    "wavelengths = k_to_lambda(Ni, Nj, dx)\n",
    "wavenumbers = lambda_to_k(wavelengths)\n",
    "\n",
    "plt.figure(figsize=(14,4))\n",
    "ax = plt.subplot(1,2,1)\n",
    "m=ax.pcolormesh(wavelengths, norm=LogNorm(10e1,10e2))\n",
    "plt.colorbar(m, label = 'wavelength [km]')\n",
    "ax2 = plt.subplot(1,2,2)\n",
    "m2 = ax2.pcolormesh(wavenumbers)\n",
    "plt.colorbar(m2, label = 'wavenumber [rad m$^{-1}$]')\n",
    "plt.show()"
   ]
  },
  {
   "cell_type": "code",
   "execution_count": null,
   "metadata": {},
   "outputs": [],
   "source": []
  },
  {
   "cell_type": "code",
   "execution_count": null,
   "metadata": {},
   "outputs": [],
   "source": []
  },
  {
   "cell_type": "code",
   "execution_count": null,
   "metadata": {},
   "outputs": [],
   "source": []
  },
  {
   "cell_type": "code",
   "execution_count": null,
   "metadata": {},
   "outputs": [],
   "source": []
  },
  {
   "cell_type": "code",
   "execution_count": null,
   "metadata": {},
   "outputs": [],
   "source": []
  },
  {
   "cell_type": "code",
   "execution_count": null,
   "metadata": {},
   "outputs": [],
   "source": []
  },
  {
   "cell_type": "code",
   "execution_count": null,
   "metadata": {},
   "outputs": [],
   "source": []
  },
  {
   "cell_type": "code",
   "execution_count": null,
   "metadata": {},
   "outputs": [],
   "source": []
  },
  {
   "cell_type": "code",
   "execution_count": null,
   "metadata": {},
   "outputs": [],
   "source": []
  },
  {
   "cell_type": "markdown",
   "metadata": {},
   "source": [
    "##### Notes...."
   ]
  },
  {
   "cell_type": "code",
   "execution_count": null,
   "metadata": {},
   "outputs": [],
   "source": [
    "# load data and calculate wind speed \n",
    "datasets = dict()\n",
    "u500= dict()\n",
    "v500 = dict()\n",
    "datadir = Path('/glade/scratch/kukulies/wrf_processed/')\n",
    "\n",
    "u500['WRF4km_d01']= xr.open_dataset(datadir/ 'WRF4km_u500hpa.nc')\n",
    "u500['WRF4km_d02']= xr.open_dataset(datadir/ 'WRF4km_l_u500hpa.nc')\n",
    "u500['WRF12km'] = xr.open_dataset(datadir/ 'WRF12km_u500hpa_all.nc')\n",
    "u500['WRF4km_d03']= xr.open_dataset(datadir/ 'WRF4km_5deg_u500hpa.nc')\n",
    "u500['WRF_nudging'] = xr.open_dataset(datadir/ 'WRF4km_spectral_u500hpa.nc')\n",
    "\n",
    "v500['WRF4km_d01']= xr.open_dataset(datadir/ 'WRF4km_v500hpa.nc')\n",
    "v500['WRF4km_d02']= xr.open_dataset(datadir/ 'WRF4km_l_v500hpa.nc')\n",
    "v500['WRF12km'] = xr.open_dataset(datadir/ 'WRF12km_v500hpa_all.nc')\n",
    "v500['WRF4km_d03']= xr.open_dataset(datadir/ 'WRF4km_5deg_v500hpa.nc')\n",
    "v500['WRF_nudging'] = xr.open_dataset(datadir/ 'WRF4km_spectral_v500hpa.nc')\n",
    "v500['WRF12km']['XLAT'] = xr.open_dataset(datadir/ 'WRF12km_u500hpa_all.nc').XLAT\n",
    "v500['WRF12km']['XLONG']  = xr.open_dataset(datadir/ 'WRF12km_u500hpa_all.nc').XLONG\n",
    "\n",
    "\n",
    "for key in u500.keys():\n",
    "    u500[key] = subset_domain(u500[key] , minlon, maxlon, minlat, maxlat, 'XLONG','XLAT')\n",
    "    v500[key] = subset_domain(v500[key] , minlon, maxlon, minlat, maxlat, 'XLONG','XLAT')\n",
    "    datasets[key]= u500[key].U_PL.values"
   ]
  },
  {
   "cell_type": "code",
   "execution_count": null,
   "metadata": {},
   "outputs": [],
   "source": [
    "# mean over time \n",
    "data = dict()\n",
    "data['WRF4km_d01'] =np.nanmean(datasets['WRF4km_d01'], axis = 0)\n",
    "print(data['WRF4km_d01'].shape)\n",
    "data['WRF4km_d02']= np.nanmean(datasets['WRF4km_d02'], axis = 2)\n",
    "print(data['WRF4km_d02'].shape)\n",
    "data['WRF12km']= np.nanmean(datasets['WRF12km'], axis  = 2 )\n",
    "print(data['WRF12km'].shape)\n",
    "data['WRF4km_d03']= np.nanmean(datasets['WRF4km_d03'], axis  = 2)\n",
    "print(data['WRF4km_d03'].shape)\n",
    "\n",
    "wavelengths = dict()\n",
    "histogram = dict()\n",
    "for key in data.keys():\n",
    "    precip_spectral = fft.dctn(data[key], norm ='ortho')\n",
    "    variance =  get_variances(precip_spectral)\n",
    "    if '12' in key:\n",
    "        dx = 12\n",
    "    else:\n",
    "        dx = 4\n",
    "    wavelengths[key], histogram[key] = get_power_spectrum(variance, dx)"
   ]
  },
  {
   "cell_type": "code",
   "execution_count": null,
   "metadata": {},
   "outputs": [],
   "source": [
    "plt.figure(figsize=(14,7))\n",
    "ax1= plt.subplot(1, 1, 1)\n",
    "for key in data.keys():\n",
    "    ax1.plot(wavelengths[key][:-1], histogram[key], label = key)\n",
    "    ax1.set_xscale('log')\n",
    "    ax1.set_yscale('log')\n",
    "    \n",
    "plt.legend(fontsize =17)\n",
    "### ADD TERRAIN \n",
    "ax2 = ax1.twinx()  # instantiate a second axes that shares the same x-axis\n",
    "ax2.plot(wavelengths_terrain['WRF12km'][1:], histograms_terrain['WRF12km'], label = 'WRF12km terrain', lw = lw, color = 'k',linestyle = '--')\n",
    "ax2.plot(wavelengths_terrain['WRF4km'][1:], histograms_terrain['WRF4km'], label = 'WRF4km terrain', lw = lw, color = 'k')\n",
    "\n",
    "ax2.set_xscale('log')\n",
    "ax2.set_yscale('log')\n",
    "ax2.xaxis.grid(True)\n",
    "ax2.yaxis.grid(False)\n",
    "ax1.xaxis.grid(True, which ='minor')\n",
    "ax1.yaxis.grid(False)\n",
    "\n",
    "ax2.set_xlim(0,750)\n",
    "ax2.set_ylim(0,10**5)\n",
    "ax1.set_ylim(0,1)\n",
    "#plt.legend(fontsize =17)\n",
    "plt.xscale('log')\n",
    "plt.yscale('log')\n",
    "plt.grid(True, which = 'both', axis = 'x', linestyle= '--')"
   ]
  },
  {
   "cell_type": "code",
   "execution_count": null,
   "metadata": {},
   "outputs": [],
   "source": [
    "### check power spectra of observations as well ###\n",
    "\n",
    "# get power spectrum for GPM data \n",
    "gpm_data = Path('/glade/u/home/kukulies/data/obs/gpm/hourly/')\n",
    "gpm = xr.open_dataset(gpm_data / 'gpm_case_all.nc').precipitationCal * 0.5 \n",
    "gpm = gpm.transpose('time', 'lat', 'lon')\n",
    "dx = 14.126\n",
    "gpm_wavelengths, gpm_histo = hourly_power_spectrum(ds=gpm, dx=dx)\n",
    "\n",
    "# get power spectrum for ERA5 precip \n",
    "era_precip_ds = xr.open_mfdataset('/glade/u/home/kukulies/data/ERA5/*PRCP*')\n",
    "start = '2008-07-18-00'\n",
    "end =  '2008-07-24-23'\n",
    "era = analysis.select_time(era_precip_ds, start, end, 'time', era_precip_ds.time.values).tp * 1000 \n",
    "dx = 27\n",
    "era_wavelengths, era_histo = hourly_power_spectrum(ds=era, dx=dx)"
   ]
  }
 ],
 "metadata": {
  "kernelspec": {
   "display_name": "Python 3 (ipykernel)",
   "language": "python",
   "name": "python3"
  },
  "language_info": {
   "codemirror_mode": {
    "name": "ipython",
    "version": 3
   },
   "file_extension": ".py",
   "mimetype": "text/x-python",
   "name": "python",
   "nbconvert_exporter": "python",
   "pygments_lexer": "ipython3",
   "version": "3.11.6"
  }
 },
 "nbformat": 4,
 "nbformat_minor": 4
}
