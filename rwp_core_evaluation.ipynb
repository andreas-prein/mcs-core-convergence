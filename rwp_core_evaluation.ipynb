{
 "cells": [
  {
   "cell_type": "code",
   "execution_count": 1,
   "metadata": {},
   "outputs": [],
   "source": [
    "#!/usr/bin/env python"
   ]
  },
  {
   "cell_type": "markdown",
   "metadata": {},
   "source": [
    "# rwp_core_evaluation.ipynb"
   ]
  },
  {
   "cell_type": "code",
   "execution_count": 1,
   "metadata": {},
   "outputs": [],
   "source": [
    "from dateutil import rrule\n",
    "import datetime\n",
    "from datetime import timedelta\n",
    "import glob\n",
    "from netCDF4 import Dataset\n",
    "import sys, traceback\n",
    "import dateutil.parser as dparser\n",
    "import string\n",
    "from pdb import set_trace as stop\n",
    "import numpy as np\n",
    "import numpy.ma as ma\n",
    "import os\n",
    "# from mpl_toolkits import basemap\n",
    "# import ESMF\n",
    "import pickle\n",
    "import subprocess\n",
    "import pandas as pd\n",
    "from scipy import stats\n",
    "import copy\n",
    "import matplotlib.pyplot as plt\n",
    "import matplotlib.colors as colors\n",
    "import matplotlib as mpl\n",
    "import pylab as plt\n",
    "import random\n",
    "import scipy.ndimage as ndimage\n",
    "import scipy\n",
    "import shapefile\n",
    "import matplotlib.path as mplPath\n",
    "from matplotlib.patches import Polygon as Polygon2\n",
    "# Cluster specific modules\n",
    "from scipy.cluster.hierarchy import dendrogram, linkage\n",
    "from scipy.cluster.hierarchy import cophenet\n",
    "from scipy.spatial.distance import pdist\n",
    "from scipy.cluster.hierarchy import fcluster\n",
    "from scipy.cluster.vq import kmeans2,vq, whiten\n",
    "from scipy.ndimage import gaussian_filter\n",
    "# import seaborn as sns\n",
    "# import metpy.calc as mpcalc\n",
    "import shapefile as shp\n",
    "import sys \n",
    "import matplotlib.gridspec as gridspec\n",
    "import seaborn\n",
    "# from mpl_toolkits.basemap import Basemap, cm\n",
    "\n",
    "from tqdm import tqdm\n",
    "import warnings\n",
    "warnings.filterwarnings(\"ignore\")"
   ]
  },
  {
   "cell_type": "code",
   "execution_count": 2,
   "metadata": {},
   "outputs": [],
   "source": [
    "from draft_functions import core_2d_properties, core_3d_properties, \\\n",
    "                            watersheding, interpolate_obs, remove_noise"
   ]
  },
  {
   "cell_type": "code",
   "execution_count": 3,
   "metadata": {},
   "outputs": [],
   "source": [
    "vwp_dir_obs = '/glade/campaign/mmm/c3we/mingge/WRF_DOE/ARM_DATA/RWP/' # SGP_RWP/'\n",
    "\n",
    "loc = ['SGP', 'MAO']\n",
    "draft_th = [1.5,3.0,6.0,10.0]\n",
    "direction = ['up', 'down']\n",
    "dx_m_all = [4000,2000,1000,500,250,125] \n",
    "DT_all = [16,8,4,2,1,0.5]\n",
    "\n",
    "outdir = '/glade/campaign/mmm/c3we/prein/Papers/2023_Conv-Cores/data/core_stats_rwp/'\n",
    "if not os.path.exists(outdir):\n",
    "    os.makedirs(outdir)\n",
    "    \n",
    "# speed_ca_median = 15"
   ]
  },
  {
   "cell_type": "code",
   "execution_count": 4,
   "metadata": {},
   "outputs": [],
   "source": [
    "# observed MCS speed from Dié\n",
    "date_mao = ['20140319','20140320','20140331','20140401','20140413','20140421','20140509','20140616','20140619','20140703','20140709','20140711','20140712','20140816','20141004','20141015','20141018','20141120','20141127','20141210','20141214','20150109','20150110','20150119','20150303','20150311','20150328','20150329','20150331','20150412','20150425','20150607','20150621','20151106','20151126']\n",
    "speed_mao = [8.77737,10.660899,8.080038,11.267282,7.2655783,4.816736,5.3585887,5.8819156,11.999847,7.9360313,8.378115,8.336473,8.598592,10.021737,7.2725606,12.406981,8.026962,3.5772574,2.265888,5.3527846,2.7071981,9.480533,9.050027,5.9475303,6.521563,8.723135,5.7211857,4.867622,5.989916,9.14135,7.3281994,6.6606317,11.323382,2.045225,2.8050492]\n",
    "\n",
    "date_sgp = ['20120531','20140628','20130509','20120615','20140710','20130605','20160308','20130617','20160417','20140602','20160618','20140605','20160729','20140607','20120429','20140612']\n",
    "speed_sgp = [18.1,19.9,21.8,16.2,15.9,10.3,16.1,17.5,15.3,18.5,19.9,21.8,10.3,21.6,18.5,15.3]"
   ]
  },
  {
   "cell_type": "code",
   "execution_count": 8,
   "metadata": {},
   "outputs": [
    {
     "name": "stdout",
     "output_type": "stream",
     "text": [
      "7.274119540000001\n",
      "2.7070257671852205\n"
     ]
    }
   ],
   "source": [
    "print(np.mean(speed_mao))\n",
    "print(np.std(speed_mao))"
   ]
  },
  {
   "cell_type": "code",
   "execution_count": 9,
   "metadata": {},
   "outputs": [
    {
     "name": "stdout",
     "output_type": "stream",
     "text": [
      "17.3125\n",
      "3.4157493687330165\n"
     ]
    }
   ],
   "source": [
    "print(np.mean(speed_sgp))\n",
    "print(np.std(speed_sgp))"
   ]
  },
  {
   "cell_type": "code",
   "execution_count": 7,
   "metadata": {
    "tags": []
   },
   "outputs": [
    {
     "name": "stderr",
     "output_type": "stream",
     "text": [
      "100%|██████████| 48/48 [36:52<00:00, 46.09s/it]\n",
      "  2%|▏         | 1/42 [00:10<07:06, 10.41s/it]"
     ]
    },
    {
     "name": "stdout",
     "output_type": "stream",
     "text": [
      "    no mach found\n"
     ]
    },
    {
     "name": "stderr",
     "output_type": "stream",
     "text": [
      "  7%|▋         | 3/42 [00:20<04:14,  6.53s/it]"
     ]
    },
    {
     "name": "stdout",
     "output_type": "stream",
     "text": [
      "    no mach found\n"
     ]
    },
    {
     "name": "stderr",
     "output_type": "stream",
     "text": [
      " 12%|█▏        | 5/42 [00:31<03:36,  5.85s/it]"
     ]
    },
    {
     "name": "stdout",
     "output_type": "stream",
     "text": [
      "    no mach found\n"
     ]
    },
    {
     "name": "stderr",
     "output_type": "stream",
     "text": [
      " 21%|██▏       | 9/42 [01:25<06:24, 11.65s/it]"
     ]
    },
    {
     "name": "stdout",
     "output_type": "stream",
     "text": [
      "    no mach found\n"
     ]
    },
    {
     "name": "stderr",
     "output_type": "stream",
     "text": [
      " 33%|███▎      | 14/42 [02:23<06:03, 12.98s/it]"
     ]
    },
    {
     "name": "stdout",
     "output_type": "stream",
     "text": [
      "    no mach found\n"
     ]
    },
    {
     "name": "stderr",
     "output_type": "stream",
     "text": [
      " 48%|████▊     | 20/42 [05:03<07:30, 20.47s/it]"
     ]
    },
    {
     "name": "stdout",
     "output_type": "stream",
     "text": [
      "    no mach found\n"
     ]
    },
    {
     "name": "stderr",
     "output_type": "stream",
     "text": [
      " 55%|█████▍    | 23/42 [07:19<10:10, 32.13s/it]"
     ]
    },
    {
     "name": "stdout",
     "output_type": "stream",
     "text": [
      "    no mach found\n"
     ]
    },
    {
     "name": "stderr",
     "output_type": "stream",
     "text": [
      " 71%|███████▏  | 30/42 [10:22<04:22, 21.84s/it]"
     ]
    },
    {
     "name": "stdout",
     "output_type": "stream",
     "text": [
      "    no mach found\n"
     ]
    },
    {
     "name": "stderr",
     "output_type": "stream",
     "text": [
      " 93%|█████████▎| 39/42 [12:21<00:46, 15.49s/it]"
     ]
    },
    {
     "name": "stdout",
     "output_type": "stream",
     "text": [
      "    no mach found\n"
     ]
    },
    {
     "name": "stderr",
     "output_type": "stream",
     "text": [
      "100%|██████████| 42/42 [12:50<00:00, 18.36s/it]\n"
     ]
    }
   ],
   "source": [
    "for lo in range(len(loc)):\n",
    "    files = glob.glob(vwp_dir_obs + loc[lo] + '_ALL/*.cdf')\n",
    "    for fi in tqdm(range(len(files))):\n",
    "        \n",
    "        cores_vp_up_obs = {}\n",
    "        cores_vp_down_obs = {}\n",
    "        \n",
    "        # get the observed movement speed\n",
    "        if 'sgp' in files[fi]:\n",
    "            date_act = date_sgp\n",
    "            speed_act = speed_sgp\n",
    "        else:\n",
    "            date_act = date_mao\n",
    "            speed_act = speed_mao\n",
    "        sel_case = [date_act[da] == files[fi].split('.')[-3] for da in range(len(date_act))]\n",
    "        if lo == 0:\n",
    "            selection = np.array([date_act[da] == files[fi].split('.')[-3] for da in range(len(date_act))])\n",
    "            if np.sum(selection) == 0:\n",
    "                print('    no mach found')\n",
    "                continue\n",
    "            speed_ca_median = np.array(speed_act)[selection][0]\n",
    "        else:\n",
    "            selection = np.array([date_act[da] == files[fi].split('.')[-2] for da in range(len(date_act))])\n",
    "            if np.sum(selection) == 0:\n",
    "                print('    no mach found')\n",
    "                continue\n",
    "            speed_ca_median = np.array(speed_act)[selection][0]\n",
    "        \n",
    "        # # ---------------------------------------------\n",
    "        # # calculate properties from RWP        \n",
    "        ncfile = Dataset(files[fi])\n",
    "        dbz_obs = np.squeeze(ncfile.variables[\"ReflectivityUAZR\"][:]).T\n",
    "        w_obs = np.squeeze(ncfile.variables[\"VerticalVelocity\"][:]).T\n",
    "        time_obs = np.squeeze(ncfile.variables[\"time_offset\"][:])\n",
    "        obs_start = ncfile.variables[\"time_offset\"].units\n",
    "        height_obs = np.squeeze(ncfile.variables[\"height\"][:])\n",
    "        ncfile.close()\n",
    "        \n",
    "        # create the time vector\n",
    "        obs_start = datetime.datetime(int(obs_start[14:18]), \n",
    "                              int(obs_start[19:21]), \n",
    "                              int(obs_start[22:24]),\n",
    "                              int(obs_start[25:27]),\n",
    "                              int(obs_start[28:30]))\n",
    "        obs_dt = np.mean(time_obs[1:] - time_obs[:-1])\n",
    "        obs_end = obs_start + timedelta(seconds=obs_dt*len(time_obs))\n",
    "        obs_time = pd.date_range(obs_start, end=obs_end, freq=str(obs_dt)[:1]+'s' + str(obs_dt)[2:4]+'ms')\n",
    "        \n",
    "        filled_obs = interpolate_obs(w_obs)\n",
    "        # set grid cells that are more than two cells appard to nan again\n",
    "        nan_to_one = np.isnan(w_obs)\n",
    "        nan_to_one = np.apply_along_axis(lambda m: np.convolve(m, np.ones(5), mode='same'), axis=1, arr=nan_to_one)\n",
    "        filled_obs[nan_to_one >= 3] = np.nan\n",
    "        \n",
    "        filled_obs_clean = remove_noise(filled_obs)\n",
    "        filled_obs_clean = interpolate_obs(filled_obs_clean)\n",
    "        filled_obs_clean[nan_to_one >= 3] = np.nan\n",
    "        \n",
    "        time_to_length_obs = speed_ca_median * np.array(range(0,len(time_obs)))*6\n",
    "        \n",
    "        for dx in range(len(dx_m_all)):\n",
    "            outfile = outdir + files[fi].split('/')[-1][:-4] +'_'+ str(dx_m_all[dx]) +'m.pkl'\n",
    "            if os.path.exists(outfile) == False:\n",
    "                for th in range(len(draft_th)):\n",
    "                    for di in range(len(direction)):\n",
    "                        if direction[di] == 'up':\n",
    "                            dire_sign = 1\n",
    "                        elif direction[di] == 'down':\n",
    "                            dire_sign = -1\n",
    "    \n",
    "                        # virtual profiler draft characteristics\n",
    "                        updrafts = np.copy(filled_obs_clean) * dire_sign\n",
    "                        \n",
    "                        bins_per_int = int(np.round(dx_m_all[dx]/time_to_length_obs[1],0))\n",
    "                        intervals = int(updrafts.shape[1]/bins_per_int)\n",
    "                        updrafts = np.copy(updrafts[:, :intervals * bins_per_int])\n",
    "                        updrafts = np.mean(np.reshape(updrafts, \n",
    "                                                  (updrafts.shape[0], intervals, bins_per_int)), axis = 2)\n",
    "                        updrafts_th = updrafts > draft_th[th]\n",
    "                        cloudmask = np.isnan(updrafts)\n",
    "    \n",
    "                        # rgiObjectsUD, nr_objectsUD = ndimage.label(updrafts_th,structure = np.ones((3,3)))\n",
    "                        \n",
    "                        \n",
    "                        # # watershedding\n",
    "                        # coords = peak_local_max(np.array(updrafts), \n",
    "                        #                         min_distance = 16,\n",
    "                        #                         threshold_abs = draft_th[th],\n",
    "                        #                         labels = updrafts_th\n",
    "                        #                        )\n",
    "                        # mask = np.zeros(updrafts.shape, dtype=bool)\n",
    "                        # mask[tuple(coords.T)] = True\n",
    "                        # markers, _ = ndi.label(mask)\n",
    "                        # data_2d_watershed[tt,:,:] = watershed(image = np.array(data[tt,:])*-1,  # watershedding field with maxima transformed to minima\n",
    "                        #                    markers = markers, # maximum points in 3D matrix\n",
    "                        #                    connectivity = np.ones((3, 3)), # connectivity\n",
    "                        #                    offset = (np.ones((2)) * 1).astype('int'), #4000/dx_m[dx]).astype('int'),\n",
    "                        #                    mask = image, # binary mask for areas to watershed on\n",
    "                        #                    compactness = 0) # high values --> more regular shaped watersheds\n",
    "        \n",
    "                        \n",
    "                        rgiObjectsUD = watersheding(updrafts, \n",
    "                                                     int(2000/dx_m_all[dx]), # int(4000/DT_all[dx]),\n",
    "                                                     draft_th[th])\n",
    "                        # filter out cores that are too small\n",
    "                        min_vol = 10  # grid cells\n",
    "                        unique_ids, count = np.unique(rgiObjectsUD, return_counts=True)\n",
    "                        rgiObjectsUD[np.isin(rgiObjectsUD, unique_ids[count < 10])] = 0\n",
    "                        \n",
    "                        # sort the objects according to their size\n",
    "                        Objects=ndimage.find_objects(rgiObjectsUD)                    \n",
    "                        \n",
    "                        if direction[di] == 'up':\n",
    "                            cores_vp_up_obs[str(draft_th[th]).zfill(2)+'_'+files[fi].split('/')[-1][:-4]] = core_2d_properties(Objects,\n",
    "                                          rgiObjectsUD,\n",
    "                                          updrafts,\n",
    "                                          cloudmask,\n",
    "                                          height_obs*1000,\n",
    "                                          time_to_length_obs[::bins_per_int][:rgiObjectsUD.shape[1]])\n",
    "                        elif direction[di] == 'down':\n",
    "                            cores_vp_down_obs[str(draft_th[th]).zfill(2)+'_'+files[fi].split('/')[-1][:-4]] = core_2d_properties(Objects,\n",
    "                                          rgiObjectsUD,\n",
    "                                          updrafts,\n",
    "                                          cloudmask,\n",
    "                                          height_obs*1000,\n",
    "                                          time_to_length_obs[::bins_per_int])\n",
    "            draft_stats = {\n",
    "                        \"cores_vp_up_obs\": cores_vp_up_obs,\n",
    "                        \"cores_vp_down_obs\": cores_vp_down_obs,\n",
    "                        \"speed_ca_median\": speed_ca_median,\n",
    "                    }\n",
    "            \n",
    "            with open(outfile, 'wb') as handle:\n",
    "                pickle.dump(draft_stats, handle)"
   ]
  },
  {
   "cell_type": "code",
   "execution_count": null,
   "metadata": {},
   "outputs": [],
   "source": [
    "outdir + files[fi].split('/')[-1][:-4] +'_'+ str(dx_m_all[dx]) +'m.pkl'"
   ]
  },
  {
   "cell_type": "code",
   "execution_count": null,
   "metadata": {},
   "outputs": [],
   "source": [
    "plt.pcolormesh(updrafts, vmin=-10, vmax =10, cmap='coolwarm')\n",
    "plt.xlim(2400,2550)"
   ]
  },
  {
   "cell_type": "code",
   "execution_count": null,
   "metadata": {},
   "outputs": [],
   "source": [
    "# gr_core_act['mean elevation'] = mean_height\n",
    "# gr_core_act['mean depth'] = core_height_mean\n",
    "# gr_core_act['max depth'] = core_heigth_max\n",
    "# gr_core_act['mean speed'] = core_speed_mean\n",
    "# gr_core_act['max speed'] = core_speed_max\n",
    "# gr_core_act['mean width'] = core_with_mean\n",
    "# gr_core_act['max width'] = core_with_max\n",
    "# gr_core_act['slope from vertical'] = core_slope\n",
    "\n",
    "stat = 'slope from vertical'\n",
    "th = '3.0' # [1.5,3.0,6.0,10.0]\n",
    "cores_vp = cores_vp_up_obs\n",
    "\n",
    "# cores_vp = cores_vp_down_obs\n",
    "\n",
    "mean_width_rwp = [\n",
    "                    [\n",
    "                        cores_vp[ii][jj][stat]\n",
    "                        for jj in cores_vp[ii].keys()\n",
    "                    ]\n",
    "                    for ii in [s for s in list(cores_vp.keys()) if th in s]\n",
    "                ]\n",
    "mean_width_rwp = np.array([x  for sublist in mean_width_rwp for x in sublist])"
   ]
  },
  {
   "cell_type": "code",
   "execution_count": null,
   "metadata": {},
   "outputs": [],
   "source": [
    "import seaborn as sns\n",
    "\n",
    "if stat == 'mean elevation':\n",
    "    newBins = np.arange(0,20000,500)\n",
    "elif stat == 'mean width':\n",
    "    newBins = np.arange(0,15000,1000)\n",
    "elif stat == 'mean speed':\n",
    "    newBins = np.arange(0,20,1)\n",
    "elif stat == 'max speed':\n",
    "    newBins = np.arange(0,20,1)\n",
    "elif stat == 'slope from vertical':\n",
    "    newBins = np.arange(-3,3.1,0.1)\n",
    "    \n",
    "fig = sns.distplot(mean_width_rwp, color=\"k\", label='RWP', bins=newBins)\n",
    "# sns.distplot(mean_width_vp, color=\"r\", label='virtual profiler', bins=newBins)\n",
    "# # sns.distplot( a=mean_width_vp, hist=True, kde=False, rug=False )\n",
    "# sns.distplot(mean_width_3d, color=\"b\", label='3D', bins=newBins)\n",
    "plt.xlabel(stat)\n",
    "plt.legend()\n",
    "plt.show()"
   ]
  },
  {
   "cell_type": "code",
   "execution_count": null,
   "metadata": {},
   "outputs": [],
   "source": []
  },
  {
   "cell_type": "code",
   "execution_count": null,
   "metadata": {},
   "outputs": [],
   "source": []
  },
  {
   "cell_type": "code",
   "execution_count": null,
   "metadata": {
    "tags": []
   },
   "outputs": [],
   "source": [
    "plt.pcolormesh(time_to_length_obs[::bins_per_int][:rgiObjectsUD.shape[1]]/1000, height_obs,\n",
    "               updrafts, cmap='coolwarm', vmin=-10, vmax=10)\n",
    "plt.xlim(400,500)"
   ]
  },
  {
   "cell_type": "code",
   "execution_count": null,
   "metadata": {
    "tags": []
   },
   "outputs": [],
   "source": [
    "plt.pcolormesh(time_to_length_obs[::bins_per_int][:rgiObjectsUD.shape[1]]/1000, height_obs,\n",
    "               rgiObjectsUD, cmap = plt.cm.nipy_spectral)\n",
    "plt.xlim(400,500)\n"
   ]
  },
  {
   "cell_type": "code",
   "execution_count": null,
   "metadata": {},
   "outputs": [],
   "source": [
    "plt.pcolormesh(time_to_length_obs[::bins_per_int][:rgiObjectsUD.shape[1]]/1000, height_obs,\n",
    "               rgiObjectsUD, cmap = plt.cm.nipy_spectral)\n",
    "plt.xlim(400,500)\n"
   ]
  },
  {
   "cell_type": "code",
   "execution_count": null,
   "metadata": {},
   "outputs": [],
   "source": [
    "height_obs"
   ]
  },
  {
   "cell_type": "code",
   "execution_count": null,
   "metadata": {},
   "outputs": [],
   "source": [
    "dx_m_all[dx]"
   ]
  },
  {
   "cell_type": "code",
   "execution_count": null,
   "metadata": {},
   "outputs": [],
   "source": [
    "plt.pcolormesh(filled_obs_clean)"
   ]
  },
  {
   "cell_type": "code",
   "execution_count": null,
   "metadata": {},
   "outputs": [],
   "source": [
    "plt.pcolormesh(updrafts[:,400:1000], cmap='coolwarm', vmin=-10, vmax=10)\n",
    "plt.contour(rgiObjectsUD[:,400:1000], colors='k', linewidths = 0.1)"
   ]
  },
  {
   "cell_type": "code",
   "execution_count": null,
   "metadata": {},
   "outputs": [],
   "source": []
  },
  {
   "cell_type": "code",
   "execution_count": null,
   "metadata": {},
   "outputs": [],
   "source": [
    "plt.pcolormesh(time_to_length_obs/1000., height_obs,\n",
    "               filled_obs_clean[:,:], \n",
    "               cmap='coolwarm', vmin=-10, vmax=10)\n",
    "plt.xlim([120,170])\n",
    "plt.show()\n"
   ]
  },
  {
   "cell_type": "code",
   "execution_count": null,
   "metadata": {},
   "outputs": [],
   "source": [
    "sim_draft = np.copy(updrafts)\n",
    "sim_draft[cloudmask!=1] = np.nan\n",
    "\n",
    "plt.pcolormesh(time_to_length[::bins_per_int][:rgiObjectsUD.shape[1]]/1000, \n",
    "               height,\n",
    "               sim_draft, \n",
    "               cmap='coolwarm', vmin=-10, vmax=10)\n",
    "plt.show()"
   ]
  },
  {
   "cell_type": "code",
   "execution_count": null,
   "metadata": {},
   "outputs": [],
   "source": [
    "cloudmask.shape"
   ]
  },
  {
   "cell_type": "code",
   "execution_count": null,
   "metadata": {},
   "outputs": [],
   "source": []
  },
  {
   "cell_type": "code",
   "execution_count": null,
   "metadata": {},
   "outputs": [],
   "source": [
    "grad_2d[0]"
   ]
  },
  {
   "cell_type": "code",
   "execution_count": null,
   "metadata": {},
   "outputs": [],
   "source": []
  },
  {
   "cell_type": "code",
   "execution_count": null,
   "metadata": {},
   "outputs": [],
   "source": [
    "plt.pcolormesh(w_3D[30,200:300,200:300])"
   ]
  },
  {
   "cell_type": "code",
   "execution_count": null,
   "metadata": {},
   "outputs": [],
   "source": [
    "plt.pcolormesh(rgiObjectsUD)"
   ]
  },
  {
   "cell_type": "code",
   "execution_count": null,
   "metadata": {},
   "outputs": [],
   "source": [
    "plt.pcolormesh(rgiObjectsUD[30,200:300,200:300])"
   ]
  },
  {
   "cell_type": "code",
   "execution_count": null,
   "metadata": {
    "tags": []
   },
   "outputs": [],
   "source": [
    "plt.pcolormesh(rgiObjectsUD[:60,250,:], cmap='coolwarm')"
   ]
  },
  {
   "cell_type": "code",
   "execution_count": null,
   "metadata": {},
   "outputs": [],
   "source": [
    "plt.pcolormesh(w_3D[:60,250,:], cmap='coolwarm', vmin=-20, vmax=20)"
   ]
  },
  {
   "cell_type": "code",
   "execution_count": null,
   "metadata": {},
   "outputs": [],
   "source": [
    "plt.pcolormesh(w_3D[30,:,:], cmap='coolwarm', vmin=-20, vmax = 20)"
   ]
  },
  {
   "cell_type": "code",
   "execution_count": null,
   "metadata": {},
   "outputs": [],
   "source": []
  },
  {
   "cell_type": "code",
   "execution_count": null,
   "metadata": {},
   "outputs": [],
   "source": []
  },
  {
   "cell_type": "code",
   "execution_count": null,
   "metadata": {
    "tags": []
   },
   "outputs": [],
   "source": [
    "plt.pcolormesh(time_to_length/1000., height, data_vp[time_vp,:,VARS.index('WW')].T, vmin=-25, vmax=25, cmap='coolwarm')\n",
    "plt.contour(time_to_length/1000., height, data_vp[time_vp,:,VARS.index('WW')].T > draft_th[th], colors = 'r')\n",
    "plt.contour(time_to_length/1000., height, data_vp[time_vp,:,VARS.index('WW')].T < -draft_th[th], colors = 'b')\n",
    "plt.contour(time_to_length/1000., height, \n",
    "               cloudmask[:,:] > 0, \n",
    "            colors='k')\n",
    "plt.show()"
   ]
  },
  {
   "cell_type": "code",
   "execution_count": null,
   "metadata": {},
   "outputs": [],
   "source": []
  },
  {
   "cell_type": "code",
   "execution_count": null,
   "metadata": {},
   "outputs": [],
   "source": []
  },
  {
   "cell_type": "code",
   "execution_count": null,
   "metadata": {},
   "outputs": [],
   "source": [
    "plt.pcolormesh(lon_m/1000., height, w_ca_comz[:,dx_dist,:], vmin=-25, vmax=25, cmap='coolwarm')\n",
    "plt.contour(lon_m/1000., height, w_ca_comz[:,dx_dist,:] > 3, colors = 'r')\n",
    "plt.contour(lon_m/1000., height, w_ca_comz[:,dx_dist,:] < -3, colors = 'b')\n",
    "# plt.contour(lon_m/1000., height, \n",
    "#                cloudmask > 0,\n",
    "#             colors='k')\n",
    "plt.axhline(y=height[40], color='k', linestyle='-')"
   ]
  },
  {
   "cell_type": "code",
   "execution_count": null,
   "metadata": {},
   "outputs": [],
   "source": [
    "hh = 30\n",
    "plt.pcolormesh(lat_m/1000., lon_m/1000., w_ca_comz[hh,:,:], vmin=-25, vmax=25, cmap='coolwarm')\n",
    "# plt.contour(lat_m/1000., lon_m/1000., w_ca_comz[hh,:,:] > 3, colors = 'r')\n",
    "# plt.contour(lat_m/1000., lon_m/1000., w_ca_comz[hh,:,:] < -3, colors = 'b')\n",
    "plt.axhline(y=0, color='k', linestyle='-')"
   ]
  },
  {
   "cell_type": "markdown",
   "metadata": {},
   "source": [
    "### Plot 3D watersheding example"
   ]
  },
  {
   "cell_type": "code",
   "execution_count": null,
   "metadata": {},
   "outputs": [],
   "source": [
    "import numpy as np\n",
    "from skimage.segmentation import watershed\n",
    "from skimage.feature import peak_local_max\n",
    "import matplotlib.pyplot as plt\n",
    "from scipy import ndimage\n",
    "\n",
    "tt=30\n",
    "image = w_ca_comz[:,:,:] > 3\n",
    "lat_cut = np.argmin(np.abs(lon_m/1000. - 25))\n",
    "\n",
    "distance = ndimage.distance_transform_edt(image)\n",
    "local_maxi = peak_local_max(\n",
    "    distance, footprint=np.ones((3, 3, 3)), labels=np.array(image),\n",
    "    min_distance=int(4000/dx_m[dx]), threshold_abs=1) # , indices=False\n",
    "\n",
    "peaks_mask = np.zeros_like(distance, dtype=bool)\n",
    "peaks_mask.T[local_maxi] = True\n",
    "\n",
    "markers = ndimage.label(peaks_mask)[0]\n",
    "\n",
    "labels = watersheding(np.array(image),  # 2D or 3D matrix with labeled objects [np.array]\n",
    "                 np.array(w_ca_comz[:,:,:]), # vertical wind field\n",
    "                   int(4000/dx_m[dx]),      # minimum distance between two objects [int]\n",
    "                   1)\n",
    "\n",
    "\n",
    "# # markers = ndimage.label(local_maxi)[0]\n",
    "# labels_orig = watershed(-distance, markers, mask=image)\n",
    "labels = np.copy(labels.astype(float))\n",
    "labels[labels == 0] = np.nan\n",
    "\n",
    "\n",
    "mpl.rcParams.update(mpl.rcParamsDefault)\n",
    "plt.rcParams.update({'font.size': 15})\n",
    "\n",
    "print('start plotting')\n",
    "\n",
    "fig = plt.figure(figsize=(14,15))\n",
    "# Histogram plots\n",
    "gs1 = gridspec.GridSpec(3,3) #rgiSize[2])\n",
    "gs1.update(left=0.06, right=0.97,\n",
    "           bottom=0.13, top=0.97,\n",
    "           wspace=0.15, hspace=0.25)\n",
    "\n",
    "ax = plt.subplot(gs1[0,0])\n",
    "plt.pcolormesh(lat_m/1000., lon_m/1000., image[tt,:,:]*-1, cmap='gray')\n",
    "plt.plot([10,40,40,10,10], [40,40,10,10,40], c='r')\n",
    "plt.plot([0,55], [lon_m[lat_cut]/1000, lon_m[lat_cut]/1000], c='k', ls='--')\n",
    "plt.title('a) updraft mask')\n",
    "ax.set_xlabel('Longitude [km]')\n",
    "ax.set_ylabel('latitude [km]')\n",
    "\n",
    "ax = plt.subplot(gs1[0,1])\n",
    "plt.pcolormesh(lat_m/1000., lon_m/1000., w_ca_comz[tt,:,:], vmin=-35, vmax=35, cmap='coolwarm')\n",
    "plt.plot([10,40,40,10,10], [40,40,10,10,40], c='r')\n",
    "plt.plot([0,55], [lon_m[lat_cut]/1000, lon_m[lat_cut]/1000], c='k', ls='--')\n",
    "plt.title('b) vertical wind speed')\n",
    "\n",
    "ax = plt.subplot(gs1[0,2])\n",
    "plt.pcolormesh(lat_m/1000., lon_m/1000., labels[tt,:,:], cmap=plt.cm.nipy_spectral, vmin=0, vmax=480)\n",
    "plt.plot([10,40,40,10,10], [40,40,10,10,40], c='r')\n",
    "plt.plot([0,55], [lon_m[lat_cut]/1000, lon_m[lat_cut]/1000], c='k', ls='--')\n",
    "plt.title('c) core segmentation')\n",
    "\n",
    "# --------------------------------------------\n",
    "print('    ZOOM INTO CONVECTIVE RETION')\n",
    "tt1 = tt - 0\n",
    "ax = plt.subplot(gs1[1,0])\n",
    "plt.pcolormesh(lat_m/1000., lon_m/1000., image[tt1,:,:]*-1, cmap='gray')\n",
    "plt.plot([0,55], [lon_m[lat_cut]/1000, lon_m[lat_cut]/1000], c='k', ls='--')\n",
    "plt.xlim(10, 40)\n",
    "plt.ylim(10, 40)\n",
    "plt.title('d) updraft mask zoom in')\n",
    "\n",
    "ax = plt.subplot(gs1[1,1])\n",
    "plt.pcolormesh(lat_m/1000., lon_m/1000., w_ca_comz[tt1,:,:], vmin=-35, vmax=35, cmap='coolwarm')\n",
    "plt.plot([0,55], [lon_m[lat_cut]/1000, lon_m[lat_cut]/1000], c='k', ls='--')\n",
    "plt.xlim(10, 40)\n",
    "plt.ylim(10, 40)\n",
    "plt.contour(lat_m/1000., lon_m/1000., labels[tt1,:,:], cmap=plt.cm.nipy_spectral)\n",
    "plt.title('e) vertical wind speed zoom in')\n",
    "\n",
    "ax = plt.subplot(gs1[1,2])\n",
    "plt.pcolormesh(lat_m/1000., lon_m/1000., labels[tt1,:,:], cmap=plt.cm.nipy_spectral, vmin=0, vmax=480)\n",
    "plt.plot([0,55], [lon_m[lat_cut]/1000, lon_m[lat_cut]/1000], c='k', ls='--')\n",
    "plt.xlim(10, 40)\n",
    "plt.ylim(10, 40)\n",
    "plt.title('f) core segmentation zoom in')\n",
    "\n",
    "\n",
    "# --------------------------------------------\n",
    "print('    VERTICAL CROSS SECTION')\n",
    "\n",
    "\n",
    "ax = plt.subplot(gs1[2,0])\n",
    "plt.pcolormesh(lon_m/1000., height/1000, image[:,lat_cut,:]*-1, cmap='gray')\n",
    "plt.axhline(y=height[tt]/1000, color='k', linestyle='--')\n",
    "plt.ylim(0, 17)\n",
    "plt.xlim(0, 55)\n",
    "ax.set_xlabel('Longitude [km]')\n",
    "ax.set_ylabel('height [km]')\n",
    "plt.title('g) updraft mask cross section')\n",
    "\n",
    "ax = plt.subplot(gs1[2,1])\n",
    "plt.pcolormesh(lon_m/1000., height/1000, w_ca_comz[:,lat_cut,:], cmap='coolwarm', vmin=-35, vmax=35)\n",
    "plt.contour(lon_m/1000., height/1000, dbz_ca_comz[:,lat_cut,:], colors = 'k', levels = [10])\n",
    "plt.axhline(y=height[tt]/1000, color='k', linestyle='--')\n",
    "plt.ylim(0, 17)\n",
    "plt.xlim(0, 55)\n",
    "plt.title('h) vertical wind cross section')\n",
    "\n",
    "ax = plt.subplot(gs1[2,2])\n",
    "plt.pcolormesh(lon_m/1000., height/1000, labels[:,lat_cut,:], cmap=plt.cm.nipy_spectral, vmin=0, vmax=480)\n",
    "plt.contour(lon_m/1000., height/1000, dbz_ca_comz[:,lat_cut,:], colors = 'k', levels = [10])\n",
    "plt.axhline(y=height[tt]/1000, color='k', linestyle='--')\n",
    "plt.ylim(0, 17)\n",
    "plt.xlim(0, 55)\n",
    "plt.title('i) core segmentation cross section')\n",
    "\n",
    "\n",
    "plt.show()\n",
    "# sPlotFile=''\n",
    "# sPlotName= 'Example-core-segmentation_MCS_'+SIM_All[si]+'.pdf'\n",
    "# if os.path.isdir(sPlotFile) != 1:\n",
    "#     subprocess.call([\"mkdir\",\"-p\",sPlotFile])\n",
    "# print( '        Plot map to: '+sPlotFile+sPlotName)\n",
    "# fig.savefig(sPlotFile+sPlotName, bbox_inches='tight') #, dpi=700)"
   ]
  },
  {
   "cell_type": "markdown",
   "metadata": {},
   "source": [
    "### Does 3D segmentation agree with 2D segmentation?"
   ]
  },
  {
   "cell_type": "code",
   "execution_count": null,
   "metadata": {
    "tags": []
   },
   "outputs": [],
   "source": [
    "crossection_w = w_ca_comz[:,lat_cut,:]\n",
    "crossection_w_th = crossection_w > 3\n",
    "\n",
    "rgiObjectsUD, nr_objectsUD = ndimage.label(crossection_w_th,structure=rgiObj_Struct[0,:,:])\n",
    "# watershedding\n",
    "rgiObjectsUD = watersheding(rgiObjectsUD, \n",
    "                            np.array(crossection_w),\n",
    "                             int(4000/dx_m[dx]),\n",
    "                             1)\n",
    "rgiObjectsUD = np.array(rgiObjectsUD).astype(float)\n",
    "rgiObjectsUD[rgiObjectsUD == 0] = np.nan"
   ]
  },
  {
   "cell_type": "code",
   "execution_count": null,
   "metadata": {},
   "outputs": [],
   "source": [
    "plt.pcolormesh(lon_m/1000., height, rgiObjectsUD, cmap=plt.cm.nipy_spectral)\n",
    "plt.axhline(y=height[40], color='k', linestyle='-')\n",
    "plt.show()"
   ]
  },
  {
   "cell_type": "code",
   "execution_count": null,
   "metadata": {},
   "outputs": [],
   "source": [
    "plt.pcolormesh(lon_m/1000., height, labels[:,lat_cut,:], cmap=plt.cm.nipy_spectral)\n",
    "plt.axhline(y=height[40], color='k', linestyle='-')\n",
    "plt.show()"
   ]
  },
  {
   "cell_type": "code",
   "execution_count": null,
   "metadata": {},
   "outputs": [],
   "source": []
  },
  {
   "cell_type": "code",
   "execution_count": null,
   "metadata": {},
   "outputs": [],
   "source": []
  },
  {
   "cell_type": "code",
   "execution_count": null,
   "metadata": {},
   "outputs": [],
   "source": []
  },
  {
   "cell_type": "code",
   "execution_count": null,
   "metadata": {},
   "outputs": [],
   "source": []
  },
  {
   "cell_type": "code",
   "execution_count": null,
   "metadata": {},
   "outputs": [],
   "source": [
    "dx_dist"
   ]
  },
  {
   "cell_type": "code",
   "execution_count": null,
   "metadata": {},
   "outputs": [],
   "source": [
    "core_mean_width"
   ]
  },
  {
   "cell_type": "code",
   "execution_count": null,
   "metadata": {},
   "outputs": [],
   "source": [
    "np.nanmean(np.nansum(core_dx, axis=1)) + np.nanmean(np.nansum(core_dx, axis=2))"
   ]
  },
  {
   "cell_type": "code",
   "execution_count": null,
   "metadata": {},
   "outputs": [],
   "source": [
    "np.nansum(core_dx, axis=1).shape"
   ]
  },
  {
   "cell_type": "code",
   "execution_count": null,
   "metadata": {},
   "outputs": [],
   "source": [
    "core_ouline_act"
   ]
  },
  {
   "cell_type": "code",
   "execution_count": null,
   "metadata": {},
   "outputs": [],
   "source": [
    "# # 3D core properties\n",
    "# th = 3\n",
    "# updrafts = w_ca_comz[:,:,:]  * dire_sign > 3 #draft_th[th]\n",
    "# rgiObjectsUD, nr_objectsUD = ndimage.label(updrafts,structure=rgiObj_Struct[:,:,:])\n",
    "# # sort the objects according to their size\n",
    "# Objects=ndimage.find_objects(rgiObjectsUD)\n",
    "\n",
    "# w_3D = np.copy(w_ca_comz[:,:,:])* dire_sign\n",
    "# if direction[di] == 'up':\n",
    "#     cores_3d_up = core_3d_properties(w_3D,\n",
    "#                       rgiObjectsUD,\n",
    "#                       Objects,\n",
    "#                       height,\n",
    "#                       lat_m,\n",
    "#                       lon_m)\n",
    "# elif direction[di] == 'down':\n",
    "#     cores_3d_down = core_3d_properties(w_3D,\n",
    "#                       rgiObjectsUD,\n",
    "#                       Objects,\n",
    "#                       height,\n",
    "#                       lat_m,\n",
    "#                       lon_m)\n"
   ]
  },
  {
   "cell_type": "code",
   "execution_count": null,
   "metadata": {},
   "outputs": [],
   "source": [
    "\n"
   ]
  },
  {
   "cell_type": "code",
   "execution_count": null,
   "metadata": {},
   "outputs": [],
   "source": []
  },
  {
   "cell_type": "code",
   "execution_count": null,
   "metadata": {},
   "outputs": [],
   "source": [
    "# cores_vp[location+'_'+conv_element] = core_2d_properties(Objects,\n",
    "#                           w_2D,\n",
    "#                           cloudmask.T,\n",
    "#                           height,\n",
    "#                           time_to_length)"
   ]
  },
  {
   "cell_type": "code",
   "execution_count": null,
   "metadata": {},
   "outputs": [],
   "source": [
    "# gr_core_act['mean elevation'] = mean_height\n",
    "# gr_core_act['mean depth'] = core_height_mean\n",
    "# gr_core_act['max depth'] = core_heigth_max\n",
    "# gr_core_act['mean speed'] = core_speed_mean\n",
    "# gr_core_act['max speed'] = core_speed_max\n",
    "# gr_core_act['mean width'] = core_with_mean\n",
    "# gr_core_act['max width'] = core_with_max\n",
    "# gr_core_act['slope from vertical'] = core_slope\n",
    "\n",
    "stat = 'mean width'\n",
    "th = '3.0' # [1.5,3.0,6.0,10.0]\n",
    "cores_2d = cores_2d_up\n",
    "cores_vp = cores_vp_up\n",
    "cores_3d = cores_3d_up\n",
    "\n",
    "\n",
    "\n",
    "mean_width_2d = np.array( [\n",
    "                            [\n",
    "                                cores_2d[ii][jj][stat]\n",
    "                                for jj in cores_2d[ii].keys()\n",
    "                            ]\n",
    "                            for ii in [s for s in list(cores_2d.keys()) if th in s]\n",
    "                        ])\n",
    "mean_width_2d = np.array([item for sublist in mean_width_2d for item in sublist])\n",
    "\n",
    "mean_width_vp = np.array( [\n",
    "                            [\n",
    "                                cores_vp[ii][jj][stat]\n",
    "                                for jj in cores_vp[ii].keys()\n",
    "                            ]\n",
    "                            for ii in [s for s in list(cores_vp.keys()) if th in s]\n",
    "                        ])\n",
    "mean_width_vp = np.array([item for sublist in mean_width_vp for item in sublist])\n",
    "\n",
    "mean_width_3d = np.array( [\n",
    "                            [\n",
    "                                cores_3d[ii][jj][stat]\n",
    "                                for jj in cores_3d[ii].keys()\n",
    "                            ]\n",
    "                            for ii in [s for s in list(cores_3d.keys()) if th in s]\n",
    "                        ])\n",
    "mean_width_3d = np.array([item for sublist in mean_width_3d for item in sublist])"
   ]
  },
  {
   "cell_type": "code",
   "execution_count": null,
   "metadata": {},
   "outputs": [],
   "source": [
    "import seaborn as sns\n",
    "fig = sns.kdeplot(mean_width_2d, shade=True, color=\"k\", clip=[0, 100000], label='2D')\n",
    "fig = sns.kdeplot(mean_width_vp, shade=True, color=\"r\", clip=[0, 100000], label='virtual profiler')\n",
    "fig = sns.kdeplot(mean_width_3d, shade=True, color=\"b\", clip=[0, 100000], label='3D')\n",
    "plt.legend()\n",
    "plt.show()"
   ]
  },
  {
   "cell_type": "code",
   "execution_count": null,
   "metadata": {},
   "outputs": [],
   "source": []
  },
  {
   "cell_type": "code",
   "execution_count": null,
   "metadata": {},
   "outputs": [],
   "source": [
    "mean_width_vp"
   ]
  },
  {
   "cell_type": "code",
   "execution_count": null,
   "metadata": {},
   "outputs": [],
   "source": [
    "# virtual profiler draft characteristics\n",
    "updrafts = DATA[time_vp,:,loc,VARS.index('WW')].T > 10\n",
    "rgiObjectsUD, nr_objectsUD = ndimage.label(updrafts,structure=rgiObj_Struct[0,:,:])\n",
    "\n",
    "# sort the objects according to their size\n",
    "Objects=ndimage.find_objects(rgiObjectsUD)\n",
    "# rgiVolObj=np.array([np.sum(rgiObjectsUD[Objects[ob]] == ob+1) for ob in range(nr_objectsUD)])"
   ]
  },
  {
   "cell_type": "code",
   "execution_count": null,
   "metadata": {
    "tags": []
   },
   "outputs": [],
   "source": [
    "\n",
    "w_2D = np.copy(DATA[time_vp,:,loc,VARS.index('WW')].T)\n",
    "gr_core = core_2d_properties(Objects,\n",
    "                  w_2D,\n",
    "                  cloudmask.T,\n",
    "                  height,\n",
    "                  time_to_length)"
   ]
  },
  {
   "cell_type": "code",
   "execution_count": null,
   "metadata": {},
   "outputs": [],
   "source": [
    "gr_core"
   ]
  },
  {
   "cell_type": "code",
   "execution_count": null,
   "metadata": {},
   "outputs": [],
   "source": []
  },
  {
   "cell_type": "code",
   "execution_count": null,
   "metadata": {},
   "outputs": [],
   "source": []
  },
  {
   "cell_type": "code",
   "execution_count": null,
   "metadata": {},
   "outputs": [],
   "source": []
  },
  {
   "cell_type": "code",
   "execution_count": null,
   "metadata": {},
   "outputs": [],
   "source": []
  },
  {
   "cell_type": "code",
   "execution_count": null,
   "metadata": {},
   "outputs": [],
   "source": [
    "plt.pcolormesh(lat_m / 1000., height,\n",
    "               dbz_ca[:,dx_dist,:], vmin=0, vmax=60, cmap='coolwarm')\n",
    "# plt.axvline(x=lon_vs_id[ii], c='k')"
   ]
  },
  {
   "cell_type": "code",
   "execution_count": null,
   "metadata": {},
   "outputs": [],
   "source": [
    "plt.pcolormesh(lat_m / 1000., height,\n",
    "               w_ca_comz[:,dx_dist,:], vmin=-25, vmax=25, cmap='coolwarm')\n",
    "# plt.axvline(x=lon_vs_id[ii], c='k')"
   ]
  },
  {
   "cell_type": "code",
   "execution_count": null,
   "metadata": {},
   "outputs": [],
   "source": [
    "plt.pcolormesh(lat_m / 1000.,\n",
    "               lon_m / 1000.,\n",
    "               w_ca[35,:,:], vmin=-25, vmax=25, cmap='coolwarm')\n",
    "plt.contour(lat_m / 1000.,\n",
    "               lon_m / 1000.,\n",
    "               w_ca[35,:,:], levels=[3], colors=['k'], linewidths = 0.5)\n",
    "plt.plot(0, 0, 'ok')"
   ]
  },
  {
   "cell_type": "code",
   "execution_count": null,
   "metadata": {},
   "outputs": [],
   "source": [
    "plt.pcolormesh(lat_m / 1000.,\n",
    "               lon_m / 1000.,\n",
    "               dbz_ca[35,:,:], vmin=0, vmax=60, cmap='coolwarm')\n",
    "plt.plot(0, 0, 'ok')"
   ]
  },
  {
   "cell_type": "code",
   "execution_count": null,
   "metadata": {},
   "outputs": [],
   "source": []
  },
  {
   "cell_type": "code",
   "execution_count": null,
   "metadata": {},
   "outputs": [],
   "source": [
    "files_int[fi]"
   ]
  },
  {
   "cell_type": "code",
   "execution_count": null,
   "metadata": {},
   "outputs": [],
   "source": [
    "plt.pcolormesh(lon,lat,dbz[10,:,:]>42, vmin=0, vmax=1, cmap = 'coolwarm')\n",
    "for ii in tqdm(range(len(lat_vs))):\n",
    "    plt.plot(lon_vs[ii], lat_vs[ii], 'ok')"
   ]
  },
  {
   "cell_type": "code",
   "execution_count": null,
   "metadata": {},
   "outputs": [],
   "source": [
    "plt.pcolormesh(lon,lat,dbz_smooth[15,:,:]>42, vmin=0, vmax=1, cmap = 'coolwarm')\n",
    "plt.plot(lon_vs[8], lat_vs[8], 'ok')"
   ]
  },
  {
   "cell_type": "code",
   "execution_count": null,
   "metadata": {},
   "outputs": [],
   "source": [
    "plt.pcolormesh(lon,lat,MS_objects[14,:,:], vmin=0, vmax=25, cmap = 'coolwarm')\n",
    "plt.plot(lon_vs[8], lat_vs[8], 'ok')"
   ]
  },
  {
   "cell_type": "code",
   "execution_count": null,
   "metadata": {},
   "outputs": [],
   "source": [
    "plt.pcolormesh(lon,lat,MS_objects[19,:,:], vmin=0, vmax=10, cmap = 'coolwarm')\n",
    "plt.plot(lon_vs[8], lat_vs[8], 'ok')"
   ]
  },
  {
   "cell_type": "code",
   "execution_count": null,
   "metadata": {},
   "outputs": [],
   "source": []
  },
  {
   "cell_type": "code",
   "execution_count": null,
   "metadata": {},
   "outputs": [],
   "source": []
  }
 ],
 "metadata": {
  "kernelspec": {
   "display_name": "Python 3 (ipykernel)",
   "language": "python",
   "name": "python3"
  },
  "language_info": {
   "codemirror_mode": {
    "name": "ipython",
    "version": 3
   },
   "file_extension": ".py",
   "mimetype": "text/x-python",
   "name": "python",
   "nbconvert_exporter": "python",
   "pygments_lexer": "ipython3",
   "version": "3.10.12"
  }
 },
 "nbformat": 4,
 "nbformat_minor": 4
}
